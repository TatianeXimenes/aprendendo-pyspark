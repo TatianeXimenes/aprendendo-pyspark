{
 "cells": [
  {
   "cell_type": "code",
   "execution_count": 29,
   "metadata": {
    "ExecuteTime": {
     "end_time": "2021-07-08T22:06:42.980105Z",
     "start_time": "2021-07-08T22:06:42.942635Z"
    }
   },
   "outputs": [],
   "source": [
    "import pyspark.sql.functions as F\n",
    "from pyspark.sql.types import *\n",
    "from pyspark.sql import Window\n",
    "import pandas as pd"
   ]
  },
  {
   "cell_type": "markdown",
   "metadata": {},
   "source": [
    "### Leitura de dados"
   ]
  },
  {
   "cell_type": "code",
   "execution_count": 4,
   "metadata": {
    "ExecuteTime": {
     "end_time": "2021-07-08T21:32:21.053189Z",
     "start_time": "2021-07-08T21:32:21.032683Z"
    }
   },
   "outputs": [],
   "source": [
    "linkage_path = 'tmp/exemplo_linkage_cases-brazil-cities-time.csv'"
   ]
  },
  {
   "cell_type": "code",
   "execution_count": 7,
   "metadata": {
    "ExecuteTime": {
     "end_time": "2021-07-08T21:32:45.258204Z",
     "start_time": "2021-07-08T21:32:44.713852Z"
    }
   },
   "outputs": [],
   "source": [
    "linkage = spark.read.csv(linkage_path, header=False)"
   ]
  },
  {
   "cell_type": "code",
   "execution_count": 8,
   "metadata": {
    "ExecuteTime": {
     "end_time": "2021-07-08T21:32:52.084294Z",
     "start_time": "2021-07-08T21:32:52.054309Z"
    }
   },
   "outputs": [
    {
     "name": "stdout",
     "output_type": "stream",
     "text": [
      "root\n",
      " |-- _c0: string (nullable = true)\n",
      " |-- _c1: string (nullable = true)\n",
      " |-- _c2: string (nullable = true)\n",
      " |-- _c3: string (nullable = true)\n",
      " |-- _c4: string (nullable = true)\n",
      " |-- _c5: string (nullable = true)\n",
      " |-- _c6: string (nullable = true)\n",
      " |-- _c7: string (nullable = true)\n",
      " |-- _c8: string (nullable = true)\n",
      " |-- _c9: string (nullable = true)\n",
      " |-- _c10: string (nullable = true)\n",
      " |-- _c11: string (nullable = true)\n",
      " |-- _c12: string (nullable = true)\n",
      "\n"
     ]
    }
   ],
   "source": [
    "linkage.printSchema()"
   ]
  },
  {
   "cell_type": "code",
   "execution_count": 13,
   "metadata": {
    "ExecuteTime": {
     "end_time": "2021-07-08T21:40:45.951212Z",
     "start_time": "2021-07-08T21:40:45.550501Z"
    }
   },
   "outputs": [],
   "source": [
    "# Renomeando colunas\n",
    "header = [\"id1\", \"id2\", \"city1\", \"city2\", \"regiao_saude1\", \"regiao_saude2\", \"codmun1\", \"codmun2\", \"date1\", \"date2\", \"epi_week1\", \"epi_week2\", \"score\"]\n",
    "for nome_antigo, novo_nome in zip(linkage.columns, header):\n",
    "    linkage = linkage.withColumnRenamed(nome_antigo, novo_nome)"
   ]
  },
  {
   "cell_type": "code",
   "execution_count": 14,
   "metadata": {
    "ExecuteTime": {
     "end_time": "2021-07-08T21:40:46.496066Z",
     "start_time": "2021-07-08T21:40:46.489425Z"
    }
   },
   "outputs": [
    {
     "name": "stdout",
     "output_type": "stream",
     "text": [
      "root\n",
      " |-- id1: string (nullable = true)\n",
      " |-- id2: string (nullable = true)\n",
      " |-- city1: string (nullable = true)\n",
      " |-- city2: string (nullable = true)\n",
      " |-- regiao_saude1: string (nullable = true)\n",
      " |-- regiao_saude2: string (nullable = true)\n",
      " |-- codmun1: string (nullable = true)\n",
      " |-- codmun2: string (nullable = true)\n",
      " |-- date1: string (nullable = true)\n",
      " |-- date2: string (nullable = true)\n",
      " |-- epi_week1: string (nullable = true)\n",
      " |-- epi_week2: string (nullable = true)\n",
      " |-- score: string (nullable = true)\n",
      "\n"
     ]
    }
   ],
   "source": [
    "linkage.printSchema()"
   ]
  },
  {
   "cell_type": "markdown",
   "metadata": {},
   "source": [
    "### Filtrando dados"
   ]
  },
  {
   "cell_type": "code",
   "execution_count": 17,
   "metadata": {
    "ExecuteTime": {
     "end_time": "2021-07-08T21:50:10.922912Z",
     "start_time": "2021-07-08T21:50:10.297613Z"
    }
   },
   "outputs": [
    {
     "data": {
      "text/html": [
       "<div>\n",
       "<style scoped>\n",
       "    .dataframe tbody tr th:only-of-type {\n",
       "        vertical-align: middle;\n",
       "    }\n",
       "\n",
       "    .dataframe tbody tr th {\n",
       "        vertical-align: top;\n",
       "    }\n",
       "\n",
       "    .dataframe thead th {\n",
       "        text-align: right;\n",
       "    }\n",
       "</style>\n",
       "<table border=\"1\" class=\"dataframe\">\n",
       "  <thead>\n",
       "    <tr style=\"text-align: right;\">\n",
       "      <th></th>\n",
       "      <th>id1</th>\n",
       "      <th>id2</th>\n",
       "      <th>city1</th>\n",
       "      <th>city2</th>\n",
       "      <th>regiao_saude1</th>\n",
       "      <th>regiao_saude2</th>\n",
       "      <th>codmun1</th>\n",
       "      <th>codmun2</th>\n",
       "      <th>date1</th>\n",
       "      <th>date2</th>\n",
       "      <th>epi_week1</th>\n",
       "      <th>epi_week2</th>\n",
       "      <th>score</th>\n",
       "    </tr>\n",
       "  </thead>\n",
       "  <tbody>\n",
       "    <tr>\n",
       "      <th>0</th>\n",
       "      <td>0</td>\n",
       "      <td>0</td>\n",
       "      <td>São Paulo/SP</td>\n",
       "      <td>São Paulo/SP</td>\n",
       "      <td>São Paulo</td>\n",
       "      <td>São Paulo</td>\n",
       "      <td>355030</td>\n",
       "      <td>355030</td>\n",
       "      <td>20200225</td>\n",
       "      <td>20200225</td>\n",
       "      <td>9</td>\n",
       "      <td>9</td>\n",
       "      <td>1.0</td>\n",
       "    </tr>\n",
       "    <tr>\n",
       "      <th>1</th>\n",
       "      <td>2</td>\n",
       "      <td>2</td>\n",
       "      <td>São Paulo/SP</td>\n",
       "      <td>São Paulo/SP</td>\n",
       "      <td>São Paulo</td>\n",
       "      <td>São Paulo</td>\n",
       "      <td>355030</td>\n",
       "      <td>355030</td>\n",
       "      <td>20200226</td>\n",
       "      <td>20200226</td>\n",
       "      <td>9</td>\n",
       "      <td>9</td>\n",
       "      <td>1.0</td>\n",
       "    </tr>\n",
       "    <tr>\n",
       "      <th>2</th>\n",
       "      <td>4</td>\n",
       "      <td>4</td>\n",
       "      <td>São Paulo/SP</td>\n",
       "      <td>São Paulo/SP</td>\n",
       "      <td>São Paulo</td>\n",
       "      <td>São Paulo</td>\n",
       "      <td>355030</td>\n",
       "      <td>355030</td>\n",
       "      <td>20200227</td>\n",
       "      <td>20200227</td>\n",
       "      <td>9</td>\n",
       "      <td>9</td>\n",
       "      <td>1.0</td>\n",
       "    </tr>\n",
       "    <tr>\n",
       "      <th>3</th>\n",
       "      <td>6</td>\n",
       "      <td>6</td>\n",
       "      <td>São Paulo/SP</td>\n",
       "      <td>São Paulo/SP</td>\n",
       "      <td>São Paulo</td>\n",
       "      <td>São Paulo</td>\n",
       "      <td>355030</td>\n",
       "      <td>355030</td>\n",
       "      <td>20200228</td>\n",
       "      <td>20200228</td>\n",
       "      <td>9</td>\n",
       "      <td>9</td>\n",
       "      <td>1.0</td>\n",
       "    </tr>\n",
       "    <tr>\n",
       "      <th>4</th>\n",
       "      <td>1</td>\n",
       "      <td>1</td>\n",
       "      <td>TOTAL</td>\n",
       "      <td>TOTAL</td>\n",
       "      <td>None</td>\n",
       "      <td>None</td>\n",
       "      <td>0</td>\n",
       "      <td>0</td>\n",
       "      <td>20200225</td>\n",
       "      <td>20200225</td>\n",
       "      <td>9</td>\n",
       "      <td>9</td>\n",
       "      <td>0.7237569060773481</td>\n",
       "    </tr>\n",
       "    <tr>\n",
       "      <th>5</th>\n",
       "      <td>5</td>\n",
       "      <td>5</td>\n",
       "      <td>TOTAL</td>\n",
       "      <td>TOTAL</td>\n",
       "      <td>None</td>\n",
       "      <td>None</td>\n",
       "      <td>0</td>\n",
       "      <td>0</td>\n",
       "      <td>20200227</td>\n",
       "      <td>20200227</td>\n",
       "      <td>9</td>\n",
       "      <td>9</td>\n",
       "      <td>0.7237569060773481</td>\n",
       "    </tr>\n",
       "    <tr>\n",
       "      <th>6</th>\n",
       "      <td>3</td>\n",
       "      <td>3</td>\n",
       "      <td>TOTAL</td>\n",
       "      <td>TOTAL</td>\n",
       "      <td>None</td>\n",
       "      <td>None</td>\n",
       "      <td>0</td>\n",
       "      <td>0</td>\n",
       "      <td>20200226</td>\n",
       "      <td>20200226</td>\n",
       "      <td>9</td>\n",
       "      <td>9</td>\n",
       "      <td>0.7237569060773481</td>\n",
       "    </tr>\n",
       "    <tr>\n",
       "      <th>7</th>\n",
       "      <td>8</td>\n",
       "      <td>8</td>\n",
       "      <td>São Paulo/SP</td>\n",
       "      <td>São Paulo/SP</td>\n",
       "      <td>São Paulo</td>\n",
       "      <td>São Paulo</td>\n",
       "      <td>355030</td>\n",
       "      <td>355030</td>\n",
       "      <td>20200229</td>\n",
       "      <td>20200229</td>\n",
       "      <td>9</td>\n",
       "      <td>9</td>\n",
       "      <td>1.0</td>\n",
       "    </tr>\n",
       "    <tr>\n",
       "      <th>8</th>\n",
       "      <td>7</td>\n",
       "      <td>7</td>\n",
       "      <td>TOTAL</td>\n",
       "      <td>TOTAL</td>\n",
       "      <td>None</td>\n",
       "      <td>None</td>\n",
       "      <td>0</td>\n",
       "      <td>0</td>\n",
       "      <td>20200228</td>\n",
       "      <td>20200228</td>\n",
       "      <td>9</td>\n",
       "      <td>9</td>\n",
       "      <td>0.7237569060773481</td>\n",
       "    </tr>\n",
       "    <tr>\n",
       "      <th>9</th>\n",
       "      <td>10</td>\n",
       "      <td>10</td>\n",
       "      <td>São Paulo/SP</td>\n",
       "      <td>São Paulo/SP</td>\n",
       "      <td>São Paulo</td>\n",
       "      <td>São Paulo</td>\n",
       "      <td>355030</td>\n",
       "      <td>355030</td>\n",
       "      <td>20200301</td>\n",
       "      <td>20200301</td>\n",
       "      <td>10</td>\n",
       "      <td>10</td>\n",
       "      <td>1.0</td>\n",
       "    </tr>\n",
       "  </tbody>\n",
       "</table>\n",
       "</div>"
      ],
      "text/plain": [
       "  id1 id2         city1         city2 regiao_saude1 regiao_saude2 codmun1  \\\n",
       "0   0   0  São Paulo/SP  São Paulo/SP     São Paulo     São Paulo  355030   \n",
       "1   2   2  São Paulo/SP  São Paulo/SP     São Paulo     São Paulo  355030   \n",
       "2   4   4  São Paulo/SP  São Paulo/SP     São Paulo     São Paulo  355030   \n",
       "3   6   6  São Paulo/SP  São Paulo/SP     São Paulo     São Paulo  355030   \n",
       "4   1   1         TOTAL         TOTAL          None          None       0   \n",
       "5   5   5         TOTAL         TOTAL          None          None       0   \n",
       "6   3   3         TOTAL         TOTAL          None          None       0   \n",
       "7   8   8  São Paulo/SP  São Paulo/SP     São Paulo     São Paulo  355030   \n",
       "8   7   7         TOTAL         TOTAL          None          None       0   \n",
       "9  10  10  São Paulo/SP  São Paulo/SP     São Paulo     São Paulo  355030   \n",
       "\n",
       "  codmun2     date1     date2 epi_week1 epi_week2               score  \n",
       "0  355030  20200225  20200225         9         9                 1.0  \n",
       "1  355030  20200226  20200226         9         9                 1.0  \n",
       "2  355030  20200227  20200227         9         9                 1.0  \n",
       "3  355030  20200228  20200228         9         9                 1.0  \n",
       "4       0  20200225  20200225         9         9  0.7237569060773481  \n",
       "5       0  20200227  20200227         9         9  0.7237569060773481  \n",
       "6       0  20200226  20200226         9         9  0.7237569060773481  \n",
       "7  355030  20200229  20200229         9         9                 1.0  \n",
       "8       0  20200228  20200228         9         9  0.7237569060773481  \n",
       "9  355030  20200301  20200301        10        10                 1.0  "
      ]
     },
     "execution_count": 17,
     "metadata": {},
     "output_type": "execute_result"
    }
   ],
   "source": [
    "linkage.limit(10).toPandas()"
   ]
  },
  {
   "cell_type": "code",
   "execution_count": 24,
   "metadata": {
    "ExecuteTime": {
     "end_time": "2021-07-08T21:56:09.444725Z",
     "start_time": "2021-07-08T21:56:09.406604Z"
    }
   },
   "outputs": [],
   "source": [
    "# linkage = linkage.sample(0.25).cache()\n",
    "# linkage = linkage.limit(100).cache()"
   ]
  },
  {
   "cell_type": "code",
   "execution_count": 30,
   "metadata": {
    "ExecuteTime": {
     "end_time": "2021-07-08T22:06:48.944687Z",
     "start_time": "2021-07-08T22:06:48.646270Z"
    }
   },
   "outputs": [],
   "source": [
    "# Converter o tipo correto\n",
    "linkage = linkage.withColumn('score', F.col('score').cast(DoubleType()))"
   ]
  },
  {
   "cell_type": "code",
   "execution_count": 31,
   "metadata": {
    "ExecuteTime": {
     "end_time": "2021-07-08T22:06:53.333612Z",
     "start_time": "2021-07-08T22:06:53.310267Z"
    }
   },
   "outputs": [
    {
     "name": "stdout",
     "output_type": "stream",
     "text": [
      "root\n",
      " |-- id1: string (nullable = true)\n",
      " |-- id2: string (nullable = true)\n",
      " |-- city1: string (nullable = true)\n",
      " |-- city2: string (nullable = true)\n",
      " |-- regiao_saude1: string (nullable = true)\n",
      " |-- regiao_saude2: string (nullable = true)\n",
      " |-- codmun1: string (nullable = true)\n",
      " |-- codmun2: string (nullable = true)\n",
      " |-- date1: string (nullable = true)\n",
      " |-- date2: string (nullable = true)\n",
      " |-- epi_week1: string (nullable = true)\n",
      " |-- epi_week2: string (nullable = true)\n",
      " |-- score: double (nullable = true)\n",
      "\n"
     ]
    }
   ],
   "source": [
    "linkage.printSchema()"
   ]
  },
  {
   "cell_type": "code",
   "execution_count": 32,
   "metadata": {
    "ExecuteTime": {
     "end_time": "2021-07-08T22:07:19.970016Z",
     "start_time": "2021-07-08T22:07:19.060380Z"
    }
   },
   "outputs": [
    {
     "data": {
      "text/html": [
       "<div>\n",
       "<style scoped>\n",
       "    .dataframe tbody tr th:only-of-type {\n",
       "        vertical-align: middle;\n",
       "    }\n",
       "\n",
       "    .dataframe tbody tr th {\n",
       "        vertical-align: top;\n",
       "    }\n",
       "\n",
       "    .dataframe thead th {\n",
       "        text-align: right;\n",
       "    }\n",
       "</style>\n",
       "<table border=\"1\" class=\"dataframe\">\n",
       "  <thead>\n",
       "    <tr style=\"text-align: right;\">\n",
       "      <th></th>\n",
       "      <th>score</th>\n",
       "    </tr>\n",
       "    <tr>\n",
       "      <th>summary</th>\n",
       "      <th></th>\n",
       "    </tr>\n",
       "  </thead>\n",
       "  <tbody>\n",
       "    <tr>\n",
       "      <th>count</th>\n",
       "      <td>97</td>\n",
       "    </tr>\n",
       "    <tr>\n",
       "      <th>mean</th>\n",
       "      <td>0.957281995785157</td>\n",
       "    </tr>\n",
       "    <tr>\n",
       "      <th>stddev</th>\n",
       "      <td>0.1003974082159323</td>\n",
       "    </tr>\n",
       "    <tr>\n",
       "      <th>min</th>\n",
       "      <td>0.7237569060773481</td>\n",
       "    </tr>\n",
       "    <tr>\n",
       "      <th>25%</th>\n",
       "      <td>1.0</td>\n",
       "    </tr>\n",
       "    <tr>\n",
       "      <th>50%</th>\n",
       "      <td>1.0</td>\n",
       "    </tr>\n",
       "    <tr>\n",
       "      <th>75%</th>\n",
       "      <td>1.0</td>\n",
       "    </tr>\n",
       "    <tr>\n",
       "      <th>max</th>\n",
       "      <td>1.0</td>\n",
       "    </tr>\n",
       "  </tbody>\n",
       "</table>\n",
       "</div>"
      ],
      "text/plain": [
       "                      score\n",
       "summary                    \n",
       "count                    97\n",
       "mean      0.957281995785157\n",
       "stddev   0.1003974082159323\n",
       "min      0.7237569060773481\n",
       "25%                     1.0\n",
       "50%                     1.0\n",
       "75%                     1.0\n",
       "max                     1.0"
      ]
     },
     "execution_count": 32,
     "metadata": {},
     "output_type": "execute_result"
    }
   ],
   "source": [
    "# Descrição dos dados\n",
    "linkage.select('score').summary().toPandas().set_index('summary') #.T"
   ]
  },
  {
   "cell_type": "code",
   "execution_count": 34,
   "metadata": {
    "ExecuteTime": {
     "end_time": "2021-07-08T22:10:42.289444Z",
     "start_time": "2021-07-08T22:10:41.686225Z"
    }
   },
   "outputs": [
    {
     "name": "stdout",
     "output_type": "stream",
     "text": [
      "+---------------+-----+\n",
      "|round(score, 1)|count|\n",
      "+---------------+-----+\n",
      "|            1.0|   82|\n",
      "|            0.7|   15|\n",
      "|           null|    3|\n",
      "+---------------+-----+\n",
      "\n"
     ]
    }
   ],
   "source": [
    "# Distribuição dos dados\n",
    "linkage.groupBy(F.round('score', 1)).count().show()"
   ]
  },
  {
   "cell_type": "markdown",
   "metadata": {},
   "source": [
    "### Extraindo dados de colunas\n",
    "* Dia, mes, ano\n",
    "* Extraindo o estado do municipio"
   ]
  },
  {
   "cell_type": "code",
   "execution_count": 36,
   "metadata": {
    "ExecuteTime": {
     "end_time": "2021-07-08T22:13:08.670907Z",
     "start_time": "2021-07-08T22:13:08.418666Z"
    }
   },
   "outputs": [
    {
     "data": {
      "text/html": [
       "<div>\n",
       "<style scoped>\n",
       "    .dataframe tbody tr th:only-of-type {\n",
       "        vertical-align: middle;\n",
       "    }\n",
       "\n",
       "    .dataframe tbody tr th {\n",
       "        vertical-align: top;\n",
       "    }\n",
       "\n",
       "    .dataframe thead th {\n",
       "        text-align: right;\n",
       "    }\n",
       "</style>\n",
       "<table border=\"1\" class=\"dataframe\">\n",
       "  <thead>\n",
       "    <tr style=\"text-align: right;\">\n",
       "      <th></th>\n",
       "      <th>id1</th>\n",
       "      <th>id2</th>\n",
       "      <th>city1</th>\n",
       "      <th>city2</th>\n",
       "      <th>regiao_saude1</th>\n",
       "      <th>regiao_saude2</th>\n",
       "      <th>codmun1</th>\n",
       "      <th>codmun2</th>\n",
       "      <th>date1</th>\n",
       "      <th>date2</th>\n",
       "      <th>epi_week1</th>\n",
       "      <th>epi_week2</th>\n",
       "      <th>score</th>\n",
       "    </tr>\n",
       "  </thead>\n",
       "  <tbody>\n",
       "    <tr>\n",
       "      <th>0</th>\n",
       "      <td>2</td>\n",
       "      <td>2</td>\n",
       "      <td>São Paulo/SP</td>\n",
       "      <td>São Paulo/SP</td>\n",
       "      <td>São Paulo</td>\n",
       "      <td>São Paulo</td>\n",
       "      <td>355030</td>\n",
       "      <td>355030</td>\n",
       "      <td>20200226</td>\n",
       "      <td>20200226</td>\n",
       "      <td>9</td>\n",
       "      <td>9</td>\n",
       "      <td>1.000000</td>\n",
       "    </tr>\n",
       "    <tr>\n",
       "      <th>1</th>\n",
       "      <td>7</td>\n",
       "      <td>7</td>\n",
       "      <td>TOTAL</td>\n",
       "      <td>TOTAL</td>\n",
       "      <td>None</td>\n",
       "      <td>None</td>\n",
       "      <td>0</td>\n",
       "      <td>0</td>\n",
       "      <td>20200228</td>\n",
       "      <td>20200228</td>\n",
       "      <td>9</td>\n",
       "      <td>9</td>\n",
       "      <td>0.723757</td>\n",
       "    </tr>\n",
       "    <tr>\n",
       "      <th>2</th>\n",
       "      <td>10</td>\n",
       "      <td>10</td>\n",
       "      <td>São Paulo/SP</td>\n",
       "      <td>São Paulo/SP</td>\n",
       "      <td>São Paulo</td>\n",
       "      <td>São Paulo</td>\n",
       "      <td>355030</td>\n",
       "      <td>355030</td>\n",
       "      <td>20200301</td>\n",
       "      <td>20200301</td>\n",
       "      <td>10</td>\n",
       "      <td>10</td>\n",
       "      <td>1.000000</td>\n",
       "    </tr>\n",
       "    <tr>\n",
       "      <th>3</th>\n",
       "      <td>14</td>\n",
       "      <td>14</td>\n",
       "      <td>São Paulo/SP</td>\n",
       "      <td>São Paulo/SP</td>\n",
       "      <td>São Paulo</td>\n",
       "      <td>São Paulo</td>\n",
       "      <td>355030</td>\n",
       "      <td>355030</td>\n",
       "      <td>20200303</td>\n",
       "      <td>20200303</td>\n",
       "      <td>10</td>\n",
       "      <td>10</td>\n",
       "      <td>1.000000</td>\n",
       "    </tr>\n",
       "    <tr>\n",
       "      <th>4</th>\n",
       "      <td>13</td>\n",
       "      <td>13</td>\n",
       "      <td>TOTAL</td>\n",
       "      <td>TOTAL</td>\n",
       "      <td>None</td>\n",
       "      <td>None</td>\n",
       "      <td>0</td>\n",
       "      <td>0</td>\n",
       "      <td>20200302</td>\n",
       "      <td>20200302</td>\n",
       "      <td>10</td>\n",
       "      <td>10</td>\n",
       "      <td>0.723757</td>\n",
       "    </tr>\n",
       "    <tr>\n",
       "      <th>...</th>\n",
       "      <td>...</td>\n",
       "      <td>...</td>\n",
       "      <td>...</td>\n",
       "      <td>...</td>\n",
       "      <td>...</td>\n",
       "      <td>...</td>\n",
       "      <td>...</td>\n",
       "      <td>...</td>\n",
       "      <td>...</td>\n",
       "      <td>...</td>\n",
       "      <td>...</td>\n",
       "      <td>...</td>\n",
       "      <td>...</td>\n",
       "    </tr>\n",
       "    <tr>\n",
       "      <th>95</th>\n",
       "      <td>400</td>\n",
       "      <td>400</td>\n",
       "      <td>Belo Jardim/PE</td>\n",
       "      <td>Belo Jardim/PE</td>\n",
       "      <td>Caruaru</td>\n",
       "      <td>Caruaru</td>\n",
       "      <td>260170</td>\n",
       "      <td>260170</td>\n",
       "      <td>20200319</td>\n",
       "      <td>20200319</td>\n",
       "      <td>12</td>\n",
       "      <td>12</td>\n",
       "      <td>1.000000</td>\n",
       "    </tr>\n",
       "    <tr>\n",
       "      <th>96</th>\n",
       "      <td>410</td>\n",
       "      <td>410</td>\n",
       "      <td>Campo Grande/MS</td>\n",
       "      <td>Campo Grande/MS</td>\n",
       "      <td>Campo Grande</td>\n",
       "      <td>Campo Grande</td>\n",
       "      <td>500270</td>\n",
       "      <td>500270</td>\n",
       "      <td>20200319</td>\n",
       "      <td>20200319</td>\n",
       "      <td>12</td>\n",
       "      <td>12</td>\n",
       "      <td>1.000000</td>\n",
       "    </tr>\n",
       "    <tr>\n",
       "      <th>97</th>\n",
       "      <td>413</td>\n",
       "      <td>413</td>\n",
       "      <td>Caxias do Sul/RS</td>\n",
       "      <td>Caxias do Sul/RS</td>\n",
       "      <td>Região 23 - Caxias e Hortênsias</td>\n",
       "      <td>Região 23 - Caxias e Hortênsias</td>\n",
       "      <td>430510</td>\n",
       "      <td>430510</td>\n",
       "      <td>20200319</td>\n",
       "      <td>20200319</td>\n",
       "      <td>12</td>\n",
       "      <td>12</td>\n",
       "      <td>1.000000</td>\n",
       "    </tr>\n",
       "    <tr>\n",
       "      <th>98</th>\n",
       "      <td>416</td>\n",
       "      <td>416</td>\n",
       "      <td>Cotia/SP</td>\n",
       "      <td>Cotia/SP</td>\n",
       "      <td>Mananciais</td>\n",
       "      <td>Mananciais</td>\n",
       "      <td>351300</td>\n",
       "      <td>351300</td>\n",
       "      <td>20200319</td>\n",
       "      <td>20200319</td>\n",
       "      <td>12</td>\n",
       "      <td>12</td>\n",
       "      <td>1.000000</td>\n",
       "    </tr>\n",
       "    <tr>\n",
       "      <th>99</th>\n",
       "      <td>419</td>\n",
       "      <td>419</td>\n",
       "      <td>Erechim/RS</td>\n",
       "      <td>Erechim/RS</td>\n",
       "      <td>Região 16 - Alto Uruguai Gaúcho</td>\n",
       "      <td>Região 16 - Alto Uruguai Gaúcho</td>\n",
       "      <td>430700</td>\n",
       "      <td>430700</td>\n",
       "      <td>20200319</td>\n",
       "      <td>20200319</td>\n",
       "      <td>12</td>\n",
       "      <td>12</td>\n",
       "      <td>1.000000</td>\n",
       "    </tr>\n",
       "  </tbody>\n",
       "</table>\n",
       "<p>100 rows × 13 columns</p>\n",
       "</div>"
      ],
      "text/plain": [
       "    id1  id2             city1             city2  \\\n",
       "0     2    2      São Paulo/SP      São Paulo/SP   \n",
       "1     7    7             TOTAL             TOTAL   \n",
       "2    10   10      São Paulo/SP      São Paulo/SP   \n",
       "3    14   14      São Paulo/SP      São Paulo/SP   \n",
       "4    13   13             TOTAL             TOTAL   \n",
       "..  ...  ...               ...               ...   \n",
       "95  400  400    Belo Jardim/PE    Belo Jardim/PE   \n",
       "96  410  410   Campo Grande/MS   Campo Grande/MS   \n",
       "97  413  413  Caxias do Sul/RS  Caxias do Sul/RS   \n",
       "98  416  416          Cotia/SP          Cotia/SP   \n",
       "99  419  419        Erechim/RS        Erechim/RS   \n",
       "\n",
       "                      regiao_saude1                    regiao_saude2 codmun1  \\\n",
       "0                         São Paulo                        São Paulo  355030   \n",
       "1                              None                             None       0   \n",
       "2                         São Paulo                        São Paulo  355030   \n",
       "3                         São Paulo                        São Paulo  355030   \n",
       "4                              None                             None       0   \n",
       "..                              ...                              ...     ...   \n",
       "95                          Caruaru                          Caruaru  260170   \n",
       "96                     Campo Grande                     Campo Grande  500270   \n",
       "97  Região 23 - Caxias e Hortênsias  Região 23 - Caxias e Hortênsias  430510   \n",
       "98                       Mananciais                       Mananciais  351300   \n",
       "99  Região 16 - Alto Uruguai Gaúcho  Região 16 - Alto Uruguai Gaúcho  430700   \n",
       "\n",
       "   codmun2     date1     date2 epi_week1 epi_week2     score  \n",
       "0   355030  20200226  20200226         9         9  1.000000  \n",
       "1        0  20200228  20200228         9         9  0.723757  \n",
       "2   355030  20200301  20200301        10        10  1.000000  \n",
       "3   355030  20200303  20200303        10        10  1.000000  \n",
       "4        0  20200302  20200302        10        10  0.723757  \n",
       "..     ...       ...       ...       ...       ...       ...  \n",
       "95  260170  20200319  20200319        12        12  1.000000  \n",
       "96  500270  20200319  20200319        12        12  1.000000  \n",
       "97  430510  20200319  20200319        12        12  1.000000  \n",
       "98  351300  20200319  20200319        12        12  1.000000  \n",
       "99  430700  20200319  20200319        12        12  1.000000  \n",
       "\n",
       "[100 rows x 13 columns]"
      ]
     },
     "execution_count": 36,
     "metadata": {},
     "output_type": "execute_result"
    }
   ],
   "source": [
    "linkage.limit(10).toPandas()"
   ]
  },
  {
   "cell_type": "code",
   "execution_count": 45,
   "metadata": {
    "ExecuteTime": {
     "end_time": "2021-07-08T22:22:07.148950Z",
     "start_time": "2021-07-08T22:22:07.026610Z"
    }
   },
   "outputs": [],
   "source": [
    "linkage = linkage.withColumn('dia', F.substring('date1', 7, 2))\n",
    "linkage = linkage.withColumn('mes', F.substring('date1', 5, 2))\n",
    "linkage = linkage.withColumn('ano', F.substring('date1', 1, 4))"
   ]
  },
  {
   "cell_type": "code",
   "execution_count": 46,
   "metadata": {
    "ExecuteTime": {
     "end_time": "2021-07-08T22:22:07.719375Z",
     "start_time": "2021-07-08T22:22:07.378191Z"
    }
   },
   "outputs": [
    {
     "data": {
      "text/html": [
       "<div>\n",
       "<style scoped>\n",
       "    .dataframe tbody tr th:only-of-type {\n",
       "        vertical-align: middle;\n",
       "    }\n",
       "\n",
       "    .dataframe tbody tr th {\n",
       "        vertical-align: top;\n",
       "    }\n",
       "\n",
       "    .dataframe thead th {\n",
       "        text-align: right;\n",
       "    }\n",
       "</style>\n",
       "<table border=\"1\" class=\"dataframe\">\n",
       "  <thead>\n",
       "    <tr style=\"text-align: right;\">\n",
       "      <th></th>\n",
       "      <th>date1</th>\n",
       "      <th>ano</th>\n",
       "      <th>mes</th>\n",
       "      <th>dia</th>\n",
       "    </tr>\n",
       "  </thead>\n",
       "  <tbody>\n",
       "    <tr>\n",
       "      <th>0</th>\n",
       "      <td>20200226</td>\n",
       "      <td>2020</td>\n",
       "      <td>02</td>\n",
       "      <td>26</td>\n",
       "    </tr>\n",
       "    <tr>\n",
       "      <th>1</th>\n",
       "      <td>20200228</td>\n",
       "      <td>2020</td>\n",
       "      <td>02</td>\n",
       "      <td>28</td>\n",
       "    </tr>\n",
       "    <tr>\n",
       "      <th>2</th>\n",
       "      <td>20200301</td>\n",
       "      <td>2020</td>\n",
       "      <td>03</td>\n",
       "      <td>01</td>\n",
       "    </tr>\n",
       "    <tr>\n",
       "      <th>3</th>\n",
       "      <td>20200303</td>\n",
       "      <td>2020</td>\n",
       "      <td>03</td>\n",
       "      <td>03</td>\n",
       "    </tr>\n",
       "    <tr>\n",
       "      <th>4</th>\n",
       "      <td>20200302</td>\n",
       "      <td>2020</td>\n",
       "      <td>03</td>\n",
       "      <td>02</td>\n",
       "    </tr>\n",
       "    <tr>\n",
       "      <th>5</th>\n",
       "      <td>20200301</td>\n",
       "      <td>2020</td>\n",
       "      <td>03</td>\n",
       "      <td>01</td>\n",
       "    </tr>\n",
       "    <tr>\n",
       "      <th>6</th>\n",
       "      <td>20200305</td>\n",
       "      <td>2020</td>\n",
       "      <td>03</td>\n",
       "      <td>05</td>\n",
       "    </tr>\n",
       "    <tr>\n",
       "      <th>7</th>\n",
       "      <td>20200306</td>\n",
       "      <td>2020</td>\n",
       "      <td>03</td>\n",
       "      <td>06</td>\n",
       "    </tr>\n",
       "    <tr>\n",
       "      <th>8</th>\n",
       "      <td>20200307</td>\n",
       "      <td>2020</td>\n",
       "      <td>03</td>\n",
       "      <td>07</td>\n",
       "    </tr>\n",
       "    <tr>\n",
       "      <th>9</th>\n",
       "      <td>20200307</td>\n",
       "      <td>2020</td>\n",
       "      <td>03</td>\n",
       "      <td>07</td>\n",
       "    </tr>\n",
       "    <tr>\n",
       "      <th>10</th>\n",
       "      <td>20200306</td>\n",
       "      <td>2020</td>\n",
       "      <td>03</td>\n",
       "      <td>06</td>\n",
       "    </tr>\n",
       "    <tr>\n",
       "      <th>11</th>\n",
       "      <td>20200306</td>\n",
       "      <td>2020</td>\n",
       "      <td>03</td>\n",
       "      <td>06</td>\n",
       "    </tr>\n",
       "    <tr>\n",
       "      <th>12</th>\n",
       "      <td>20200307</td>\n",
       "      <td>2020</td>\n",
       "      <td>03</td>\n",
       "      <td>07</td>\n",
       "    </tr>\n",
       "    <tr>\n",
       "      <th>13</th>\n",
       "      <td>20200307</td>\n",
       "      <td>2020</td>\n",
       "      <td>03</td>\n",
       "      <td>07</td>\n",
       "    </tr>\n",
       "    <tr>\n",
       "      <th>14</th>\n",
       "      <td>20200306</td>\n",
       "      <td>2020</td>\n",
       "      <td>03</td>\n",
       "      <td>06</td>\n",
       "    </tr>\n",
       "    <tr>\n",
       "      <th>15</th>\n",
       "      <td>20200308</td>\n",
       "      <td>2020</td>\n",
       "      <td>03</td>\n",
       "      <td>08</td>\n",
       "    </tr>\n",
       "    <tr>\n",
       "      <th>16</th>\n",
       "      <td>20200308</td>\n",
       "      <td>2020</td>\n",
       "      <td>03</td>\n",
       "      <td>08</td>\n",
       "    </tr>\n",
       "    <tr>\n",
       "      <th>17</th>\n",
       "      <td>20200310</td>\n",
       "      <td>2020</td>\n",
       "      <td>03</td>\n",
       "      <td>10</td>\n",
       "    </tr>\n",
       "    <tr>\n",
       "      <th>18</th>\n",
       "      <td>20200310</td>\n",
       "      <td>2020</td>\n",
       "      <td>03</td>\n",
       "      <td>10</td>\n",
       "    </tr>\n",
       "    <tr>\n",
       "      <th>19</th>\n",
       "      <td>20200310</td>\n",
       "      <td>2020</td>\n",
       "      <td>03</td>\n",
       "      <td>10</td>\n",
       "    </tr>\n",
       "  </tbody>\n",
       "</table>\n",
       "</div>"
      ],
      "text/plain": [
       "       date1   ano mes dia\n",
       "0   20200226  2020  02  26\n",
       "1   20200228  2020  02  28\n",
       "2   20200301  2020  03  01\n",
       "3   20200303  2020  03  03\n",
       "4   20200302  2020  03  02\n",
       "5   20200301  2020  03  01\n",
       "6   20200305  2020  03  05\n",
       "7   20200306  2020  03  06\n",
       "8   20200307  2020  03  07\n",
       "9   20200307  2020  03  07\n",
       "10  20200306  2020  03  06\n",
       "11  20200306  2020  03  06\n",
       "12  20200307  2020  03  07\n",
       "13  20200307  2020  03  07\n",
       "14  20200306  2020  03  06\n",
       "15  20200308  2020  03  08\n",
       "16  20200308  2020  03  08\n",
       "17  20200310  2020  03  10\n",
       "18  20200310  2020  03  10\n",
       "19  20200310  2020  03  10"
      ]
     },
     "execution_count": 46,
     "metadata": {},
     "output_type": "execute_result"
    }
   ],
   "source": [
    "linkage.select('date1', 'ano', 'mes', 'dia').limit(20).toPandas()"
   ]
  },
  {
   "cell_type": "code",
   "execution_count": null,
   "metadata": {},
   "outputs": [],
   "source": [
    "# Exercicio\n",
    "# Extrair o estado do cod do municipio"
   ]
  },
  {
   "cell_type": "markdown",
   "metadata": {},
   "source": [
    "### Operações entre colunas \n",
    "* +, -, *, /"
   ]
  },
  {
   "cell_type": "code",
   "execution_count": 48,
   "metadata": {
    "ExecuteTime": {
     "end_time": "2021-07-08T22:25:50.015780Z",
     "start_time": "2021-07-08T22:25:49.739638Z"
    }
   },
   "outputs": [
    {
     "name": "stdout",
     "output_type": "stream",
     "text": [
      "+---+---+----+\n",
      "|dia|mes|soma|\n",
      "+---+---+----+\n",
      "| 26| 02|28.0|\n",
      "| 28| 02|30.0|\n",
      "| 01| 03| 4.0|\n",
      "| 03| 03| 6.0|\n",
      "| 02| 03| 5.0|\n",
      "| 01| 03| 4.0|\n",
      "| 05| 03| 8.0|\n",
      "| 06| 03| 9.0|\n",
      "| 07| 03|10.0|\n",
      "| 07| 03|10.0|\n",
      "| 06| 03| 9.0|\n",
      "| 06| 03| 9.0|\n",
      "| 07| 03|10.0|\n",
      "| 07| 03|10.0|\n",
      "| 06| 03| 9.0|\n",
      "| 08| 03|11.0|\n",
      "| 08| 03|11.0|\n",
      "| 10| 03|13.0|\n",
      "| 10| 03|13.0|\n",
      "| 10| 03|13.0|\n",
      "+---+---+----+\n",
      "only showing top 20 rows\n",
      "\n"
     ]
    }
   ],
   "source": [
    "# Soma de colunas\n",
    "linkage.select('dia', 'mes', (F.col('dia') + F.col('mes')).alias('soma')).show()"
   ]
  },
  {
   "cell_type": "code",
   "execution_count": 50,
   "metadata": {
    "ExecuteTime": {
     "end_time": "2021-07-08T22:28:15.397520Z",
     "start_time": "2021-07-08T22:28:15.193235Z"
    }
   },
   "outputs": [
    {
     "name": "stdout",
     "output_type": "stream",
     "text": [
      "+---+---+----+\n",
      "|dia|mes|soma|\n",
      "+---+---+----+\n",
      "| 26| 02|56.0|\n",
      "| 28| 02|58.0|\n",
      "| 01| 03|61.0|\n",
      "| 03| 03|63.0|\n",
      "| 02| 03|62.0|\n",
      "| 01| 03|61.0|\n",
      "| 05| 03|65.0|\n",
      "| 06| 03|66.0|\n",
      "| 07| 03|67.0|\n",
      "| 07| 03|67.0|\n",
      "| 06| 03|66.0|\n",
      "| 06| 03|66.0|\n",
      "| 07| 03|67.0|\n",
      "| 07| 03|67.0|\n",
      "| 06| 03|66.0|\n",
      "| 08| 03|68.0|\n",
      "| 08| 03|68.0|\n",
      "| 10| 03|70.0|\n",
      "| 10| 03|70.0|\n",
      "| 10| 03|70.0|\n",
      "+---+---+----+\n",
      "only showing top 20 rows\n",
      "\n"
     ]
    }
   ],
   "source": [
    "# Multiplicação e soma de colunas\n",
    "linkage.select('dia', 'mes', (F.col('dia') + (F.col('mes') - F.lit(1)) * 30).alias('soma')).show()"
   ]
  },
  {
   "cell_type": "code",
   "execution_count": 54,
   "metadata": {
    "ExecuteTime": {
     "end_time": "2021-07-08T22:32:43.910485Z",
     "start_time": "2021-07-08T22:32:43.747024Z"
    }
   },
   "outputs": [
    {
     "name": "stdout",
     "output_type": "stream",
     "text": [
      "+-------+---+\n",
      "|codmun1| xx|\n",
      "+-------+---+\n",
      "| 355030| 35|\n",
      "|      0|  0|\n",
      "| 355030| 35|\n",
      "| 355030| 35|\n",
      "|      0|  0|\n",
      "|      0|  0|\n",
      "| 330040| 33|\n",
      "| 291080| 29|\n",
      "| 330040| 33|\n",
      "| 530010| 53|\n",
      "|     32|  0|\n",
      "|      0|  0|\n",
      "| 330455| 33|\n",
      "| 355030| 35|\n",
      "|     35|  0|\n",
      "| 312230| 31|\n",
      "|     32|  0|\n",
      "|     32|  0|\n",
      "| 355030| 35|\n",
      "|      0|  0|\n",
      "+-------+---+\n",
      "only showing top 20 rows\n",
      "\n"
     ]
    }
   ],
   "source": [
    "# Divisão\n",
    "linkage.select('codmun1', (F.col('codmun1') / 10000).cast(IntegerType()).alias('xx')).show()"
   ]
  },
  {
   "cell_type": "code",
   "execution_count": null,
   "metadata": {},
   "outputs": [],
   "source": []
  },
  {
   "cell_type": "markdown",
   "metadata": {},
   "source": [
    "### Comparando colunas\n",
    "* Registros que têm TODAS as colunas de linkage iguais (menos os ids) e o score diferente de 1\n",
    "* Registros que têm ALGUMA coluna do linkage diferente (menos os ids) e o score igual de 1\n",
    "  * DICA: Usar `.filter` com as devidas condições"
   ]
  },
  {
   "cell_type": "code",
   "execution_count": null,
   "metadata": {},
   "outputs": [],
   "source": []
  }
 ],
 "metadata": {
  "kernelspec": {
   "display_name": "Python 3",
   "language": "python",
   "name": "python3"
  },
  "language_info": {
   "codemirror_mode": {
    "name": "ipython",
    "version": 3
   },
   "file_extension": ".py",
   "mimetype": "text/x-python",
   "name": "python",
   "nbconvert_exporter": "python",
   "pygments_lexer": "ipython3",
   "version": "3.7.4"
  }
 },
 "nbformat": 4,
 "nbformat_minor": 5
}
