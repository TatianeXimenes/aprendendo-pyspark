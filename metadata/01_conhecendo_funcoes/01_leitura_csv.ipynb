{
 "cells": [
  {
   "cell_type": "markdown",
   "metadata": {},
   "source": [
    "### Primeira atividade de PySpark\n",
    "- Pesquisar como ler uma base em CSV com o PySpark \n",
    "- O que é CSV?\n",
    "- Ctrl+ / para comentar varias linhas"
   ]
  },
  {
   "cell_type": "markdown",
   "metadata": {},
   "source": [
    "##### df=spark.read.format(\"csv\").option(\"header\",\"true\").load(filePath)\n",
    "* df = spark.read.csv(\"titanic.csv\").option(\"header\", \"true\").load(/home/tatiane/Downloads/CURSO_BIGDATA/) ULTRAPASSADA\n",
    "\n",
    "##### df=spark.read.format(\"filePath+csv\", option): \n",
    "* df = spark.read.csv(\"/home/tatiane/Downloads/CURSO_BIGDATA/titanic.csv\", header = True)\n",
    "\n",
    "##### Existe também este, mas que vai acabar confundindo a nossa mente:\n",
    "*  DataFrameReader.format(…).option(“key”, “value”).schema(…).load()\n"
   ]
  },
  {
   "cell_type": "markdown",
   "metadata": {},
   "source": [
    "- https://www.linkedin.com/pulse/lendo-arquivos-csv-com-pandas-rog%C3%A9rio-guimar%C3%A3es-de-campos-j%C3%BAnior/\n",
    "- https://pandas.pydata.org/pandas-docs/stable/\n",
    "- https://qastack.com.br/programming/29704333/spark-load-csv-file-as-dataframe\n",
    "- https://github.com/databricks/spark-csv#features\n",
    "- https://ceweb.br/guias/dados-abertos/capitulo-35/\n",
    "- https://ichi.pro/pt/spark-essentials-como-ler-e-gravar-dados-com-pyspark-101455223728077\n",
    "- https://medium.com/@amauri.tisoft/spark-para-iniciantes-1a7790b78cf6\n",
    "\n",
    "\n",
    "##### options: \n",
    "1. delimiter ou sep =  \", or ; or \\t\" (separador da base)\n",
    "2. header = true or false or none  (diz se existe cabeçalho ou não, se for none aparece numeros em cada coluna)\n",
    "3. prefix = 'nomeunicoparacadacoluna' (pode ser usado quando o header = none, pois assim pode ficar: coluna1, coluna2...\n",
    "4. usecols = ['x', 'y'] (ler apenas as colunas x e y\n",
    "5. skipfooter = nºdelinhas (esse argumento recebe um nº e ignora essa qantidade de linhas a partir do final do arquivo. Como ele nao suporta algumas aplicações como C, é necessário especifica-la: engine = python.\n",
    "6. multiLine = True or False (ler arquivo onde em uma coluna pode haver varias linhas ao inves de só uma.\n",
    "7. inferSchema = True or False (infere automaticamente os tipos de coluna, e é falso por padrão.\n",
    "8. dateFormat = (especifica uma string que indica o formato de data a ser usado para gravar datas ou carimbos de data / hora. Se nenhum dateFormat for especificado será: aaaa-MM-dd HH: mm: ss.S.\n",
    "\n"
   ]
  },
  {
   "cell_type": "code",
   "execution_count": null,
   "metadata": {},
   "outputs": [],
   "source": [
    "##### O que é CSV: \n"
   ]
  }
 ],
 "metadata": {
  "kernelspec": {
   "display_name": "Python 3",
   "language": "python",
   "name": "python3"
  },
  "language_info": {
   "codemirror_mode": {
    "name": "ipython",
    "version": 3
   },
   "file_extension": ".py",
   "mimetype": "text/x-python",
   "name": "python",
   "nbconvert_exporter": "python",
   "pygments_lexer": "ipython3",
   "version": "3.7.4"
  }
 },
 "nbformat": 4,
 "nbformat_minor": 2
}
