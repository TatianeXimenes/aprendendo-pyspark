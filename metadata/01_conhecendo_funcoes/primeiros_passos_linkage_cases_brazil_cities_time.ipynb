{
 "cells": [
  {
   "cell_type": "code",
   "execution_count": 2,
   "metadata": {},
   "outputs": [],
   "source": [
    "import pyspark.sql.functions as F\n",
    "from pyspark.sql.types import *\n",
    "from pyspark.sql import Window\n",
    "import pandas as pd"
   ]
  },
  {
   "cell_type": "markdown",
   "metadata": {},
   "source": [
    "#### Lendo os dados"
   ]
  },
  {
   "cell_type": "code",
   "execution_count": 3,
   "metadata": {},
   "outputs": [],
   "source": [
    "read_path = '/home/tatiane/Downloads/exemplo_linkage_cases-brazil-cities-time.csv/tmp/exemplo_linkage_cases-brazil-cities-time.csv'"
   ]
  },
  {
   "cell_type": "code",
   "execution_count": 4,
   "metadata": {},
   "outputs": [],
   "source": [
    "df = spark.read.csv(read_path, sep = \",\", multiLine = True)\n",
    "#base nao apresenta cabeçalho"
   ]
  },
  {
   "cell_type": "code",
   "execution_count": 5,
   "metadata": {},
   "outputs": [
    {
     "name": "stdout",
     "output_type": "stream",
     "text": [
      "+---+---+------------+------------+---------+---------+------+------+--------+--------+----+----+------------------+\n",
      "|_c0|_c1|         _c2|         _c3|      _c4|      _c5|   _c6|   _c7|     _c8|     _c9|_c10|_c11|              _c12|\n",
      "+---+---+------------+------------+---------+---------+------+------+--------+--------+----+----+------------------+\n",
      "|  0|  0|São Paulo/SP|São Paulo/SP|São Paulo|São Paulo|355030|355030|20200225|20200225|   9|   9|               1.0|\n",
      "|  2|  2|São Paulo/SP|São Paulo/SP|São Paulo|São Paulo|355030|355030|20200226|20200226|   9|   9|               1.0|\n",
      "|  4|  4|São Paulo/SP|São Paulo/SP|São Paulo|São Paulo|355030|355030|20200227|20200227|   9|   9|               1.0|\n",
      "|  6|  6|São Paulo/SP|São Paulo/SP|São Paulo|São Paulo|355030|355030|20200228|20200228|   9|   9|               1.0|\n",
      "|  1|  1|       TOTAL|       TOTAL|     null|     null|     0|     0|20200225|20200225|   9|   9|0.7237569060773481|\n",
      "|  5|  5|       TOTAL|       TOTAL|     null|     null|     0|     0|20200227|20200227|   9|   9|0.7237569060773481|\n",
      "|  3|  3|       TOTAL|       TOTAL|     null|     null|     0|     0|20200226|20200226|   9|   9|0.7237569060773481|\n",
      "|  8|  8|São Paulo/SP|São Paulo/SP|São Paulo|São Paulo|355030|355030|20200229|20200229|   9|   9|               1.0|\n",
      "|  7|  7|       TOTAL|       TOTAL|     null|     null|     0|     0|20200228|20200228|   9|   9|0.7237569060773481|\n",
      "| 10| 10|São Paulo/SP|São Paulo/SP|São Paulo|São Paulo|355030|355030|20200301|20200301|  10|  10|               1.0|\n",
      "| 12| 12|São Paulo/SP|São Paulo/SP|São Paulo|São Paulo|355030|355030|20200302|20200302|  10|  10|               1.0|\n",
      "| 14| 14|São Paulo/SP|São Paulo/SP|São Paulo|São Paulo|355030|355030|20200303|20200303|  10|  10|               1.0|\n",
      "|  9|  9|       TOTAL|       TOTAL|     null|     null|     0|     0|20200229|20200229|   9|   9|0.7237569060773481|\n",
      "| 13| 13|       TOTAL|       TOTAL|     null|     null|     0|     0|20200302|20200302|  10|  10|0.7237569060773481|\n",
      "| 15| 15|       TOTAL|       TOTAL|     null|     null|     0|     0|20200303|20200303|  10|  10|0.7237569060773481|\n",
      "| 11| 11|       TOTAL|       TOTAL|     null|     null|     0|     0|20200301|20200301|  10|  10|0.7237569060773481|\n",
      "| 19| 19|São Paulo/SP|São Paulo/SP|São Paulo|São Paulo|355030|355030|20200305|20200305|  10|  10|               1.0|\n",
      "| 16| 16|São Paulo/SP|São Paulo/SP|São Paulo|São Paulo|355030|355030|20200304|20200304|  10|  10|               1.0|\n",
      "| 17| 17|       TOTAL|       TOTAL|     null|     null|     0|     0|20200304|20200304|  10|  10|0.7237569060773481|\n",
      "| 20| 20|       TOTAL|       TOTAL|     null|     null|     0|     0|20200305|20200305|  10|  10|0.7237569060773481|\n",
      "+---+---+------------+------------+---------+---------+------+------+--------+--------+----+----+------------------+\n",
      "only showing top 20 rows\n",
      "\n"
     ]
    }
   ],
   "source": [
    "df.show()"
   ]
  },
  {
   "cell_type": "code",
   "execution_count": null,
   "metadata": {},
   "outputs": [],
   "source": [
    "df.printSchema()"
   ]
  },
  {
   "cell_type": "markdown",
   "metadata": {},
   "source": [
    "#### Pegando informações do linkage"
   ]
  },
  {
   "cell_type": "code",
   "execution_count": 11,
   "metadata": {},
   "outputs": [
    {
     "name": "stdout",
     "output_type": "stream",
     "text": [
      "O número total de registros na base é de: 2248977\n",
      "Quantidade de colunas: 13\n"
     ]
    }
   ],
   "source": [
    "tot = df.count()\n",
    "print('O número total de registros na base é de: {}'.format(tot))\n",
    "print('Quantidade de colunas: {}'.format(len(df.columns)))"
   ]
  },
  {
   "cell_type": "markdown",
   "metadata": {},
   "source": [
    "#### Colocando cabeçalho nas colunas"
   ]
  },
  {
   "cell_type": "code",
   "execution_count": 12,
   "metadata": {},
   "outputs": [],
   "source": [
    "newColumns = [\"id1\", \"id2\", \"city1\", \"city2\", \"regiao_saude1\", \"regiao_saude2\", \"codmun1\", \"codmun2\", \"date1\", \"date2\", \"epi_week1\", \"epi_week2\", \"score\"]\n",
    "\n",
    "for x,y in zip(df.columns,newColumns):\n",
    "    df=df.withColumnRenamed(x,y)"
   ]
  },
  {
   "cell_type": "code",
   "execution_count": 13,
   "metadata": {},
   "outputs": [
    {
     "name": "stdout",
     "output_type": "stream",
     "text": [
      "root\n",
      " |-- id1: string (nullable = true)\n",
      " |-- id2: string (nullable = true)\n",
      " |-- city1: string (nullable = true)\n",
      " |-- city2: string (nullable = true)\n",
      " |-- regiao_saude1: string (nullable = true)\n",
      " |-- regiao_saude2: string (nullable = true)\n",
      " |-- codmun1: string (nullable = true)\n",
      " |-- codmun2: string (nullable = true)\n",
      " |-- date1: string (nullable = true)\n",
      " |-- date2: string (nullable = true)\n",
      " |-- epi_week1: string (nullable = true)\n",
      " |-- epi_week2: string (nullable = true)\n",
      " |-- score: string (nullable = true)\n",
      "\n"
     ]
    }
   ],
   "source": [
    "df.printSchema()"
   ]
  },
  {
   "cell_type": "markdown",
   "metadata": {},
   "source": [
    "#### Criando colunas para realizar comparações"
   ]
  },
  {
   "cell_type": "code",
   "execution_count": 14,
   "metadata": {},
   "outputs": [],
   "source": [
    "new_base = df.withColumn('city', F.when(F.col('city1') == F.col('city2'), 1).otherwise(0))\n",
    "new_base = df.withColumn('regiao_saude', F.when(F.col('regiao_saude1') == F.col('regiao_saude2'), 1).otherwise(0))\n",
    "new_base = df.withColumn('date', F.when(F.col('date1') == F.col('date2'), 1).otherwise(0))\n",
    "new_base = df.withColumn('epi_week', F.when(F.col('epi_week1') == F.col('epi_week2'), 1).otherwise(0))\n",
    "new_base = df.withColumn('codmun', F.when(F.col('codmun1') == F.col('codmun2'), 1).otherwise(0))"
   ]
  },
  {
   "cell_type": "code",
   "execution_count": 15,
   "metadata": {},
   "outputs": [
    {
     "data": {
      "text/html": [
       "<div>\n",
       "<style scoped>\n",
       "    .dataframe tbody tr th:only-of-type {\n",
       "        vertical-align: middle;\n",
       "    }\n",
       "\n",
       "    .dataframe tbody tr th {\n",
       "        vertical-align: top;\n",
       "    }\n",
       "\n",
       "    .dataframe thead th {\n",
       "        text-align: right;\n",
       "    }\n",
       "</style>\n",
       "<table border=\"1\" class=\"dataframe\">\n",
       "  <thead>\n",
       "    <tr style=\"text-align: right;\">\n",
       "      <th></th>\n",
       "      <th>id1</th>\n",
       "      <th>id2</th>\n",
       "      <th>city1</th>\n",
       "      <th>city2</th>\n",
       "      <th>regiao_saude1</th>\n",
       "      <th>regiao_saude2</th>\n",
       "      <th>codmun1</th>\n",
       "      <th>codmun2</th>\n",
       "      <th>date1</th>\n",
       "      <th>date2</th>\n",
       "      <th>epi_week1</th>\n",
       "      <th>epi_week2</th>\n",
       "      <th>score</th>\n",
       "      <th>city</th>\n",
       "      <th>regiao_saude</th>\n",
       "      <th>date</th>\n",
       "      <th>epi_week</th>\n",
       "      <th>codmun</th>\n",
       "    </tr>\n",
       "  </thead>\n",
       "  <tbody>\n",
       "    <tr>\n",
       "      <td>0</td>\n",
       "      <td>0</td>\n",
       "      <td>0</td>\n",
       "      <td>São Paulo/SP</td>\n",
       "      <td>São Paulo/SP</td>\n",
       "      <td>São Paulo</td>\n",
       "      <td>São Paulo</td>\n",
       "      <td>355030</td>\n",
       "      <td>355030</td>\n",
       "      <td>20200225</td>\n",
       "      <td>20200225</td>\n",
       "      <td>9</td>\n",
       "      <td>9</td>\n",
       "      <td>1.0</td>\n",
       "      <td>1</td>\n",
       "      <td>1</td>\n",
       "      <td>1</td>\n",
       "      <td>1</td>\n",
       "      <td>1</td>\n",
       "    </tr>\n",
       "    <tr>\n",
       "      <td>1</td>\n",
       "      <td>2</td>\n",
       "      <td>2</td>\n",
       "      <td>São Paulo/SP</td>\n",
       "      <td>São Paulo/SP</td>\n",
       "      <td>São Paulo</td>\n",
       "      <td>São Paulo</td>\n",
       "      <td>355030</td>\n",
       "      <td>355030</td>\n",
       "      <td>20200226</td>\n",
       "      <td>20200226</td>\n",
       "      <td>9</td>\n",
       "      <td>9</td>\n",
       "      <td>1.0</td>\n",
       "      <td>1</td>\n",
       "      <td>1</td>\n",
       "      <td>1</td>\n",
       "      <td>1</td>\n",
       "      <td>1</td>\n",
       "    </tr>\n",
       "    <tr>\n",
       "      <td>2</td>\n",
       "      <td>4</td>\n",
       "      <td>4</td>\n",
       "      <td>São Paulo/SP</td>\n",
       "      <td>São Paulo/SP</td>\n",
       "      <td>São Paulo</td>\n",
       "      <td>São Paulo</td>\n",
       "      <td>355030</td>\n",
       "      <td>355030</td>\n",
       "      <td>20200227</td>\n",
       "      <td>20200227</td>\n",
       "      <td>9</td>\n",
       "      <td>9</td>\n",
       "      <td>1.0</td>\n",
       "      <td>1</td>\n",
       "      <td>1</td>\n",
       "      <td>1</td>\n",
       "      <td>1</td>\n",
       "      <td>1</td>\n",
       "    </tr>\n",
       "    <tr>\n",
       "      <td>3</td>\n",
       "      <td>6</td>\n",
       "      <td>6</td>\n",
       "      <td>São Paulo/SP</td>\n",
       "      <td>São Paulo/SP</td>\n",
       "      <td>São Paulo</td>\n",
       "      <td>São Paulo</td>\n",
       "      <td>355030</td>\n",
       "      <td>355030</td>\n",
       "      <td>20200228</td>\n",
       "      <td>20200228</td>\n",
       "      <td>9</td>\n",
       "      <td>9</td>\n",
       "      <td>1.0</td>\n",
       "      <td>1</td>\n",
       "      <td>1</td>\n",
       "      <td>1</td>\n",
       "      <td>1</td>\n",
       "      <td>1</td>\n",
       "    </tr>\n",
       "    <tr>\n",
       "      <td>4</td>\n",
       "      <td>1</td>\n",
       "      <td>1</td>\n",
       "      <td>TOTAL</td>\n",
       "      <td>TOTAL</td>\n",
       "      <td>None</td>\n",
       "      <td>None</td>\n",
       "      <td>0</td>\n",
       "      <td>0</td>\n",
       "      <td>20200225</td>\n",
       "      <td>20200225</td>\n",
       "      <td>9</td>\n",
       "      <td>9</td>\n",
       "      <td>0.7237569060773481</td>\n",
       "      <td>1</td>\n",
       "      <td>0</td>\n",
       "      <td>1</td>\n",
       "      <td>1</td>\n",
       "      <td>1</td>\n",
       "    </tr>\n",
       "  </tbody>\n",
       "</table>\n",
       "</div>"
      ],
      "text/plain": [
       "  id1 id2         city1         city2 regiao_saude1 regiao_saude2 codmun1  \\\n",
       "0   0   0  São Paulo/SP  São Paulo/SP     São Paulo     São Paulo  355030   \n",
       "1   2   2  São Paulo/SP  São Paulo/SP     São Paulo     São Paulo  355030   \n",
       "2   4   4  São Paulo/SP  São Paulo/SP     São Paulo     São Paulo  355030   \n",
       "3   6   6  São Paulo/SP  São Paulo/SP     São Paulo     São Paulo  355030   \n",
       "4   1   1         TOTAL         TOTAL          None          None       0   \n",
       "\n",
       "  codmun2     date1     date2 epi_week1 epi_week2               score  city  \\\n",
       "0  355030  20200225  20200225         9         9                 1.0     1   \n",
       "1  355030  20200226  20200226         9         9                 1.0     1   \n",
       "2  355030  20200227  20200227         9         9                 1.0     1   \n",
       "3  355030  20200228  20200228         9         9                 1.0     1   \n",
       "4       0  20200225  20200225         9         9  0.7237569060773481     1   \n",
       "\n",
       "   regiao_saude  date  epi_week  codmun  \n",
       "0             1     1         1       1  \n",
       "1             1     1         1       1  \n",
       "2             1     1         1       1  \n",
       "3             1     1         1       1  \n",
       "4             0     1         1       1  "
      ]
     },
     "execution_count": 15,
     "metadata": {},
     "output_type": "execute_result"
    }
   ],
   "source": [
    "new_base.limit(5).toPandas()"
   ]
  },
  {
   "cell_type": "code",
   "execution_count": null,
   "metadata": {},
   "outputs": [],
   "source": []
  },
  {
   "cell_type": "code",
   "execution_count": null,
   "metadata": {},
   "outputs": [],
   "source": []
  },
  {
   "cell_type": "code",
   "execution_count": null,
   "metadata": {},
   "outputs": [],
   "source": []
  }
 ],
 "metadata": {
  "kernelspec": {
   "display_name": "Python 3",
   "language": "python",
   "name": "python3"
  },
  "language_info": {
   "codemirror_mode": {
    "name": "ipython",
    "version": 3
   },
   "file_extension": ".py",
   "mimetype": "text/x-python",
   "name": "python",
   "nbconvert_exporter": "python",
   "pygments_lexer": "ipython3",
   "version": "3.7.4"
  }
 },
 "nbformat": 4,
 "nbformat_minor": 2
}
