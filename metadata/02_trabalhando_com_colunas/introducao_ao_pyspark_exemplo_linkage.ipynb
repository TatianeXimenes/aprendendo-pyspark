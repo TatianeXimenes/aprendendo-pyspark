{
 "cells": [
  {
   "cell_type": "code",
   "execution_count": 37,
   "metadata": {},
   "outputs": [],
   "source": [
    "import pyspark.sql.functions as F\n",
    "from pyspark.sql.types import *\n",
    "from pyspark.sql import Window\n",
    "import pandas as pd\n",
    "import random"
   ]
  },
  {
   "cell_type": "markdown",
   "metadata": {},
   "source": [
    "### Leitura de dados"
   ]
  },
  {
   "cell_type": "code",
   "execution_count": 2,
   "metadata": {},
   "outputs": [],
   "source": [
    "read_path = '/home/tatiane/Downloads/exemplo_linkage_cases-brazil-cities-time.csv/tmp/exemplo_linkage_cases-brazil-cities-time.csv'"
   ]
  },
  {
   "cell_type": "code",
   "execution_count": 3,
   "metadata": {},
   "outputs": [],
   "source": [
    "df = spark.read.csv(read_path, sep = \",\", multiLine = True)"
   ]
  },
  {
   "cell_type": "code",
   "execution_count": 4,
   "metadata": {},
   "outputs": [],
   "source": [
    "#renomeando colunas\n",
    "header = [\"id1\", \"id2\", \"city1\", \"city2\", \"regiao_saude1\", \"regiao_saude2\", \"codmun1\", \"codmun2\", \"date1\", \"date2\", \"epi_week1\", \"epi_week2\", \"score\"]\n",
    "\n",
    "for nome_antigo, novo_nome in zip(df.columns, header):\n",
    "    df = df.withColumnRenamed(nome_antigo, novo_nome)"
   ]
  },
  {
   "cell_type": "raw",
   "metadata": {},
   "source": [
    "O que é e o que faz o zip da cédula acima?\n",
    "\n",
    "Se você precisar iterar por meio de várias listas, tuplas ou qualquer outra sequência. A função zip () do Python cria um iterador que agregará elementos de dois ou mais iteráveis. \n",
    "\n",
    "Ou seja, ele está pegando a lista de colunas, pega o nome antigo e subtitui pelo novo.\n",
    "Segue link utilizado para compreensão da função:\n",
    "https://realpython.com/python-zip-function/\n"
   ]
  },
  {
   "cell_type": "code",
   "execution_count": 5,
   "metadata": {},
   "outputs": [
    {
     "name": "stdout",
     "output_type": "stream",
     "text": [
      "root\n",
      " |-- id1: string (nullable = true)\n",
      " |-- id2: string (nullable = true)\n",
      " |-- city1: string (nullable = true)\n",
      " |-- city2: string (nullable = true)\n",
      " |-- regiao_saude1: string (nullable = true)\n",
      " |-- regiao_saude2: string (nullable = true)\n",
      " |-- codmun1: string (nullable = true)\n",
      " |-- codmun2: string (nullable = true)\n",
      " |-- date1: string (nullable = true)\n",
      " |-- date2: string (nullable = true)\n",
      " |-- epi_week1: string (nullable = true)\n",
      " |-- epi_week2: string (nullable = true)\n",
      " |-- score: string (nullable = true)\n",
      "\n"
     ]
    }
   ],
   "source": [
    "df.printSchema()"
   ]
  },
  {
   "cell_type": "markdown",
   "metadata": {},
   "source": [
    "### Filtrando dados"
   ]
  },
  {
   "cell_type": "code",
   "execution_count": 6,
   "metadata": {},
   "outputs": [
    {
     "data": {
      "text/html": [
       "<div>\n",
       "<style scoped>\n",
       "    .dataframe tbody tr th:only-of-type {\n",
       "        vertical-align: middle;\n",
       "    }\n",
       "\n",
       "    .dataframe tbody tr th {\n",
       "        vertical-align: top;\n",
       "    }\n",
       "\n",
       "    .dataframe thead th {\n",
       "        text-align: right;\n",
       "    }\n",
       "</style>\n",
       "<table border=\"1\" class=\"dataframe\">\n",
       "  <thead>\n",
       "    <tr style=\"text-align: right;\">\n",
       "      <th></th>\n",
       "      <th>id1</th>\n",
       "      <th>id2</th>\n",
       "      <th>city1</th>\n",
       "      <th>city2</th>\n",
       "      <th>regiao_saude1</th>\n",
       "      <th>regiao_saude2</th>\n",
       "      <th>codmun1</th>\n",
       "      <th>codmun2</th>\n",
       "      <th>date1</th>\n",
       "      <th>date2</th>\n",
       "      <th>epi_week1</th>\n",
       "      <th>epi_week2</th>\n",
       "      <th>score</th>\n",
       "    </tr>\n",
       "  </thead>\n",
       "  <tbody>\n",
       "    <tr>\n",
       "      <td>0</td>\n",
       "      <td>0</td>\n",
       "      <td>0</td>\n",
       "      <td>São Paulo/SP</td>\n",
       "      <td>São Paulo/SP</td>\n",
       "      <td>São Paulo</td>\n",
       "      <td>São Paulo</td>\n",
       "      <td>355030</td>\n",
       "      <td>355030</td>\n",
       "      <td>20200225</td>\n",
       "      <td>20200225</td>\n",
       "      <td>9</td>\n",
       "      <td>9</td>\n",
       "      <td>1.0</td>\n",
       "    </tr>\n",
       "    <tr>\n",
       "      <td>1</td>\n",
       "      <td>2</td>\n",
       "      <td>2</td>\n",
       "      <td>São Paulo/SP</td>\n",
       "      <td>São Paulo/SP</td>\n",
       "      <td>São Paulo</td>\n",
       "      <td>São Paulo</td>\n",
       "      <td>355030</td>\n",
       "      <td>355030</td>\n",
       "      <td>20200226</td>\n",
       "      <td>20200226</td>\n",
       "      <td>9</td>\n",
       "      <td>9</td>\n",
       "      <td>1.0</td>\n",
       "    </tr>\n",
       "    <tr>\n",
       "      <td>2</td>\n",
       "      <td>4</td>\n",
       "      <td>4</td>\n",
       "      <td>São Paulo/SP</td>\n",
       "      <td>São Paulo/SP</td>\n",
       "      <td>São Paulo</td>\n",
       "      <td>São Paulo</td>\n",
       "      <td>355030</td>\n",
       "      <td>355030</td>\n",
       "      <td>20200227</td>\n",
       "      <td>20200227</td>\n",
       "      <td>9</td>\n",
       "      <td>9</td>\n",
       "      <td>1.0</td>\n",
       "    </tr>\n",
       "    <tr>\n",
       "      <td>3</td>\n",
       "      <td>6</td>\n",
       "      <td>6</td>\n",
       "      <td>São Paulo/SP</td>\n",
       "      <td>São Paulo/SP</td>\n",
       "      <td>São Paulo</td>\n",
       "      <td>São Paulo</td>\n",
       "      <td>355030</td>\n",
       "      <td>355030</td>\n",
       "      <td>20200228</td>\n",
       "      <td>20200228</td>\n",
       "      <td>9</td>\n",
       "      <td>9</td>\n",
       "      <td>1.0</td>\n",
       "    </tr>\n",
       "    <tr>\n",
       "      <td>4</td>\n",
       "      <td>1</td>\n",
       "      <td>1</td>\n",
       "      <td>TOTAL</td>\n",
       "      <td>TOTAL</td>\n",
       "      <td>None</td>\n",
       "      <td>None</td>\n",
       "      <td>0</td>\n",
       "      <td>0</td>\n",
       "      <td>20200225</td>\n",
       "      <td>20200225</td>\n",
       "      <td>9</td>\n",
       "      <td>9</td>\n",
       "      <td>0.7237569060773481</td>\n",
       "    </tr>\n",
       "  </tbody>\n",
       "</table>\n",
       "</div>"
      ],
      "text/plain": [
       "  id1 id2         city1         city2 regiao_saude1 regiao_saude2 codmun1  \\\n",
       "0   0   0  São Paulo/SP  São Paulo/SP     São Paulo     São Paulo  355030   \n",
       "1   2   2  São Paulo/SP  São Paulo/SP     São Paulo     São Paulo  355030   \n",
       "2   4   4  São Paulo/SP  São Paulo/SP     São Paulo     São Paulo  355030   \n",
       "3   6   6  São Paulo/SP  São Paulo/SP     São Paulo     São Paulo  355030   \n",
       "4   1   1         TOTAL         TOTAL          None          None       0   \n",
       "\n",
       "  codmun2     date1     date2 epi_week1 epi_week2               score  \n",
       "0  355030  20200225  20200225         9         9                 1.0  \n",
       "1  355030  20200226  20200226         9         9                 1.0  \n",
       "2  355030  20200227  20200227         9         9                 1.0  \n",
       "3  355030  20200228  20200228         9         9                 1.0  \n",
       "4       0  20200225  20200225         9         9  0.7237569060773481  "
      ]
     },
     "execution_count": 6,
     "metadata": {},
     "output_type": "execute_result"
    }
   ],
   "source": [
    "df.limit(5).toPandas()"
   ]
  },
  {
   "cell_type": "code",
   "execution_count": 7,
   "metadata": {},
   "outputs": [],
   "source": [
    "#df = df.sample(0.25).cache()"
   ]
  },
  {
   "cell_type": "code",
   "execution_count": 8,
   "metadata": {},
   "outputs": [],
   "source": [
    "df = df.limit(100).cache()"
   ]
  },
  {
   "cell_type": "code",
   "execution_count": 9,
   "metadata": {},
   "outputs": [],
   "source": [
    "# Converter o tipo correto\n",
    "df = df.withColumn('score', F.col('score').cast(DoubleType()))"
   ]
  },
  {
   "cell_type": "code",
   "execution_count": 10,
   "metadata": {},
   "outputs": [
    {
     "name": "stdout",
     "output_type": "stream",
     "text": [
      "root\n",
      " |-- id1: string (nullable = true)\n",
      " |-- id2: string (nullable = true)\n",
      " |-- city1: string (nullable = true)\n",
      " |-- city2: string (nullable = true)\n",
      " |-- regiao_saude1: string (nullable = true)\n",
      " |-- regiao_saude2: string (nullable = true)\n",
      " |-- codmun1: string (nullable = true)\n",
      " |-- codmun2: string (nullable = true)\n",
      " |-- date1: string (nullable = true)\n",
      " |-- date2: string (nullable = true)\n",
      " |-- epi_week1: string (nullable = true)\n",
      " |-- epi_week2: string (nullable = true)\n",
      " |-- score: double (nullable = true)\n",
      "\n"
     ]
    }
   ],
   "source": [
    "#conferindo se mudou o tipo\n",
    "df.printSchema()"
   ]
  },
  {
   "cell_type": "code",
   "execution_count": 11,
   "metadata": {},
   "outputs": [
    {
     "data": {
      "text/html": [
       "<div>\n",
       "<style scoped>\n",
       "    .dataframe tbody tr th:only-of-type {\n",
       "        vertical-align: middle;\n",
       "    }\n",
       "\n",
       "    .dataframe tbody tr th {\n",
       "        vertical-align: top;\n",
       "    }\n",
       "\n",
       "    .dataframe thead th {\n",
       "        text-align: right;\n",
       "    }\n",
       "</style>\n",
       "<table border=\"1\" class=\"dataframe\">\n",
       "  <thead>\n",
       "    <tr style=\"text-align: right;\">\n",
       "      <th></th>\n",
       "      <th>score</th>\n",
       "    </tr>\n",
       "    <tr>\n",
       "      <th>summary</th>\n",
       "      <th></th>\n",
       "    </tr>\n",
       "  </thead>\n",
       "  <tbody>\n",
       "    <tr>\n",
       "      <td>count</td>\n",
       "      <td>100</td>\n",
       "    </tr>\n",
       "    <tr>\n",
       "      <td>mean</td>\n",
       "      <td>0.9088397790055243</td>\n",
       "    </tr>\n",
       "    <tr>\n",
       "      <td>stddev</td>\n",
       "      <td>0.13054739299040355</td>\n",
       "    </tr>\n",
       "    <tr>\n",
       "      <td>min</td>\n",
       "      <td>0.7237569060773481</td>\n",
       "    </tr>\n",
       "    <tr>\n",
       "      <td>25%</td>\n",
       "      <td>0.7237569060773481</td>\n",
       "    </tr>\n",
       "    <tr>\n",
       "      <td>50%</td>\n",
       "      <td>1.0</td>\n",
       "    </tr>\n",
       "    <tr>\n",
       "      <td>75%</td>\n",
       "      <td>1.0</td>\n",
       "    </tr>\n",
       "    <tr>\n",
       "      <td>max</td>\n",
       "      <td>1.0</td>\n",
       "    </tr>\n",
       "  </tbody>\n",
       "</table>\n",
       "</div>"
      ],
      "text/plain": [
       "                       score\n",
       "summary                     \n",
       "count                    100\n",
       "mean      0.9088397790055243\n",
       "stddev   0.13054739299040355\n",
       "min       0.7237569060773481\n",
       "25%       0.7237569060773481\n",
       "50%                      1.0\n",
       "75%                      1.0\n",
       "max                      1.0"
      ]
     },
     "execution_count": 11,
     "metadata": {},
     "output_type": "execute_result"
    }
   ],
   "source": [
    "# Descrição dos dados\n",
    "df.select('score').summary().toPandas().set_index('summary') #.T #transforma coluna em linhas para facilitar a visão da tabela."
   ]
  },
  {
   "cell_type": "code",
   "execution_count": 36,
   "metadata": {},
   "outputs": [
    {
     "name": "stdout",
     "output_type": "stream",
     "text": [
      "+-----------+-----+\n",
      "|faixa_score|count|\n",
      "+-----------+-----+\n",
      "|        1.0|   67|\n",
      "|       0.72|   33|\n",
      "+-----------+-----+\n",
      "\n"
     ]
    }
   ],
   "source": [
    "df.groupBy(F.substring('score', 1, 4).alias('faixa_score')).count().show()"
   ]
  },
  {
   "cell_type": "code",
   "execution_count": 44,
   "metadata": {},
   "outputs": [
    {
     "name": "stdout",
     "output_type": "stream",
     "text": [
      "+-----------+-----+\n",
      "|faixa_score|count|\n",
      "+-----------+-----+\n",
      "|        0.9|    7|\n",
      "|        0.8|   13|\n",
      "|        0.7|    6|\n",
      "|        0.6|   10|\n",
      "|        0.5|    8|\n",
      "|        0.4|   15|\n",
      "|        0.3|    5|\n",
      "|        0.2|   17|\n",
      "|        0.1|   13|\n",
      "|        0.0|    6|\n",
      "+-----------+-----+\n",
      "\n"
     ]
    }
   ],
   "source": [
    "#forma generica para teste\n",
    "df.groupBy(F.substring(F.udf(lambda x:random.random())('score'), 1, 3).alias('faixa_score')).count().orderBy(F.col('faixa_score').desc()).show()"
   ]
  },
  {
   "cell_type": "code",
   "execution_count": 40,
   "metadata": {},
   "outputs": [
    {
     "data": {
      "text/plain": [
       "0.3005930571510894"
      ]
     },
     "execution_count": 40,
     "metadata": {},
     "output_type": "execute_result"
    }
   ],
   "source": [
    "random.random()"
   ]
  },
  {
   "cell_type": "code",
   "execution_count": 12,
   "metadata": {},
   "outputs": [
    {
     "name": "stdout",
     "output_type": "stream",
     "text": [
      "+---------------+-----+\n",
      "|round(score, 1)|count|\n",
      "+---------------+-----+\n",
      "|            1.0|   67|\n",
      "|            0.7|   33|\n",
      "+---------------+-----+\n",
      "\n"
     ]
    }
   ],
   "source": [
    "# Distribuição dos dados\n",
    "df.groupBy(F.round('score', 1)).count().show()"
   ]
  },
  {
   "cell_type": "markdown",
   "metadata": {},
   "source": [
    "### Extraindo dados de colunas\n",
    "* Dia, mes, ano\n",
    "* Extraindo o estado do municipio"
   ]
  },
  {
   "cell_type": "code",
   "execution_count": 13,
   "metadata": {},
   "outputs": [
    {
     "data": {
      "text/html": [
       "<div>\n",
       "<style scoped>\n",
       "    .dataframe tbody tr th:only-of-type {\n",
       "        vertical-align: middle;\n",
       "    }\n",
       "\n",
       "    .dataframe tbody tr th {\n",
       "        vertical-align: top;\n",
       "    }\n",
       "\n",
       "    .dataframe thead th {\n",
       "        text-align: right;\n",
       "    }\n",
       "</style>\n",
       "<table border=\"1\" class=\"dataframe\">\n",
       "  <thead>\n",
       "    <tr style=\"text-align: right;\">\n",
       "      <th></th>\n",
       "      <th>id1</th>\n",
       "      <th>id2</th>\n",
       "      <th>city1</th>\n",
       "      <th>city2</th>\n",
       "      <th>regiao_saude1</th>\n",
       "      <th>regiao_saude2</th>\n",
       "      <th>codmun1</th>\n",
       "      <th>codmun2</th>\n",
       "      <th>date1</th>\n",
       "      <th>date2</th>\n",
       "      <th>epi_week1</th>\n",
       "      <th>epi_week2</th>\n",
       "      <th>score</th>\n",
       "    </tr>\n",
       "  </thead>\n",
       "  <tbody>\n",
       "    <tr>\n",
       "      <td>0</td>\n",
       "      <td>0</td>\n",
       "      <td>0</td>\n",
       "      <td>São Paulo/SP</td>\n",
       "      <td>São Paulo/SP</td>\n",
       "      <td>São Paulo</td>\n",
       "      <td>São Paulo</td>\n",
       "      <td>355030</td>\n",
       "      <td>355030</td>\n",
       "      <td>20200225</td>\n",
       "      <td>20200225</td>\n",
       "      <td>9</td>\n",
       "      <td>9</td>\n",
       "      <td>1.000000</td>\n",
       "    </tr>\n",
       "    <tr>\n",
       "      <td>1</td>\n",
       "      <td>2</td>\n",
       "      <td>2</td>\n",
       "      <td>São Paulo/SP</td>\n",
       "      <td>São Paulo/SP</td>\n",
       "      <td>São Paulo</td>\n",
       "      <td>São Paulo</td>\n",
       "      <td>355030</td>\n",
       "      <td>355030</td>\n",
       "      <td>20200226</td>\n",
       "      <td>20200226</td>\n",
       "      <td>9</td>\n",
       "      <td>9</td>\n",
       "      <td>1.000000</td>\n",
       "    </tr>\n",
       "    <tr>\n",
       "      <td>2</td>\n",
       "      <td>4</td>\n",
       "      <td>4</td>\n",
       "      <td>São Paulo/SP</td>\n",
       "      <td>São Paulo/SP</td>\n",
       "      <td>São Paulo</td>\n",
       "      <td>São Paulo</td>\n",
       "      <td>355030</td>\n",
       "      <td>355030</td>\n",
       "      <td>20200227</td>\n",
       "      <td>20200227</td>\n",
       "      <td>9</td>\n",
       "      <td>9</td>\n",
       "      <td>1.000000</td>\n",
       "    </tr>\n",
       "    <tr>\n",
       "      <td>3</td>\n",
       "      <td>6</td>\n",
       "      <td>6</td>\n",
       "      <td>São Paulo/SP</td>\n",
       "      <td>São Paulo/SP</td>\n",
       "      <td>São Paulo</td>\n",
       "      <td>São Paulo</td>\n",
       "      <td>355030</td>\n",
       "      <td>355030</td>\n",
       "      <td>20200228</td>\n",
       "      <td>20200228</td>\n",
       "      <td>9</td>\n",
       "      <td>9</td>\n",
       "      <td>1.000000</td>\n",
       "    </tr>\n",
       "    <tr>\n",
       "      <td>4</td>\n",
       "      <td>1</td>\n",
       "      <td>1</td>\n",
       "      <td>TOTAL</td>\n",
       "      <td>TOTAL</td>\n",
       "      <td>None</td>\n",
       "      <td>None</td>\n",
       "      <td>0</td>\n",
       "      <td>0</td>\n",
       "      <td>20200225</td>\n",
       "      <td>20200225</td>\n",
       "      <td>9</td>\n",
       "      <td>9</td>\n",
       "      <td>0.723757</td>\n",
       "    </tr>\n",
       "    <tr>\n",
       "      <td>5</td>\n",
       "      <td>5</td>\n",
       "      <td>5</td>\n",
       "      <td>TOTAL</td>\n",
       "      <td>TOTAL</td>\n",
       "      <td>None</td>\n",
       "      <td>None</td>\n",
       "      <td>0</td>\n",
       "      <td>0</td>\n",
       "      <td>20200227</td>\n",
       "      <td>20200227</td>\n",
       "      <td>9</td>\n",
       "      <td>9</td>\n",
       "      <td>0.723757</td>\n",
       "    </tr>\n",
       "    <tr>\n",
       "      <td>6</td>\n",
       "      <td>3</td>\n",
       "      <td>3</td>\n",
       "      <td>TOTAL</td>\n",
       "      <td>TOTAL</td>\n",
       "      <td>None</td>\n",
       "      <td>None</td>\n",
       "      <td>0</td>\n",
       "      <td>0</td>\n",
       "      <td>20200226</td>\n",
       "      <td>20200226</td>\n",
       "      <td>9</td>\n",
       "      <td>9</td>\n",
       "      <td>0.723757</td>\n",
       "    </tr>\n",
       "    <tr>\n",
       "      <td>7</td>\n",
       "      <td>8</td>\n",
       "      <td>8</td>\n",
       "      <td>São Paulo/SP</td>\n",
       "      <td>São Paulo/SP</td>\n",
       "      <td>São Paulo</td>\n",
       "      <td>São Paulo</td>\n",
       "      <td>355030</td>\n",
       "      <td>355030</td>\n",
       "      <td>20200229</td>\n",
       "      <td>20200229</td>\n",
       "      <td>9</td>\n",
       "      <td>9</td>\n",
       "      <td>1.000000</td>\n",
       "    </tr>\n",
       "    <tr>\n",
       "      <td>8</td>\n",
       "      <td>7</td>\n",
       "      <td>7</td>\n",
       "      <td>TOTAL</td>\n",
       "      <td>TOTAL</td>\n",
       "      <td>None</td>\n",
       "      <td>None</td>\n",
       "      <td>0</td>\n",
       "      <td>0</td>\n",
       "      <td>20200228</td>\n",
       "      <td>20200228</td>\n",
       "      <td>9</td>\n",
       "      <td>9</td>\n",
       "      <td>0.723757</td>\n",
       "    </tr>\n",
       "    <tr>\n",
       "      <td>9</td>\n",
       "      <td>10</td>\n",
       "      <td>10</td>\n",
       "      <td>São Paulo/SP</td>\n",
       "      <td>São Paulo/SP</td>\n",
       "      <td>São Paulo</td>\n",
       "      <td>São Paulo</td>\n",
       "      <td>355030</td>\n",
       "      <td>355030</td>\n",
       "      <td>20200301</td>\n",
       "      <td>20200301</td>\n",
       "      <td>10</td>\n",
       "      <td>10</td>\n",
       "      <td>1.000000</td>\n",
       "    </tr>\n",
       "  </tbody>\n",
       "</table>\n",
       "</div>"
      ],
      "text/plain": [
       "  id1 id2         city1         city2 regiao_saude1 regiao_saude2 codmun1  \\\n",
       "0   0   0  São Paulo/SP  São Paulo/SP     São Paulo     São Paulo  355030   \n",
       "1   2   2  São Paulo/SP  São Paulo/SP     São Paulo     São Paulo  355030   \n",
       "2   4   4  São Paulo/SP  São Paulo/SP     São Paulo     São Paulo  355030   \n",
       "3   6   6  São Paulo/SP  São Paulo/SP     São Paulo     São Paulo  355030   \n",
       "4   1   1         TOTAL         TOTAL          None          None       0   \n",
       "5   5   5         TOTAL         TOTAL          None          None       0   \n",
       "6   3   3         TOTAL         TOTAL          None          None       0   \n",
       "7   8   8  São Paulo/SP  São Paulo/SP     São Paulo     São Paulo  355030   \n",
       "8   7   7         TOTAL         TOTAL          None          None       0   \n",
       "9  10  10  São Paulo/SP  São Paulo/SP     São Paulo     São Paulo  355030   \n",
       "\n",
       "  codmun2     date1     date2 epi_week1 epi_week2     score  \n",
       "0  355030  20200225  20200225         9         9  1.000000  \n",
       "1  355030  20200226  20200226         9         9  1.000000  \n",
       "2  355030  20200227  20200227         9         9  1.000000  \n",
       "3  355030  20200228  20200228         9         9  1.000000  \n",
       "4       0  20200225  20200225         9         9  0.723757  \n",
       "5       0  20200227  20200227         9         9  0.723757  \n",
       "6       0  20200226  20200226         9         9  0.723757  \n",
       "7  355030  20200229  20200229         9         9  1.000000  \n",
       "8       0  20200228  20200228         9         9  0.723757  \n",
       "9  355030  20200301  20200301        10        10  1.000000  "
      ]
     },
     "execution_count": 13,
     "metadata": {},
     "output_type": "execute_result"
    }
   ],
   "source": [
    "df.limit(10).toPandas()"
   ]
  },
  {
   "cell_type": "code",
   "execution_count": 14,
   "metadata": {},
   "outputs": [],
   "source": [
    "#criando colunas dia, mês e ano, extraindo-as da coluna date1, começando em tal numero, pegando x casas.\n",
    "df = df.withColumn('dia1', F.substring('date1', 7, 2))\n",
    "df = df.withColumn('mes1', F.substring('date1', 5, 2))\n",
    "df = df.withColumn('ano1', F.substring('date1', 1, 4))"
   ]
  },
  {
   "cell_type": "code",
   "execution_count": 15,
   "metadata": {},
   "outputs": [
    {
     "data": {
      "text/html": [
       "<div>\n",
       "<style scoped>\n",
       "    .dataframe tbody tr th:only-of-type {\n",
       "        vertical-align: middle;\n",
       "    }\n",
       "\n",
       "    .dataframe tbody tr th {\n",
       "        vertical-align: top;\n",
       "    }\n",
       "\n",
       "    .dataframe thead th {\n",
       "        text-align: right;\n",
       "    }\n",
       "</style>\n",
       "<table border=\"1\" class=\"dataframe\">\n",
       "  <thead>\n",
       "    <tr style=\"text-align: right;\">\n",
       "      <th></th>\n",
       "      <th>date1</th>\n",
       "      <th>ano1</th>\n",
       "      <th>mes1</th>\n",
       "      <th>dia1</th>\n",
       "    </tr>\n",
       "  </thead>\n",
       "  <tbody>\n",
       "    <tr>\n",
       "      <td>0</td>\n",
       "      <td>20200225</td>\n",
       "      <td>2020</td>\n",
       "      <td>02</td>\n",
       "      <td>25</td>\n",
       "    </tr>\n",
       "    <tr>\n",
       "      <td>1</td>\n",
       "      <td>20200226</td>\n",
       "      <td>2020</td>\n",
       "      <td>02</td>\n",
       "      <td>26</td>\n",
       "    </tr>\n",
       "    <tr>\n",
       "      <td>2</td>\n",
       "      <td>20200227</td>\n",
       "      <td>2020</td>\n",
       "      <td>02</td>\n",
       "      <td>27</td>\n",
       "    </tr>\n",
       "    <tr>\n",
       "      <td>3</td>\n",
       "      <td>20200228</td>\n",
       "      <td>2020</td>\n",
       "      <td>02</td>\n",
       "      <td>28</td>\n",
       "    </tr>\n",
       "    <tr>\n",
       "      <td>4</td>\n",
       "      <td>20200225</td>\n",
       "      <td>2020</td>\n",
       "      <td>02</td>\n",
       "      <td>25</td>\n",
       "    </tr>\n",
       "  </tbody>\n",
       "</table>\n",
       "</div>"
      ],
      "text/plain": [
       "      date1  ano1 mes1 dia1\n",
       "0  20200225  2020   02   25\n",
       "1  20200226  2020   02   26\n",
       "2  20200227  2020   02   27\n",
       "3  20200228  2020   02   28\n",
       "4  20200225  2020   02   25"
      ]
     },
     "execution_count": 15,
     "metadata": {},
     "output_type": "execute_result"
    }
   ],
   "source": [
    "df.select('date1', 'ano1', 'mes1', 'dia1').limit(5).toPandas()"
   ]
  },
  {
   "cell_type": "code",
   "execution_count": 16,
   "metadata": {},
   "outputs": [],
   "source": [
    "df = df.withColumn('dia2', F.substring('date2', 7, 2))\n",
    "df = df.withColumn('mes2', F.substring('date2', 5, 2))\n",
    "df = df.withColumn('ano2', F.substring('date2', 1, 4))"
   ]
  },
  {
   "cell_type": "code",
   "execution_count": 17,
   "metadata": {},
   "outputs": [
    {
     "data": {
      "text/html": [
       "<div>\n",
       "<style scoped>\n",
       "    .dataframe tbody tr th:only-of-type {\n",
       "        vertical-align: middle;\n",
       "    }\n",
       "\n",
       "    .dataframe tbody tr th {\n",
       "        vertical-align: top;\n",
       "    }\n",
       "\n",
       "    .dataframe thead th {\n",
       "        text-align: right;\n",
       "    }\n",
       "</style>\n",
       "<table border=\"1\" class=\"dataframe\">\n",
       "  <thead>\n",
       "    <tr style=\"text-align: right;\">\n",
       "      <th></th>\n",
       "      <th>id1</th>\n",
       "      <th>id2</th>\n",
       "      <th>city1</th>\n",
       "      <th>city2</th>\n",
       "      <th>regiao_saude1</th>\n",
       "      <th>regiao_saude2</th>\n",
       "      <th>codmun1</th>\n",
       "      <th>codmun2</th>\n",
       "      <th>date1</th>\n",
       "      <th>date2</th>\n",
       "      <th>epi_week1</th>\n",
       "      <th>epi_week2</th>\n",
       "      <th>score</th>\n",
       "      <th>dia1</th>\n",
       "      <th>mes1</th>\n",
       "      <th>ano1</th>\n",
       "      <th>dia2</th>\n",
       "      <th>mes2</th>\n",
       "      <th>ano2</th>\n",
       "    </tr>\n",
       "  </thead>\n",
       "  <tbody>\n",
       "    <tr>\n",
       "      <td>0</td>\n",
       "      <td>0</td>\n",
       "      <td>0</td>\n",
       "      <td>São Paulo/SP</td>\n",
       "      <td>São Paulo/SP</td>\n",
       "      <td>São Paulo</td>\n",
       "      <td>São Paulo</td>\n",
       "      <td>355030</td>\n",
       "      <td>355030</td>\n",
       "      <td>20200225</td>\n",
       "      <td>20200225</td>\n",
       "      <td>9</td>\n",
       "      <td>9</td>\n",
       "      <td>1.000000</td>\n",
       "      <td>25</td>\n",
       "      <td>02</td>\n",
       "      <td>2020</td>\n",
       "      <td>25</td>\n",
       "      <td>02</td>\n",
       "      <td>2020</td>\n",
       "    </tr>\n",
       "    <tr>\n",
       "      <td>1</td>\n",
       "      <td>2</td>\n",
       "      <td>2</td>\n",
       "      <td>São Paulo/SP</td>\n",
       "      <td>São Paulo/SP</td>\n",
       "      <td>São Paulo</td>\n",
       "      <td>São Paulo</td>\n",
       "      <td>355030</td>\n",
       "      <td>355030</td>\n",
       "      <td>20200226</td>\n",
       "      <td>20200226</td>\n",
       "      <td>9</td>\n",
       "      <td>9</td>\n",
       "      <td>1.000000</td>\n",
       "      <td>26</td>\n",
       "      <td>02</td>\n",
       "      <td>2020</td>\n",
       "      <td>26</td>\n",
       "      <td>02</td>\n",
       "      <td>2020</td>\n",
       "    </tr>\n",
       "    <tr>\n",
       "      <td>2</td>\n",
       "      <td>4</td>\n",
       "      <td>4</td>\n",
       "      <td>São Paulo/SP</td>\n",
       "      <td>São Paulo/SP</td>\n",
       "      <td>São Paulo</td>\n",
       "      <td>São Paulo</td>\n",
       "      <td>355030</td>\n",
       "      <td>355030</td>\n",
       "      <td>20200227</td>\n",
       "      <td>20200227</td>\n",
       "      <td>9</td>\n",
       "      <td>9</td>\n",
       "      <td>1.000000</td>\n",
       "      <td>27</td>\n",
       "      <td>02</td>\n",
       "      <td>2020</td>\n",
       "      <td>27</td>\n",
       "      <td>02</td>\n",
       "      <td>2020</td>\n",
       "    </tr>\n",
       "    <tr>\n",
       "      <td>3</td>\n",
       "      <td>6</td>\n",
       "      <td>6</td>\n",
       "      <td>São Paulo/SP</td>\n",
       "      <td>São Paulo/SP</td>\n",
       "      <td>São Paulo</td>\n",
       "      <td>São Paulo</td>\n",
       "      <td>355030</td>\n",
       "      <td>355030</td>\n",
       "      <td>20200228</td>\n",
       "      <td>20200228</td>\n",
       "      <td>9</td>\n",
       "      <td>9</td>\n",
       "      <td>1.000000</td>\n",
       "      <td>28</td>\n",
       "      <td>02</td>\n",
       "      <td>2020</td>\n",
       "      <td>28</td>\n",
       "      <td>02</td>\n",
       "      <td>2020</td>\n",
       "    </tr>\n",
       "    <tr>\n",
       "      <td>4</td>\n",
       "      <td>1</td>\n",
       "      <td>1</td>\n",
       "      <td>TOTAL</td>\n",
       "      <td>TOTAL</td>\n",
       "      <td>None</td>\n",
       "      <td>None</td>\n",
       "      <td>0</td>\n",
       "      <td>0</td>\n",
       "      <td>20200225</td>\n",
       "      <td>20200225</td>\n",
       "      <td>9</td>\n",
       "      <td>9</td>\n",
       "      <td>0.723757</td>\n",
       "      <td>25</td>\n",
       "      <td>02</td>\n",
       "      <td>2020</td>\n",
       "      <td>25</td>\n",
       "      <td>02</td>\n",
       "      <td>2020</td>\n",
       "    </tr>\n",
       "  </tbody>\n",
       "</table>\n",
       "</div>"
      ],
      "text/plain": [
       "  id1 id2         city1         city2 regiao_saude1 regiao_saude2 codmun1  \\\n",
       "0   0   0  São Paulo/SP  São Paulo/SP     São Paulo     São Paulo  355030   \n",
       "1   2   2  São Paulo/SP  São Paulo/SP     São Paulo     São Paulo  355030   \n",
       "2   4   4  São Paulo/SP  São Paulo/SP     São Paulo     São Paulo  355030   \n",
       "3   6   6  São Paulo/SP  São Paulo/SP     São Paulo     São Paulo  355030   \n",
       "4   1   1         TOTAL         TOTAL          None          None       0   \n",
       "\n",
       "  codmun2     date1     date2 epi_week1 epi_week2     score dia1 mes1  ano1  \\\n",
       "0  355030  20200225  20200225         9         9  1.000000   25   02  2020   \n",
       "1  355030  20200226  20200226         9         9  1.000000   26   02  2020   \n",
       "2  355030  20200227  20200227         9         9  1.000000   27   02  2020   \n",
       "3  355030  20200228  20200228         9         9  1.000000   28   02  2020   \n",
       "4       0  20200225  20200225         9         9  0.723757   25   02  2020   \n",
       "\n",
       "  dia2 mes2  ano2  \n",
       "0   25   02  2020  \n",
       "1   26   02  2020  \n",
       "2   27   02  2020  \n",
       "3   28   02  2020  \n",
       "4   25   02  2020  "
      ]
     },
     "execution_count": 17,
     "metadata": {},
     "output_type": "execute_result"
    }
   ],
   "source": [
    "df.limit(5).toPandas()"
   ]
  },
  {
   "cell_type": "code",
   "execution_count": 18,
   "metadata": {},
   "outputs": [],
   "source": [
    "# Extrair o estado do cod do municipio\n",
    "df = df.withColumn('Estado1', F.substring('codmun1', 1, 2))\n",
    "df = df.withColumn('Estado2', F.substring('codmun2', 1, 2))"
   ]
  },
  {
   "cell_type": "code",
   "execution_count": 19,
   "metadata": {},
   "outputs": [
    {
     "data": {
      "text/html": [
       "<div>\n",
       "<style scoped>\n",
       "    .dataframe tbody tr th:only-of-type {\n",
       "        vertical-align: middle;\n",
       "    }\n",
       "\n",
       "    .dataframe tbody tr th {\n",
       "        vertical-align: top;\n",
       "    }\n",
       "\n",
       "    .dataframe thead th {\n",
       "        text-align: right;\n",
       "    }\n",
       "</style>\n",
       "<table border=\"1\" class=\"dataframe\">\n",
       "  <thead>\n",
       "    <tr style=\"text-align: right;\">\n",
       "      <th></th>\n",
       "      <th>codmun1</th>\n",
       "      <th>Estado1</th>\n",
       "    </tr>\n",
       "  </thead>\n",
       "  <tbody>\n",
       "    <tr>\n",
       "      <td>0</td>\n",
       "      <td>355030</td>\n",
       "      <td>35</td>\n",
       "    </tr>\n",
       "    <tr>\n",
       "      <td>1</td>\n",
       "      <td>355030</td>\n",
       "      <td>35</td>\n",
       "    </tr>\n",
       "    <tr>\n",
       "      <td>2</td>\n",
       "      <td>355030</td>\n",
       "      <td>35</td>\n",
       "    </tr>\n",
       "    <tr>\n",
       "      <td>3</td>\n",
       "      <td>355030</td>\n",
       "      <td>35</td>\n",
       "    </tr>\n",
       "    <tr>\n",
       "      <td>4</td>\n",
       "      <td>0</td>\n",
       "      <td>0</td>\n",
       "    </tr>\n",
       "  </tbody>\n",
       "</table>\n",
       "</div>"
      ],
      "text/plain": [
       "  codmun1 Estado1\n",
       "0  355030      35\n",
       "1  355030      35\n",
       "2  355030      35\n",
       "3  355030      35\n",
       "4       0       0"
      ]
     },
     "execution_count": 19,
     "metadata": {},
     "output_type": "execute_result"
    }
   ],
   "source": [
    "df.select('codmun1', 'Estado1').limit(5).toPandas()"
   ]
  },
  {
   "cell_type": "markdown",
   "metadata": {},
   "source": [
    "### Operações entre colunas \n",
    "* +, -, *, /"
   ]
  },
  {
   "cell_type": "code",
   "execution_count": 20,
   "metadata": {},
   "outputs": [
    {
     "name": "stdout",
     "output_type": "stream",
     "text": [
      "+----+----+----+\n",
      "|dia1|mes1|soma|\n",
      "+----+----+----+\n",
      "|  25|  02|27.0|\n",
      "|  26|  02|28.0|\n",
      "|  27|  02|29.0|\n",
      "|  28|  02|30.0|\n",
      "|  25|  02|27.0|\n",
      "|  27|  02|29.0|\n",
      "|  26|  02|28.0|\n",
      "|  29|  02|31.0|\n",
      "|  28|  02|30.0|\n",
      "|  01|  03| 4.0|\n",
      "|  02|  03| 5.0|\n",
      "|  03|  03| 6.0|\n",
      "|  29|  02|31.0|\n",
      "|  02|  03| 5.0|\n",
      "|  03|  03| 6.0|\n",
      "|  01|  03| 4.0|\n",
      "|  05|  03| 8.0|\n",
      "|  04|  03| 7.0|\n",
      "|  04|  03| 7.0|\n",
      "|  05|  03| 8.0|\n",
      "+----+----+----+\n",
      "only showing top 20 rows\n",
      "\n"
     ]
    }
   ],
   "source": [
    "# Soma de colunas\n",
    "df.select('dia1', 'mes1', (F.col('dia1') + F.col('mes1')).alias('soma')).show()"
   ]
  },
  {
   "cell_type": "code",
   "execution_count": 21,
   "metadata": {},
   "outputs": [
    {
     "name": "stdout",
     "output_type": "stream",
     "text": [
      "+----+----+----+\n",
      "|dia1|mes1|soma|\n",
      "+----+----+----+\n",
      "|  25|  02|55.0|\n",
      "|  26|  02|56.0|\n",
      "|  27|  02|57.0|\n",
      "|  28|  02|58.0|\n",
      "|  25|  02|55.0|\n",
      "|  27|  02|57.0|\n",
      "|  26|  02|56.0|\n",
      "|  29|  02|59.0|\n",
      "|  28|  02|58.0|\n",
      "|  01|  03|61.0|\n",
      "|  02|  03|62.0|\n",
      "|  03|  03|63.0|\n",
      "|  29|  02|59.0|\n",
      "|  02|  03|62.0|\n",
      "|  03|  03|63.0|\n",
      "|  01|  03|61.0|\n",
      "|  05|  03|65.0|\n",
      "|  04|  03|64.0|\n",
      "|  04|  03|64.0|\n",
      "|  05|  03|65.0|\n",
      "+----+----+----+\n",
      "only showing top 20 rows\n",
      "\n"
     ]
    }
   ],
   "source": [
    "# Multiplicação e soma de colunas\n",
    "df.select('dia1', 'mes1', (F.col('dia1') + (F.col('mes1') - F.lit(1)) * 30).alias('soma')).show()"
   ]
  },
  {
   "cell_type": "code",
   "execution_count": 22,
   "metadata": {},
   "outputs": [
    {
     "name": "stdout",
     "output_type": "stream",
     "text": [
      "+-------+---+\n",
      "|codmun1| xx|\n",
      "+-------+---+\n",
      "| 355030| 35|\n",
      "| 355030| 35|\n",
      "| 355030| 35|\n",
      "| 355030| 35|\n",
      "|      0|  0|\n",
      "|      0|  0|\n",
      "|      0|  0|\n",
      "| 355030| 35|\n",
      "|      0|  0|\n",
      "| 355030| 35|\n",
      "| 355030| 35|\n",
      "| 355030| 35|\n",
      "|      0|  0|\n",
      "|      0|  0|\n",
      "|      0|  0|\n",
      "|      0|  0|\n",
      "| 355030| 35|\n",
      "| 355030| 35|\n",
      "|      0|  0|\n",
      "|      0|  0|\n",
      "+-------+---+\n",
      "only showing top 20 rows\n",
      "\n"
     ]
    }
   ],
   "source": [
    "# Divisão\n",
    "df.select('codmun1', (F.col('codmun1') / 10000).cast(IntegerType()).alias('xx')).show()\n",
    "# Nesse código estamos selecionando a varivavel codmun, dividindo seu valor por 10 mil, transformando seu valor em inveito para tirar as sobras, dando nome para coluna e pedindo para exibir."
   ]
  },
  {
   "cell_type": "markdown",
   "metadata": {},
   "source": [
    "### Comparando colunas\n",
    "* Registros que têm TODAS as colunas de linkage iguais (menos os ids) e o score diferente de 1\n",
    "* Registros que têm ALGUMA coluna do linkage diferente (menos os ids) e o score igual de 1\n",
    "  * DICA: Usar `.filter` com as devidas condições"
   ]
  },
  {
   "cell_type": "code",
   "execution_count": 28,
   "metadata": {},
   "outputs": [],
   "source": [
    "df_new = df.withColumn('city', F.when(F.col('city1') == F.col('city2'), 1).otherwise(0))\n",
    "df_new = df_new.withColumn('regiao_saude', F.when(F.col('regiao_saude1') == F.col('regiao_saude2'), 1).otherwise(0))\n",
    "df_new = df_new.withColumn('date', F.when(F.col('date1') == F.col('date2'), 1).otherwise(0))\n",
    "df_new = df_new.withColumn('epi_week', F.when(F.col('epi_week1') == F.col('epi_week2'), 1).otherwise(0))\n",
    "df_new = df_new.withColumn('codmun', F.when(F.col('codmun1') == F.col('codmun2'), 1).otherwise(0))"
   ]
  },
  {
   "cell_type": "code",
   "execution_count": 29,
   "metadata": {},
   "outputs": [
    {
     "data": {
      "text/plain": [
       "100"
      ]
     },
     "execution_count": 29,
     "metadata": {},
     "output_type": "execute_result"
    }
   ],
   "source": [
    "df_new.filter(df.city == 1).count()"
   ]
  },
  {
   "cell_type": "code",
   "execution_count": 30,
   "metadata": {},
   "outputs": [
    {
     "data": {
      "text/plain": [
       "0"
      ]
     },
     "execution_count": 30,
     "metadata": {},
     "output_type": "execute_result"
    }
   ],
   "source": [
    "# Registros que têm TODAS as colunas de linkage iguais (menos os ids) e o score diferente de 1\n",
    "# Ao colocar .show() mostra o cabeçalho com algumas linhas em branco.\n",
    "df_new.filter((F.col('city') == 1) & (F.col('regiao_saude') == 1) & (F.col('date') == 1) & (F.col('epi_week') == 1) & (F.col('codmun') == 1) & (F.col('score') != 1)).count()"
   ]
  },
  {
   "cell_type": "code",
   "execution_count": 31,
   "metadata": {},
   "outputs": [
    {
     "data": {
      "text/plain": [
       "0"
      ]
     },
     "execution_count": 31,
     "metadata": {},
     "output_type": "execute_result"
    }
   ],
   "source": [
    "# Registros que têm ALGUMA coluna do linkage diferente (menos os ids) e o score igual de 1\n",
    "df_new.filter((F.col('score') == 1) & ((F.col('city1') != F.col('city2')) | (F.col('regiao_saude1') != F.col('regiao_saude2')) | (F.col('date1') != F.col('date2')) | (F.col('epi_week1') != F.col('epi_week2')) | (F.col('codmun1') != F.col('codmun2')))).count()"
   ]
  },
  {
   "cell_type": "code",
   "execution_count": 32,
   "metadata": {},
   "outputs": [
    {
     "data": {
      "text/plain": [
       "0"
      ]
     },
     "execution_count": 32,
     "metadata": {},
     "output_type": "execute_result"
    }
   ],
   "source": [
    "#analisando um por um antes de sanar duvidas com o prof.\n",
    "df_new.filter((F.col('score') == 1) & (F.col('codmun1') != F.col('codmun2'))).count()"
   ]
  },
  {
   "cell_type": "markdown",
   "metadata": {},
   "source": [
    "### Criando coluna ind_linkado"
   ]
  },
  {
   "cell_type": "code",
   "execution_count": 46,
   "metadata": {},
   "outputs": [
    {
     "name": "stdout",
     "output_type": "stream",
     "text": [
      "+---+---+------------+------------+-------------+-------------+-------+-------+--------+--------+---------+---------+------------------+----+----+----+----+----+----+-------+-------+----+------------+----+--------+------+-----------+\n",
      "|id1|id2|       city1|       city2|regiao_saude1|regiao_saude2|codmun1|codmun2|   date1|   date2|epi_week1|epi_week2|             score|dia1|mes1|ano1|dia2|mes2|ano2|Estado1|Estado2|city|regiao_saude|date|epi_week|codmun|ind_linkado|\n",
      "+---+---+------------+------------+-------------+-------------+-------+-------+--------+--------+---------+---------+------------------+----+----+----+----+----+----+-------+-------+----+------------+----+--------+------+-----------+\n",
      "|  0|  0|São Paulo/SP|São Paulo/SP|    São Paulo|    São Paulo| 355030| 355030|20200225|20200225|        9|        9|               1.0|  25|  02|2020|  25|  02|2020|     35|     35|   1|           1|   1|       1|     1|          1|\n",
      "|  2|  2|São Paulo/SP|São Paulo/SP|    São Paulo|    São Paulo| 355030| 355030|20200226|20200226|        9|        9|               1.0|  26|  02|2020|  26|  02|2020|     35|     35|   1|           1|   1|       1|     1|          1|\n",
      "|  4|  4|São Paulo/SP|São Paulo/SP|    São Paulo|    São Paulo| 355030| 355030|20200227|20200227|        9|        9|               1.0|  27|  02|2020|  27|  02|2020|     35|     35|   1|           1|   1|       1|     1|          1|\n",
      "|  6|  6|São Paulo/SP|São Paulo/SP|    São Paulo|    São Paulo| 355030| 355030|20200228|20200228|        9|        9|               1.0|  28|  02|2020|  28|  02|2020|     35|     35|   1|           1|   1|       1|     1|          1|\n",
      "|  1|  1|       TOTAL|       TOTAL|         null|         null|      0|      0|20200225|20200225|        9|        9|0.7237569060773481|  25|  02|2020|  25|  02|2020|      0|      0|   1|           0|   1|       1|     1|          0|\n",
      "|  5|  5|       TOTAL|       TOTAL|         null|         null|      0|      0|20200227|20200227|        9|        9|0.7237569060773481|  27|  02|2020|  27|  02|2020|      0|      0|   1|           0|   1|       1|     1|          0|\n",
      "|  3|  3|       TOTAL|       TOTAL|         null|         null|      0|      0|20200226|20200226|        9|        9|0.7237569060773481|  26|  02|2020|  26|  02|2020|      0|      0|   1|           0|   1|       1|     1|          0|\n",
      "|  8|  8|São Paulo/SP|São Paulo/SP|    São Paulo|    São Paulo| 355030| 355030|20200229|20200229|        9|        9|               1.0|  29|  02|2020|  29|  02|2020|     35|     35|   1|           1|   1|       1|     1|          1|\n",
      "|  7|  7|       TOTAL|       TOTAL|         null|         null|      0|      0|20200228|20200228|        9|        9|0.7237569060773481|  28|  02|2020|  28|  02|2020|      0|      0|   1|           0|   1|       1|     1|          0|\n",
      "| 10| 10|São Paulo/SP|São Paulo/SP|    São Paulo|    São Paulo| 355030| 355030|20200301|20200301|       10|       10|               1.0|  01|  03|2020|  01|  03|2020|     35|     35|   1|           1|   1|       1|     1|          1|\n",
      "| 12| 12|São Paulo/SP|São Paulo/SP|    São Paulo|    São Paulo| 355030| 355030|20200302|20200302|       10|       10|               1.0|  02|  03|2020|  02|  03|2020|     35|     35|   1|           1|   1|       1|     1|          1|\n",
      "| 14| 14|São Paulo/SP|São Paulo/SP|    São Paulo|    São Paulo| 355030| 355030|20200303|20200303|       10|       10|               1.0|  03|  03|2020|  03|  03|2020|     35|     35|   1|           1|   1|       1|     1|          1|\n",
      "|  9|  9|       TOTAL|       TOTAL|         null|         null|      0|      0|20200229|20200229|        9|        9|0.7237569060773481|  29|  02|2020|  29|  02|2020|      0|      0|   1|           0|   1|       1|     1|          0|\n",
      "| 13| 13|       TOTAL|       TOTAL|         null|         null|      0|      0|20200302|20200302|       10|       10|0.7237569060773481|  02|  03|2020|  02|  03|2020|      0|      0|   1|           0|   1|       1|     1|          0|\n",
      "| 15| 15|       TOTAL|       TOTAL|         null|         null|      0|      0|20200303|20200303|       10|       10|0.7237569060773481|  03|  03|2020|  03|  03|2020|      0|      0|   1|           0|   1|       1|     1|          0|\n",
      "| 11| 11|       TOTAL|       TOTAL|         null|         null|      0|      0|20200301|20200301|       10|       10|0.7237569060773481|  01|  03|2020|  01|  03|2020|      0|      0|   1|           0|   1|       1|     1|          0|\n",
      "| 19| 19|São Paulo/SP|São Paulo/SP|    São Paulo|    São Paulo| 355030| 355030|20200305|20200305|       10|       10|               1.0|  05|  03|2020|  05|  03|2020|     35|     35|   1|           1|   1|       1|     1|          1|\n",
      "| 16| 16|São Paulo/SP|São Paulo/SP|    São Paulo|    São Paulo| 355030| 355030|20200304|20200304|       10|       10|               1.0|  04|  03|2020|  04|  03|2020|     35|     35|   1|           1|   1|       1|     1|          1|\n",
      "| 17| 17|       TOTAL|       TOTAL|         null|         null|      0|      0|20200304|20200304|       10|       10|0.7237569060773481|  04|  03|2020|  04|  03|2020|      0|      0|   1|           0|   1|       1|     1|          0|\n",
      "| 20| 20|       TOTAL|       TOTAL|         null|         null|      0|      0|20200305|20200305|       10|       10|0.7237569060773481|  05|  03|2020|  05|  03|2020|      0|      0|   1|           0|   1|       1|     1|          0|\n",
      "+---+---+------------+------------+-------------+-------------+-------+-------+--------+--------+---------+---------+------------------+----+----+----+----+----+----+-------+-------+----+------------+----+--------+------+-----------+\n",
      "only showing top 20 rows\n",
      "\n"
     ]
    }
   ],
   "source": [
    "#forma generica para teste\n",
    "df.withColumn('ind_linkado', F.when(F.col('score') >= 0.756, 1).otherwise(0)).show()"
   ]
  },
  {
   "cell_type": "code",
   "execution_count": null,
   "metadata": {},
   "outputs": [],
   "source": [
    "+---+---+------------+------------+-------------+-------------+-------+-------+--------+--------+---------+---------+------------------+----+----+----+----+----+----+-------+-------+----+------------+----+--------+------+-----------+\n",
    "|id1|id2|       city1|       city2|regiao_saude1|regiao_saude2|codmun1|codmun2|   date1|   date2|epi_week1|epi_week2|             score|dia1|mes1|ano1|dia2|mes2|ano2|Estado1|Estado2|city|regiao_saude|date|epi_week|codmun|ind_linkado|\n",
    "+---+---+------------+------------+-------------+-------------+-------+-------+--------+--------+---------+---------+------------------+----+----+----+----+----+----+-------+-------+----+------------+----+--------+------+-----------+\n",
    "|  0|  0|São Paulo/SP|São Paulo/SP|    São Paulo|    São Paulo| 355030| 355030|20200225|20200225|        9|        9|               1.0|  25|  02|2020|  25|  02|2020|     35|     35|   1|           1|   1|       1|     1|          1|\n",
    "|  2|  2|São Paulo/SP|São Paulo/SP|    São Paulo|    São Paulo| 355030| 355030|20200226|20200226|        9|        9|               1.0|  26|  02|2020|  26|  02|2020|     35|     35|   1|           1|   1|       1|     1|          1|\n",
    "|  4|  4|São Paulo/SP|São Paulo/SP|    São Paulo|    São Paulo| 355030| 355030|20200227|20200227|        9|        9|               1.0|  27|  02|2020|  27|  02|2020|     35|     35|   1|           1|   1|       1|     1|          1|\n",
    "|  6|  6|São Paulo/SP|São Paulo/SP|    São Paulo|    São Paulo| 355030| 355030|20200228|20200228|        9|        9|               1.0|  28|  02|2020|  28|  02|2020|     35|     35|   1|           1|   1|       1|     1|          1|\n",
    "|  1|  1|       TOTAL|       TOTAL|         null|         null|      0|      0|20200225|20200225|        9|        9|0.7237569060773481|  25|  02|2020|  25|  02|2020|      0|      0|   1|           0|   1|       1|     1|          0|\n",
    "|  5|  5|       TOTAL|       TOTAL|         null|         null|      0|      0|20200227|20200227|        9|        9|0.7237569060773481|  27|  02|2020|  27|  02|2020|      0|      0|   1|           0|   1|       1|     1|          0|\n",
    "|  3|  3|       TOTAL|       TOTAL|         null|         null|      0|      0|20200226|20200226|        9|        9|0.7237569060773481|  26|  02|2020|  26|  02|2020|      0|      0|   1|           0|   1|       1|     1|          0|\n",
    "|  8|  8|São Paulo/SP|São Paulo/SP|    São Paulo|    São Paulo| 355030| 355030|20200229|20200229|        9|        9|               1.0|  29|  02|2020|  29|  02|2020|     35|     35|   1|           1|   1|       1|     1|          1|\n",
    "|  7|  7|       TOTAL|       TOTAL|         null|         null|      0|      0|20200228|20200228|        9|        9|0.7237569060773481|  28|  02|2020|  28|  02|2020|      0|      0|   1|           0|   1|       1|     1|          0|\n",
    "| 10| 10|São Paulo/SP|São Paulo/SP|    São Paulo|    São Paulo| 355030| 355030|20200301|20200301|       10|       10|               1.0|  01|  03|2020|  01|  03|2020|     35|     35|   1|           1|   1|       1|     1|          1|\n",
    "| 12| 12|São Paulo/SP|São Paulo/SP|    São Paulo|    São Paulo| 355030| 355030|20200302|20200302|       10|       10|               1.0|  02|  03|2020|  02|  03|2020|     35|     35|   1|           1|   1|       1|     1|          1|\n",
    "| 14| 14|São Paulo/SP|São Paulo/SP|    São Paulo|    São Paulo| 355030| 355030|20200303|20200303|       10|       10|               1.0|  03|  03|2020|  03|  03|2020|     35|     35|   1|           1|   1|       1|     1|          1|\n",
    "|  9|  9|       TOTAL|       TOTAL|         null|         null|      0|      0|20200229|20200229|        9|        9|0.7237569060773481|  29|  02|2020|  29|  02|2020|      0|      0|   1|           0|   1|       1|     1|          0|\n",
    "| 13| 13|       TOTAL|       TOTAL|         null|         null|      0|      0|20200302|20200302|       10|       10|0.7237569060773481|  02|  03|2020|  02|  03|2020|      0|      0|   1|           0|   1|       1|     1|          0|\n",
    "| 15| 15|       TOTAL|       TOTAL|         null|         null|      0|      0|20200303|20200303|       10|       10|0.7237569060773481|  03|  03|2020|  03|  03|2020|      0|      0|   1|           0|   1|       1|     1|          0|\n",
    "| 11| 11|       TOTAL|       TOTAL|         null|         null|      0|      0|20200301|20200301|       10|       10|0.7237569060773481|  01|  03|2020|  01|  03|2020|      0|      0|   1|           0|   1|       1|     1|          0|\n",
    "| 19| 19|São Paulo/SP|São Paulo/SP|    São Paulo|    São Paulo| 355030| 355030|20200305|20200305|       10|       10|               1.0|  05|  03|2020|  05|  03|2020|     35|     35|   1|           1|   1|       1|     1|          1|\n",
    "| 16| 16|São Paulo/SP|São Paulo/SP|    São Paulo|    São Paulo| 355030| 355030|20200304|20200304|       10|       10|               1.0|  04|  03|2020|  04|  03|2020|     35|     35|   1|           1|   1|       1|     1|          1|\n",
    "| 17| 17|       TOTAL|       TOTAL|         null|         null|      0|      0|20200304|20200304|       10|       10|0.7237569060773481|  04|  03|2020|  04|  03|2020|      0|      0|   1|           0|   1|       1|     1|          0|\n",
    "| 20| 20|       TOTAL|       TOTAL|         null|         null|      0|      0|20200305|20200305|       10|       10|0.7237569060773481|  05|  03|2020|  05|  03|2020|      0|      0|   1|           0|   1|       1|     1|          0|\n",
    "+---+---+------------+------------+-------------+-------------+-------+-------+--------+--------+---------+---------+------------------+----+----+----+----+----+----+-------+-------+----+------------+----+--------+------+-----------+\n",
    "only showing top 20 rows\n"
   ]
  }
 ],
 "metadata": {
  "kernelspec": {
   "display_name": "Python 3",
   "language": "python",
   "name": "python3"
  },
  "language_info": {
   "codemirror_mode": {
    "name": "ipython",
    "version": 3
   },
   "file_extension": ".py",
   "mimetype": "text/x-python",
   "name": "python",
   "nbconvert_exporter": "python",
   "pygments_lexer": "ipython3",
   "version": "3.7.4"
  }
 },
 "nbformat": 4,
 "nbformat_minor": 5
}
