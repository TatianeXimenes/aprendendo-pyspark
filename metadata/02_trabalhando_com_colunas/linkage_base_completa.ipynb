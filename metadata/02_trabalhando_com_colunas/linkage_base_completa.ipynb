{
 "cells": [
  {
   "cell_type": "code",
   "execution_count": 1,
   "metadata": {},
   "outputs": [],
   "source": [
    "import pyspark.sql.functions as F\n",
    "from pyspark.sql.types import *\n",
    "from pyspark.sql import Window\n",
    "import pandas as pd\n",
    "import random"
   ]
  },
  {
   "cell_type": "code",
   "execution_count": 2,
   "metadata": {},
   "outputs": [],
   "source": [
    "read_path = '/home/tatiane/Downloads/exemplo_linkage_cases-brazil-cities-time.csv/tmp/exemplo_linkage_cases-brazil-cities-time.csv'"
   ]
  },
  {
   "cell_type": "code",
   "execution_count": 3,
   "metadata": {},
   "outputs": [],
   "source": [
    "df = spark.read.csv(read_path, sep = \",\", multiLine = True)"
   ]
  },
  {
   "cell_type": "code",
   "execution_count": 4,
   "metadata": {},
   "outputs": [],
   "source": [
    "#renomeando colunas\n",
    "header = [\"id1\", \"id2\", \"city1\", \"city2\", \"regiao_saude1\", \"regiao_saude2\", \"codmun1\", \"codmun2\", \"date1\", \"date2\", \"epi_week1\", \"epi_week2\", \"score\"]\n",
    "\n",
    "for nome_antigo, novo_nome in zip(df.columns, header):\n",
    "    df = df.withColumnRenamed(nome_antigo, novo_nome)"
   ]
  },
  {
   "cell_type": "code",
   "execution_count": 5,
   "metadata": {},
   "outputs": [],
   "source": [
    "df = df.withColumn('score', F.col('score').cast(DoubleType()))"
   ]
  },
  {
   "cell_type": "code",
   "execution_count": 6,
   "metadata": {},
   "outputs": [
    {
     "data": {
      "text/html": [
       "<div>\n",
       "<style scoped>\n",
       "    .dataframe tbody tr th:only-of-type {\n",
       "        vertical-align: middle;\n",
       "    }\n",
       "\n",
       "    .dataframe tbody tr th {\n",
       "        vertical-align: top;\n",
       "    }\n",
       "\n",
       "    .dataframe thead th {\n",
       "        text-align: right;\n",
       "    }\n",
       "</style>\n",
       "<table border=\"1\" class=\"dataframe\">\n",
       "  <thead>\n",
       "    <tr style=\"text-align: right;\">\n",
       "      <th></th>\n",
       "      <th>score</th>\n",
       "    </tr>\n",
       "    <tr>\n",
       "      <th>summary</th>\n",
       "      <th></th>\n",
       "    </tr>\n",
       "  </thead>\n",
       "  <tbody>\n",
       "    <tr>\n",
       "      <td>count</td>\n",
       "      <td>2243800</td>\n",
       "    </tr>\n",
       "    <tr>\n",
       "      <td>mean</td>\n",
       "      <td>0.9604942705214136</td>\n",
       "    </tr>\n",
       "    <tr>\n",
       "      <td>stddev</td>\n",
       "      <td>0.07386957747356336</td>\n",
       "    </tr>\n",
       "    <tr>\n",
       "      <td>min</td>\n",
       "      <td>0.5165745856353592</td>\n",
       "    </tr>\n",
       "    <tr>\n",
       "      <td>25%</td>\n",
       "      <td>1.0</td>\n",
       "    </tr>\n",
       "    <tr>\n",
       "      <td>50%</td>\n",
       "      <td>1.0</td>\n",
       "    </tr>\n",
       "    <tr>\n",
       "      <td>75%</td>\n",
       "      <td>1.0</td>\n",
       "    </tr>\n",
       "    <tr>\n",
       "      <td>max</td>\n",
       "      <td>1.0</td>\n",
       "    </tr>\n",
       "  </tbody>\n",
       "</table>\n",
       "</div>"
      ],
      "text/plain": [
       "                       score\n",
       "summary                     \n",
       "count                2243800\n",
       "mean      0.9604942705214136\n",
       "stddev   0.07386957747356336\n",
       "min       0.5165745856353592\n",
       "25%                      1.0\n",
       "50%                      1.0\n",
       "75%                      1.0\n",
       "max                      1.0"
      ]
     },
     "execution_count": 6,
     "metadata": {},
     "output_type": "execute_result"
    }
   ],
   "source": [
    "# Descrição dos dados\n",
    "df.select('score').summary().toPandas().set_index('summary') #.T #transforma coluna em linhas para facilitar a visão da tabela."
   ]
  },
  {
   "cell_type": "code",
   "execution_count": 7,
   "metadata": {},
   "outputs": [
    {
     "name": "stdout",
     "output_type": "stream",
     "text": [
      "+-----------+\n",
      "|faixa_score|\n",
      "+-----------+\n",
      "|        1.0|\n",
      "|        1.0|\n",
      "|        1.0|\n",
      "|        1.0|\n",
      "|        0.7|\n",
      "|        0.7|\n",
      "|        0.7|\n",
      "|        1.0|\n",
      "|        0.7|\n",
      "|        1.0|\n",
      "|        1.0|\n",
      "|        1.0|\n",
      "|        0.7|\n",
      "|        0.7|\n",
      "|        0.7|\n",
      "|        0.7|\n",
      "|        1.0|\n",
      "|        1.0|\n",
      "|        0.7|\n",
      "|        0.7|\n",
      "+-----------+\n",
      "only showing top 20 rows\n",
      "\n"
     ]
    }
   ],
   "source": [
    "df.select(F.substring('score', 1, 3).alias('faixa_score')).show()"
   ]
  },
  {
   "cell_type": "code",
   "execution_count": 8,
   "metadata": {},
   "outputs": [
    {
     "name": "stdout",
     "output_type": "stream",
     "text": [
      "+-----------+-------+\n",
      "|faixa_score|  count|\n",
      "+-----------+-------+\n",
      "|        1.0|1727048|\n",
      "|       0.55|   2288|\n",
      "|       0.68|     52|\n",
      "|       0.82| 489104|\n",
      "|       0.72|   8606|\n",
      "|       null|   5177|\n",
      "|       0.96|  11116|\n",
      "|       0.51|      2|\n",
      "|       0.65|     26|\n",
      "|       0.93|   5558|\n",
      "+-----------+-------+\n",
      "\n"
     ]
    }
   ],
   "source": [
    "df.groupBy(F.substring('score', 1, 4).alias('faixa_score')).count().show()"
   ]
  },
  {
   "cell_type": "code",
   "execution_count": 9,
   "metadata": {},
   "outputs": [
    {
     "name": "stdout",
     "output_type": "stream",
     "text": [
      "+------------------+-------+\n",
      "|             score|  count|\n",
      "+------------------+-------+\n",
      "|0.9654696132596685|  11116|\n",
      "|0.5511049723756907|   2288|\n",
      "|0.6892265193370166|     52|\n",
      "|              null|   5177|\n",
      "|               1.0|1727048|\n",
      "|0.7237569060773481|   8606|\n",
      "| 0.930939226519337|   5558|\n",
      "|0.8273480662983426| 489104|\n",
      "|0.6546961325966851|     26|\n",
      "|0.5165745856353592|      2|\n",
      "+------------------+-------+\n",
      "\n"
     ]
    }
   ],
   "source": [
    "df.groupBy('score').count().show() #investigando se realmente tem nulos na base"
   ]
  },
  {
   "cell_type": "code",
   "execution_count": 10,
   "metadata": {},
   "outputs": [
    {
     "name": "stdout",
     "output_type": "stream",
     "text": [
      "+---------------+-------+\n",
      "|round(score, 1)|  count|\n",
      "+---------------+-------+\n",
      "|            0.7|   8684|\n",
      "|           null|   5177|\n",
      "|            1.0|1738164|\n",
      "|            0.6|   2288|\n",
      "|            0.8| 489104|\n",
      "|            0.5|      2|\n",
      "|            0.9|   5558|\n",
      "+---------------+-------+\n",
      "\n"
     ]
    }
   ],
   "source": [
    "# Distribuição dos dados\n",
    "df.groupBy(F.round('score', 1)).count().show()"
   ]
  },
  {
   "cell_type": "markdown",
   "metadata": {},
   "source": [
    "### Atividade: criar faixas de score\n",
    "ex:\n",
    "\n",
    "        \n",
    "*>= 0.90 = 1 <br>\n",
    "*>= 0.80 e < 0.90 = 2 <br>\n",
    "*< 0.80 = 3"
   ]
  },
  {
   "cell_type": "code",
   "execution_count": 11,
   "metadata": {},
   "outputs": [],
   "source": [
    "df = (df\n",
    "      .withColumn('faixa_score', \n",
    "                  F.when(df.score >= 0.90, 1)\n",
    "                  .when((df.score >= 0.80) & (df.score < 0.90), 2)\n",
    "                  .when(df.score < 0.80, 3))\n",
    ")"
   ]
  },
  {
   "cell_type": "code",
   "execution_count": 12,
   "metadata": {},
   "outputs": [
    {
     "data": {
      "text/html": [
       "<div>\n",
       "<style scoped>\n",
       "    .dataframe tbody tr th:only-of-type {\n",
       "        vertical-align: middle;\n",
       "    }\n",
       "\n",
       "    .dataframe tbody tr th {\n",
       "        vertical-align: top;\n",
       "    }\n",
       "\n",
       "    .dataframe thead th {\n",
       "        text-align: right;\n",
       "    }\n",
       "</style>\n",
       "<table border=\"1\" class=\"dataframe\">\n",
       "  <thead>\n",
       "    <tr style=\"text-align: right;\">\n",
       "      <th></th>\n",
       "      <th>id1</th>\n",
       "      <th>id2</th>\n",
       "      <th>city1</th>\n",
       "      <th>city2</th>\n",
       "      <th>regiao_saude1</th>\n",
       "      <th>regiao_saude2</th>\n",
       "      <th>codmun1</th>\n",
       "      <th>codmun2</th>\n",
       "      <th>date1</th>\n",
       "      <th>date2</th>\n",
       "      <th>epi_week1</th>\n",
       "      <th>epi_week2</th>\n",
       "      <th>score</th>\n",
       "      <th>faixa_score</th>\n",
       "    </tr>\n",
       "  </thead>\n",
       "  <tbody>\n",
       "    <tr>\n",
       "      <td>0</td>\n",
       "      <td>0</td>\n",
       "      <td>0</td>\n",
       "      <td>São Paulo/SP</td>\n",
       "      <td>São Paulo/SP</td>\n",
       "      <td>São Paulo</td>\n",
       "      <td>São Paulo</td>\n",
       "      <td>355030</td>\n",
       "      <td>355030</td>\n",
       "      <td>20200225</td>\n",
       "      <td>20200225</td>\n",
       "      <td>9</td>\n",
       "      <td>9</td>\n",
       "      <td>1.000000</td>\n",
       "      <td>1</td>\n",
       "    </tr>\n",
       "    <tr>\n",
       "      <td>1</td>\n",
       "      <td>2</td>\n",
       "      <td>2</td>\n",
       "      <td>São Paulo/SP</td>\n",
       "      <td>São Paulo/SP</td>\n",
       "      <td>São Paulo</td>\n",
       "      <td>São Paulo</td>\n",
       "      <td>355030</td>\n",
       "      <td>355030</td>\n",
       "      <td>20200226</td>\n",
       "      <td>20200226</td>\n",
       "      <td>9</td>\n",
       "      <td>9</td>\n",
       "      <td>1.000000</td>\n",
       "      <td>1</td>\n",
       "    </tr>\n",
       "    <tr>\n",
       "      <td>2</td>\n",
       "      <td>4</td>\n",
       "      <td>4</td>\n",
       "      <td>São Paulo/SP</td>\n",
       "      <td>São Paulo/SP</td>\n",
       "      <td>São Paulo</td>\n",
       "      <td>São Paulo</td>\n",
       "      <td>355030</td>\n",
       "      <td>355030</td>\n",
       "      <td>20200227</td>\n",
       "      <td>20200227</td>\n",
       "      <td>9</td>\n",
       "      <td>9</td>\n",
       "      <td>1.000000</td>\n",
       "      <td>1</td>\n",
       "    </tr>\n",
       "    <tr>\n",
       "      <td>3</td>\n",
       "      <td>6</td>\n",
       "      <td>6</td>\n",
       "      <td>São Paulo/SP</td>\n",
       "      <td>São Paulo/SP</td>\n",
       "      <td>São Paulo</td>\n",
       "      <td>São Paulo</td>\n",
       "      <td>355030</td>\n",
       "      <td>355030</td>\n",
       "      <td>20200228</td>\n",
       "      <td>20200228</td>\n",
       "      <td>9</td>\n",
       "      <td>9</td>\n",
       "      <td>1.000000</td>\n",
       "      <td>1</td>\n",
       "    </tr>\n",
       "    <tr>\n",
       "      <td>4</td>\n",
       "      <td>1</td>\n",
       "      <td>1</td>\n",
       "      <td>TOTAL</td>\n",
       "      <td>TOTAL</td>\n",
       "      <td>None</td>\n",
       "      <td>None</td>\n",
       "      <td>0</td>\n",
       "      <td>0</td>\n",
       "      <td>20200225</td>\n",
       "      <td>20200225</td>\n",
       "      <td>9</td>\n",
       "      <td>9</td>\n",
       "      <td>0.723757</td>\n",
       "      <td>3</td>\n",
       "    </tr>\n",
       "    <tr>\n",
       "      <td>5</td>\n",
       "      <td>5</td>\n",
       "      <td>5</td>\n",
       "      <td>TOTAL</td>\n",
       "      <td>TOTAL</td>\n",
       "      <td>None</td>\n",
       "      <td>None</td>\n",
       "      <td>0</td>\n",
       "      <td>0</td>\n",
       "      <td>20200227</td>\n",
       "      <td>20200227</td>\n",
       "      <td>9</td>\n",
       "      <td>9</td>\n",
       "      <td>0.723757</td>\n",
       "      <td>3</td>\n",
       "    </tr>\n",
       "    <tr>\n",
       "      <td>6</td>\n",
       "      <td>3</td>\n",
       "      <td>3</td>\n",
       "      <td>TOTAL</td>\n",
       "      <td>TOTAL</td>\n",
       "      <td>None</td>\n",
       "      <td>None</td>\n",
       "      <td>0</td>\n",
       "      <td>0</td>\n",
       "      <td>20200226</td>\n",
       "      <td>20200226</td>\n",
       "      <td>9</td>\n",
       "      <td>9</td>\n",
       "      <td>0.723757</td>\n",
       "      <td>3</td>\n",
       "    </tr>\n",
       "    <tr>\n",
       "      <td>7</td>\n",
       "      <td>8</td>\n",
       "      <td>8</td>\n",
       "      <td>São Paulo/SP</td>\n",
       "      <td>São Paulo/SP</td>\n",
       "      <td>São Paulo</td>\n",
       "      <td>São Paulo</td>\n",
       "      <td>355030</td>\n",
       "      <td>355030</td>\n",
       "      <td>20200229</td>\n",
       "      <td>20200229</td>\n",
       "      <td>9</td>\n",
       "      <td>9</td>\n",
       "      <td>1.000000</td>\n",
       "      <td>1</td>\n",
       "    </tr>\n",
       "    <tr>\n",
       "      <td>8</td>\n",
       "      <td>7</td>\n",
       "      <td>7</td>\n",
       "      <td>TOTAL</td>\n",
       "      <td>TOTAL</td>\n",
       "      <td>None</td>\n",
       "      <td>None</td>\n",
       "      <td>0</td>\n",
       "      <td>0</td>\n",
       "      <td>20200228</td>\n",
       "      <td>20200228</td>\n",
       "      <td>9</td>\n",
       "      <td>9</td>\n",
       "      <td>0.723757</td>\n",
       "      <td>3</td>\n",
       "    </tr>\n",
       "    <tr>\n",
       "      <td>9</td>\n",
       "      <td>10</td>\n",
       "      <td>10</td>\n",
       "      <td>São Paulo/SP</td>\n",
       "      <td>São Paulo/SP</td>\n",
       "      <td>São Paulo</td>\n",
       "      <td>São Paulo</td>\n",
       "      <td>355030</td>\n",
       "      <td>355030</td>\n",
       "      <td>20200301</td>\n",
       "      <td>20200301</td>\n",
       "      <td>10</td>\n",
       "      <td>10</td>\n",
       "      <td>1.000000</td>\n",
       "      <td>1</td>\n",
       "    </tr>\n",
       "  </tbody>\n",
       "</table>\n",
       "</div>"
      ],
      "text/plain": [
       "  id1 id2         city1         city2 regiao_saude1 regiao_saude2 codmun1  \\\n",
       "0   0   0  São Paulo/SP  São Paulo/SP     São Paulo     São Paulo  355030   \n",
       "1   2   2  São Paulo/SP  São Paulo/SP     São Paulo     São Paulo  355030   \n",
       "2   4   4  São Paulo/SP  São Paulo/SP     São Paulo     São Paulo  355030   \n",
       "3   6   6  São Paulo/SP  São Paulo/SP     São Paulo     São Paulo  355030   \n",
       "4   1   1         TOTAL         TOTAL          None          None       0   \n",
       "5   5   5         TOTAL         TOTAL          None          None       0   \n",
       "6   3   3         TOTAL         TOTAL          None          None       0   \n",
       "7   8   8  São Paulo/SP  São Paulo/SP     São Paulo     São Paulo  355030   \n",
       "8   7   7         TOTAL         TOTAL          None          None       0   \n",
       "9  10  10  São Paulo/SP  São Paulo/SP     São Paulo     São Paulo  355030   \n",
       "\n",
       "  codmun2     date1     date2 epi_week1 epi_week2     score  faixa_score  \n",
       "0  355030  20200225  20200225         9         9  1.000000            1  \n",
       "1  355030  20200226  20200226         9         9  1.000000            1  \n",
       "2  355030  20200227  20200227         9         9  1.000000            1  \n",
       "3  355030  20200228  20200228         9         9  1.000000            1  \n",
       "4       0  20200225  20200225         9         9  0.723757            3  \n",
       "5       0  20200227  20200227         9         9  0.723757            3  \n",
       "6       0  20200226  20200226         9         9  0.723757            3  \n",
       "7  355030  20200229  20200229         9         9  1.000000            1  \n",
       "8       0  20200228  20200228         9         9  0.723757            3  \n",
       "9  355030  20200301  20200301        10        10  1.000000            1  "
      ]
     },
     "execution_count": 12,
     "metadata": {},
     "output_type": "execute_result"
    }
   ],
   "source": [
    "df.limit(10).toPandas()"
   ]
  },
  {
   "cell_type": "code",
   "execution_count": 13,
   "metadata": {
    "scrolled": true
   },
   "outputs": [
    {
     "name": "stdout",
     "output_type": "stream",
     "text": [
      "+---------------------+-------+\n",
      "|round(faixa_score, 1)|  count|\n",
      "+---------------------+-------+\n",
      "|                 null|   5177|\n",
      "|                    1|1743722|\n",
      "|                    3|  10974|\n",
      "|                    2| 489104|\n",
      "+---------------------+-------+\n",
      "\n"
     ]
    }
   ],
   "source": [
    "# Distribuição dos dados\n",
    "df.groupBy(F.round('faixa_score', 1)).count().show()"
   ]
  },
  {
   "cell_type": "markdown",
   "metadata": {},
   "source": [
    "### Links uteis para pesquisa:\n",
    "\n",
    "* https://www.w3schools.com/python/ref_string_split.asp\n",
    "* https://docs.microsoft.com/pt-br/azure/databricks/spark/latest/dataframes-datasets/introduction-to-dataframes-python\n",
    "* https://www.delftstack.com/pt/howto/python-pandas/how-to-add-new-column-to-existing-dataframe-in-python-pandas/#:~:text=Voc%C3%AA%20pode%20utilizar%20a%20fun%C3%A7%C3%A3o,inser%C3%A7%C3%A3o%20a%20partir%20de%20zero.\n",
    "* https://spark.apache.org/docs/2.1.0/api/python/pyspark.sql.html"
   ]
  }
 ],
 "metadata": {
  "kernelspec": {
   "display_name": "Python 3",
   "language": "python",
   "name": "python3"
  },
  "language_info": {
   "codemirror_mode": {
    "name": "ipython",
    "version": 3
   },
   "file_extension": ".py",
   "mimetype": "text/x-python",
   "name": "python",
   "nbconvert_exporter": "python",
   "pygments_lexer": "ipython3",
   "version": "3.7.4"
  }
 },
 "nbformat": 4,
 "nbformat_minor": 2
}
