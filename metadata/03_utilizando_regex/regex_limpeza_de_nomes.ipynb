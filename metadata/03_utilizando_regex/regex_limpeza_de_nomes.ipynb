{
 "cells": [
  {
   "cell_type": "code",
   "execution_count": 7,
   "metadata": {},
   "outputs": [],
   "source": [
    "import pyspark.sql.functions as F\n",
    "import re"
   ]
  },
  {
   "cell_type": "code",
   "execution_count": 2,
   "metadata": {},
   "outputs": [],
   "source": [
    "df = spark.read.csv('/home/tatiane/Downloads/teste.csv', header = True)"
   ]
  },
  {
   "cell_type": "code",
   "execution_count": 6,
   "metadata": {},
   "outputs": [
    {
     "name": "stdout",
     "output_type": "stream",
     "text": [
      "+--------------------------------------------+\n",
      "|nome                                        |\n",
      "+--------------------------------------------+\n",
      "|XXXXXXXX XXXXXXXX XXXXX (G1)                |\n",
      "|XXXXXXXX XXXXXXXX XX XXXXX  ( S 3 )         |\n",
      "|XXXXXXX XXXXXX XX XXXXX (A7)                |\n",
      "|XXXXXXXX XXXXX XXX XXXXXX  (  R 1  )        |\n",
      "|XXXXX XXXXXXX XX XXXXX  (  I 2  )           |\n",
      "|XXXXXXX XXXXXX XXXXXXXX XXXXXXX XXXXXXX (A6)|\n",
      "|IGONORADO DE IGN XXXX XXXXXX XXXXXXX        |\n",
      "|IGNOTADO XXXXX XXXX XX XXXXXXX              |\n",
      "|XXXXXX XXXXXXXX XX XXXXXXXX  ( R 3 )        |\n",
      "|XXXXX XXXXXXX XX XXXXX  (  I 2  )           |\n",
      "|IGN XXXX  XXXXXXXX      \t***REG             |\n",
      "|IGNORADO ING XXXXXXX XXXX XXXXXXX           |\n",
      "|XXXXXX XXXXXXX XX XXXXXX  ( C 3 )           |\n",
      "|XXXXX XXXXXXX XXXXXX  ( M 15 )              |\n",
      "|( XXXXX) XXXXXXXXX XXXX XXXXX XX XXXX       |\n",
      "|XXXX XXXXXXX XXXXXX  ( J16)                 |\n",
      "|XXXXXXXXXX XXXXXXXX XX XXXXX ( M 20 )       |\n",
      "|XXXX XXXXXXX XXXXXX XXXXXXX ( J8 )          |\n",
      "|XXXX XXXXX XX XXXXXXXX  (  J 15  )          |\n",
      "|***REGISTRO XXXXXXXX XX XXXXXXXX            |\n",
      "+--------------------------------------------+\n",
      "only showing top 20 rows\n",
      "\n"
     ]
    }
   ],
   "source": [
    "df.show(20, False)"
   ]
  },
  {
   "cell_type": "markdown",
   "metadata": {},
   "source": [
    "* rlike: gerar uma condição\n",
    "* F.regexp_replace: permite replace no dataframe"
   ]
  },
  {
   "cell_type": "code",
   "execution_count": 8,
   "metadata": {},
   "outputs": [],
   "source": [
    "# Para saber mais sobre:\n",
    "F.regexp_replace?"
   ]
  },
  {
   "cell_type": "code",
   "execution_count": 18,
   "metadata": {},
   "outputs": [
    {
     "name": "stdout",
     "output_type": "stream",
     "text": [
      "+-------------------------------------------------------+-------------------------------------------------------+\n",
      "|nome                                                   |nome_novo                                              |\n",
      "+-------------------------------------------------------+-------------------------------------------------------+\n",
      "|XXXXXXXX XXXXXXXX XXXXX (G1)                           |XXXXXXXX XXXXXXXX XXXXX (G1)                           |\n",
      "|XXXXXXXX XXXXXXXX XX XXXXX  ( S 3 )                    |XXXXXXXX XXXXXXXX XX XXXXX  ( S 3 )                    |\n",
      "|XXXXXXX XXXXXX XX XXXXX (A7)                           |XXXXXXX XXXXXX XX XXXXX (A7)                           |\n",
      "|XXXXXXXX XXXXX XXX XXXXXX  (  R 1  )                   |XXXXXXXX XXXXX XXX XXXXXX  (  R 1  )                   |\n",
      "|XXXXX XXXXXXX XX XXXXX  (  I 2  )                      |XXXXX XXXXXXX XX XXXXX  (  I 2  )                      |\n",
      "|XXXXXXX XXXXXX XXXXXXXX XXXXXXX XXXXXXX (A6)           |XXXXXXX XXXXXX XXXXXXXX XXXXXXX XXXXXXX (A6)           |\n",
      "|IGONORADO DE IGN XXXX XXXXXX XXXXXXX                   |IGONORADO DE IGN XXXX XXXXXX XXXXXXX                   |\n",
      "|IGNOTADO XXXXX XXXX XX XXXXXXX                         |IGNOTADO XXXXX XXXX XX XXXXXXX                         |\n",
      "|XXXXXX XXXXXXXX XX XXXXXXXX  ( R 3 )                   |XXXXXX XXXXXXXX XX XXXXXXXX  ( R 3 )                   |\n",
      "|XXXXX XXXXXXX XX XXXXX  (  I 2  )                      |XXXXX XXXXXXX XX XXXXX  (  I 2  )                      |\n",
      "|IGN XXXX  XXXXXXXX      \t***REG                        |IGN XXXX  XXXXXXXX      \t***REG                        |\n",
      "|IGNORADO ING XXXXXXX XXXX XXXXXXX                      |_ ING XXXXXXX XXXX XXXXXXX                             |\n",
      "|XXXXXX XXXXXXX XX XXXXXX  ( C 3 )                      |XXXXXX XXXXXXX XX XXXXXX  ( C 3 )                      |\n",
      "|XXXXX XXXXXXX XXXXXX  ( M 15 )                         |XXXXX XXXXXXX XXXXXX  ( M 15 )                         |\n",
      "|( XXXXX) XXXXXXXXX XXXX XXXXX XX XXXX                  |( XXXXX) XXXXXXXXX XXXX XXXXX XX XXXX                  |\n",
      "|XXXX XXXXXXX XXXXXX  ( J16)                            |XXXX XXXXXXX XXXXXX  ( J16)                            |\n",
      "|XXXXXXXXXX XXXXXXXX XX XXXXX ( M 20 )                  |XXXXXXXXXX XXXXXXXX XX XXXXX ( M 20 )                  |\n",
      "|XXXX XXXXXXX XXXXXX XXXXXXX ( J8 )                     |XXXX XXXXXXX XXXXXX XXXXXXX ( J8 )                     |\n",
      "|XXXX XXXXX XX XXXXXXXX  (  J 15  )                     |XXXX XXXXX XX XXXXXXXX  (  J 15  )                     |\n",
      "|***REGISTRO XXXXXXXX XX XXXXXXXX                       |***REGISTRO XXXXXXXX XX XXXXXXXX                       |\n",
      "|XXXX XXXXXXXX XXX XXXXXX  (  J 7  )                    |XXXX XXXXXXXX XXX XXXXXX  (  J 7  )                    |\n",
      "|XXXXXXXX XXXXXXX XX XXXXXXX?X?X                        |XXXXXXXX XXXXXXX XX XXXXXXX?X?X                        |\n",
      "|XXXXXXX XXXXX XX XXXX ( ABC)                           |XXXXXXX XXXXX XX XXXX ( ABC)                           |\n",
      "|XXXX XXXXXXXX XX XXXXX XXXXX (I 1)                     |XXXX XXXXXXXX XX XXXXX XXXXX (I 1)                     |\n",
      "|IGNORADO XXXX XXXXXX XXX XXXXXX                        |_ XXXX XXXXXX XXX XXXXXX                               |\n",
      "|INGNORADO XXXX XXXXXX XXXXXXXX                         |INGNORADO XXXX XXXXXX XXXXXXXX                         |\n",
      "|XXXXXXX XXXXXXX XXX XXXXXX    ( G 2 )                  |XXXXXXX XXXXXXX XXX XXXXXX    ( G 2 )                  |\n",
      "|XXXXXXXXX XXXXXXX      XXXXXXX                         |XXXXXXXXX XXXXXXX      XXXXXXX                         |\n",
      "|XXXXXXXX XXXXX XXX XXX                             XXXX|XXXXXXXX XXXXX XXX XXX                             XXXX|\n",
      "|XXXX XXXXXXXX XXXXXXXXX XX XXXXX     ( J  5 )          |XXXX XXXXXXXX XXXXXXXXX XX XXXXX     ( J  5 )          |\n",
      "+-------------------------------------------------------+-------------------------------------------------------+\n",
      "only showing top 30 rows\n",
      "\n"
     ]
    }
   ],
   "source": [
    "df.withColumn('nome_novo', F.regexp_replace('nome', 'IGNORADO', '_')).show(30, False)"
   ]
  }
 ],
 "metadata": {
  "kernelspec": {
   "display_name": "Python 3",
   "language": "python",
   "name": "python3"
  },
  "language_info": {
   "codemirror_mode": {
    "name": "ipython",
    "version": 3
   },
   "file_extension": ".py",
   "mimetype": "text/x-python",
   "name": "python",
   "nbconvert_exporter": "python",
   "pygments_lexer": "ipython3",
   "version": "3.7.4"
  }
 },
 "nbformat": 4,
 "nbformat_minor": 2
}
