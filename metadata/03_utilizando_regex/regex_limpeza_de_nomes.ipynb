{
 "cells": [
  {
   "cell_type": "code",
   "execution_count": 1,
   "metadata": {},
   "outputs": [],
   "source": [
    "import pyspark.sql.functions as F\n",
    "import re"
   ]
  },
  {
   "cell_type": "code",
   "execution_count": 2,
   "metadata": {},
   "outputs": [],
   "source": [
    "df = spark.read.csv('/home/tatiane/Downloads/teste.csv', header = True)"
   ]
  },
  {
   "cell_type": "code",
   "execution_count": 3,
   "metadata": {},
   "outputs": [
    {
     "data": {
      "text/plain": [
       "32"
      ]
     },
     "execution_count": 3,
     "metadata": {},
     "output_type": "execute_result"
    }
   ],
   "source": [
    "df.count()"
   ]
  },
  {
   "cell_type": "code",
   "execution_count": 4,
   "metadata": {},
   "outputs": [
    {
     "name": "stdout",
     "output_type": "stream",
     "text": [
      "+-------------------------------------------------------+\n",
      "|nome                                                   |\n",
      "+-------------------------------------------------------+\n",
      "|XXXXXXXX XXXXXXXX XXXXX (G1)                           |\n",
      "|XXXXXXXX XXXXXXXX XX XXXXX  ( S 3 )                    |\n",
      "|XXXXXXX XXXXXX XX XXXXX (A7)                           |\n",
      "|XXXXXXXX XXXXX XXX XXXXXX  (  R 1  )                   |\n",
      "|XXXXX XXXXXXX XX XXXXX  (  I 2  )                      |\n",
      "|XXXXXXX XXXXXX XXXXXXXX XXXXXXX XXXXXXX (A6)           |\n",
      "|IGONORADO DE IGN XXXX XXXXXX XXXXXXX                   |\n",
      "|IGNOTADO XXXXX XXXX XX XXXXXXX                         |\n",
      "|XXXXXX XXXXXXXX XX XXXXXXXX  ( R 3 )                   |\n",
      "|XXXXX XXXXXXX XX XXXXX  (  I 2  )                      |\n",
      "|IGN XXXX  XXXXXXXX      \t***REG                        |\n",
      "|IGNORADO ING XXXXXXX XXXX XXXXXXX                      |\n",
      "|XXXXXX XXXXXXX XX XXXXXX  ( C 3 )                      |\n",
      "|XXXXX XXXXXXX XXXXXX  ( M 15 )                         |\n",
      "|( XXXXX) XXXXXXXXX XXXX XXXXX XX XXXX                  |\n",
      "|XXXX XXXXXXX XXXXXX  ( J16)                            |\n",
      "|XXXXXXXXXX XXXXXXXX XX XXXXX ( M 20 )                  |\n",
      "|XXXX XXXXXXX XXXXXX XXXXXXX ( J8 )                     |\n",
      "|XXXX XXXXX XX XXXXXXXX  (  J 15  )                     |\n",
      "|***REGISTRO XXXXXXXX XX XXXXXXXX                       |\n",
      "|XXXX XXXXXXXX XXX XXXXXX  (  J 7  )                    |\n",
      "|XXXXXXXX XXXXXXX XX XXXXXXX?X?X                        |\n",
      "|XXXXXXX XXXXX XX XXXX ( ABC)                           |\n",
      "|XXXX XXXXXXXX XX XXXXX XXXXX (I 1)                     |\n",
      "|IGNORADO XXXX XXXXXX XXX XXXXXX                        |\n",
      "|INGNORADO XXXX XXXXXX XXXXXXXX                         |\n",
      "|XXXXXXX XXXXXXX XXX XXXXXX    ( G 2 )                  |\n",
      "|XXXXXXXXX XXXXXXX      XXXXXXX                         |\n",
      "|XXXXXXXX XXXXX XXX XXX                             XXXX|\n",
      "|XXXX XXXXXXXX XXXXXXXXX XX XXXXX     ( J  5 )          |\n",
      "|XXXXX     XXXXXX      XXXXX (  XXXXXXXXX               |\n",
      "|(HUU%ˆ&*#*YBFKJDFG) XXXXXXXX (454lksd7ˆ9*%6d)          |\n",
      "+-------------------------------------------------------+\n",
      "\n"
     ]
    }
   ],
   "source": [
    "df.show(32, False)"
   ]
  },
  {
   "cell_type": "markdown",
   "metadata": {},
   "source": [
    "* rlike: gerar uma condição\n",
    "* F.regexp_replace: permite replace no dataframe"
   ]
  },
  {
   "cell_type": "raw",
   "metadata": {},
   "source": [
    "# Para saber mais sobre:\n",
    "F.regexp_replace?"
   ]
  },
  {
   "cell_type": "code",
   "execution_count": 5,
   "metadata": {},
   "outputs": [
    {
     "name": "stdout",
     "output_type": "stream",
     "text": [
      "+-------------------------------------------------------+-------------------------------------------------------+\n",
      "|nome                                                   |nome_novo                                              |\n",
      "+-------------------------------------------------------+-------------------------------------------------------+\n",
      "|XXXXXXXX XXXXXXXX XXXXX (G1)                           |XXXXXXXX XXXXXXXX XXXXX (G1)                           |\n",
      "|XXXXXXXX XXXXXXXX XX XXXXX  ( S 3 )                    |XXXXXXXX XXXXXXXX XX XXXXX  ( S 3 )                    |\n",
      "|XXXXXXX XXXXXX XX XXXXX (A7)                           |XXXXXXX XXXXXX XX XXXXX (A7)                           |\n",
      "|XXXXXXXX XXXXX XXX XXXXXX  (  R 1  )                   |XXXXXXXX XXXXX XXX XXXXXX  (  R 1  )                   |\n",
      "|XXXXX XXXXXXX XX XXXXX  (  I 2  )                      |XXXXX XXXXXXX XX XXXXX  (  I 2  )                      |\n",
      "|XXXXXXX XXXXXX XXXXXXXX XXXXXXX XXXXXXX (A6)           |XXXXXXX XXXXXX XXXXXXXX XXXXXXX XXXXXXX (A6)           |\n",
      "|IGONORADO DE IGN XXXX XXXXXX XXXXXXX                   |IGONORADO DE IGN XXXX XXXXXX XXXXXXX                   |\n",
      "|IGNOTADO XXXXX XXXX XX XXXXXXX                         |IGNOTADO XXXXX XXXX XX XXXXXXX                         |\n",
      "|XXXXXX XXXXXXXX XX XXXXXXXX  ( R 3 )                   |XXXXXX XXXXXXXX XX XXXXXXXX  ( R 3 )                   |\n",
      "|XXXXX XXXXXXX XX XXXXX  (  I 2  )                      |XXXXX XXXXXXX XX XXXXX  (  I 2  )                      |\n",
      "|IGN XXXX  XXXXXXXX      \t***REG                        |IGN XXXX  XXXXXXXX      \t_REG                          |\n",
      "|IGNORADO ING XXXXXXX XXXX XXXXXXX                      |IGNORADO ING XXXXXXX XXXX XXXXXXX                      |\n",
      "|XXXXXX XXXXXXX XX XXXXXX  ( C 3 )                      |XXXXXX XXXXXXX XX XXXXXX  ( C 3 )                      |\n",
      "|XXXXX XXXXXXX XXXXXX  ( M 15 )                         |XXXXX XXXXXXX XXXXXX  ( M 15 )                         |\n",
      "|( XXXXX) XXXXXXXXX XXXX XXXXX XX XXXX                  |( XXXXX) XXXXXXXXX XXXX XXXXX XX XXXX                  |\n",
      "|XXXX XXXXXXX XXXXXX  ( J16)                            |XXXX XXXXXXX XXXXXX  ( J16)                            |\n",
      "|XXXXXXXXXX XXXXXXXX XX XXXXX ( M 20 )                  |XXXXXXXXXX XXXXXXXX XX XXXXX ( M 20 )                  |\n",
      "|XXXX XXXXXXX XXXXXX XXXXXXX ( J8 )                     |XXXX XXXXXXX XXXXXX XXXXXXX ( J8 )                     |\n",
      "|XXXX XXXXX XX XXXXXXXX  (  J 15  )                     |XXXX XXXXX XX XXXXXXXX  (  J 15  )                     |\n",
      "|***REGISTRO XXXXXXXX XX XXXXXXXX                       |_REGISTRO XXXXXXXX XX XXXXXXXX                         |\n",
      "|XXXX XXXXXXXX XXX XXXXXX  (  J 7  )                    |XXXX XXXXXXXX XXX XXXXXX  (  J 7  )                    |\n",
      "|XXXXXXXX XXXXXXX XX XXXXXXX?X?X                        |XXXXXXXX XXXXXXX XX XXXXXXX?X?X                        |\n",
      "|XXXXXXX XXXXX XX XXXX ( ABC)                           |XXXXXXX XXXXX XX XXXX ( ABC)                           |\n",
      "|XXXX XXXXXXXX XX XXXXX XXXXX (I 1)                     |XXXX XXXXXXXX XX XXXXX XXXXX (I 1)                     |\n",
      "|IGNORADO XXXX XXXXXX XXX XXXXXX                        |IGNORADO XXXX XXXXXX XXX XXXXXX                        |\n",
      "|INGNORADO XXXX XXXXXX XXXXXXXX                         |INGNORADO XXXX XXXXXX XXXXXXXX                         |\n",
      "|XXXXXXX XXXXXXX XXX XXXXXX    ( G 2 )                  |XXXXXXX XXXXXXX XXX XXXXXX    ( G 2 )                  |\n",
      "|XXXXXXXXX XXXXXXX      XXXXXXX                         |XXXXXXXXX XXXXXXX      XXXXXXX                         |\n",
      "|XXXXXXXX XXXXX XXX XXX                             XXXX|XXXXXXXX XXXXX XXX XXX                             XXXX|\n",
      "|XXXX XXXXXXXX XXXXXXXXX XX XXXXX     ( J  5 )          |XXXX XXXXXXXX XXXXXXXXX XX XXXXX     ( J  5 )          |\n",
      "|XXXXX     XXXXXX      XXXXX (  XXXXXXXXX               |XXXXX     XXXXXX      XXXXX (  XXXXXXXXX               |\n",
      "|(HUU%ˆ&*#*YBFKJDFG) XXXXXXXX (454lksd7ˆ9*%6d)          |(HUU%ˆ&*#*YBFKJDFG) XXXXXXXX (454lksd7ˆ9*%6d)          |\n",
      "+-------------------------------------------------------+-------------------------------------------------------+\n",
      "\n"
     ]
    }
   ],
   "source": [
    "# deletando *** \n",
    "df.withColumn('nome_novo', F.regexp_replace('nome', '\\*\\*\\*+', '_')).show(32, False)"
   ]
  },
  {
   "cell_type": "code",
   "execution_count": 6,
   "metadata": {},
   "outputs": [
    {
     "name": "stdout",
     "output_type": "stream",
     "text": [
      "+-------------------------------------------------------+---------------------------------------------+\n",
      "|nome                                                   |nome_novo                                    |\n",
      "+-------------------------------------------------------+---------------------------------------------+\n",
      "|XXXXXXXX XXXXXXXX XXXXX (G1)                           |XXXXXXXX_XXXXXXXX_XXXXX_(G1)                 |\n",
      "|XXXXXXXX XXXXXXXX XX XXXXX  ( S 3 )                    |XXXXXXXX_XXXXXXXX_XX_XXXXX_(_S_3_)           |\n",
      "|XXXXXXX XXXXXX XX XXXXX (A7)                           |XXXXXXX_XXXXXX_XX_XXXXX_(A7)                 |\n",
      "|XXXXXXXX XXXXX XXX XXXXXX  (  R 1  )                   |XXXXXXXX_XXXXX_XXX_XXXXXX_(_R_1_)            |\n",
      "|XXXXX XXXXXXX XX XXXXX  (  I 2  )                      |XXXXX_XXXXXXX_XX_XXXXX_(_I_2_)               |\n",
      "|XXXXXXX XXXXXX XXXXXXXX XXXXXXX XXXXXXX (A6)           |XXXXXXX_XXXXXX_XXXXXXXX_XXXXXXX_XXXXXXX_(A6) |\n",
      "|IGONORADO DE IGN XXXX XXXXXX XXXXXXX                   |IGONORADO_DE_IGN_XXXX_XXXXXX_XXXXXXX         |\n",
      "|IGNOTADO XXXXX XXXX XX XXXXXXX                         |IGNOTADO_XXXXX_XXXX_XX_XXXXXXX               |\n",
      "|XXXXXX XXXXXXXX XX XXXXXXXX  ( R 3 )                   |XXXXXX_XXXXXXXX_XX_XXXXXXXX_(_R_3_)          |\n",
      "|XXXXX XXXXXXX XX XXXXX  (  I 2  )                      |XXXXX_XXXXXXX_XX_XXXXX_(_I_2_)               |\n",
      "|IGN XXXX  XXXXXXXX      \t***REG                        |IGN_XXXX_XXXXXXXX_\t***REG                    |\n",
      "|IGNORADO ING XXXXXXX XXXX XXXXXXX                      |IGNORADO_ING_XXXXXXX_XXXX_XXXXXXX            |\n",
      "|XXXXXX XXXXXXX XX XXXXXX  ( C 3 )                      |XXXXXX_XXXXXXX_XX_XXXXXX_(_C_3_)             |\n",
      "|XXXXX XXXXXXX XXXXXX  ( M 15 )                         |XXXXX_XXXXXXX_XXXXXX_(_M_15_)                |\n",
      "|( XXXXX) XXXXXXXXX XXXX XXXXX XX XXXX                  |(_XXXXX)_XXXXXXXXX_XXXX_XXXXX_XX_XXXX        |\n",
      "|XXXX XXXXXXX XXXXXX  ( J16)                            |XXXX_XXXXXXX_XXXXXX_(_J16)                   |\n",
      "|XXXXXXXXXX XXXXXXXX XX XXXXX ( M 20 )                  |XXXXXXXXXX_XXXXXXXX_XX_XXXXX_(_M_20_)        |\n",
      "|XXXX XXXXXXX XXXXXX XXXXXXX ( J8 )                     |XXXX_XXXXXXX_XXXXXX_XXXXXXX_(_J8_)           |\n",
      "|XXXX XXXXX XX XXXXXXXX  (  J 15  )                     |XXXX_XXXXX_XX_XXXXXXXX_(_J_15_)              |\n",
      "|***REGISTRO XXXXXXXX XX XXXXXXXX                       |***REGISTRO_XXXXXXXX_XX_XXXXXXXX             |\n",
      "|XXXX XXXXXXXX XXX XXXXXX  (  J 7  )                    |XXXX_XXXXXXXX_XXX_XXXXXX_(_J_7_)             |\n",
      "|XXXXXXXX XXXXXXX XX XXXXXXX?X?X                        |XXXXXXXX_XXXXXXX_XX_XXXXXXX?X?X              |\n",
      "|XXXXXXX XXXXX XX XXXX ( ABC)                           |XXXXXXX_XXXXX_XX_XXXX_(_ABC)                 |\n",
      "|XXXX XXXXXXXX XX XXXXX XXXXX (I 1)                     |XXXX_XXXXXXXX_XX_XXXXX_XXXXX_(I_1)           |\n",
      "|IGNORADO XXXX XXXXXX XXX XXXXXX                        |IGNORADO_XXXX_XXXXXX_XXX_XXXXXX              |\n",
      "|INGNORADO XXXX XXXXXX XXXXXXXX                         |INGNORADO_XXXX_XXXXXX_XXXXXXXX               |\n",
      "|XXXXXXX XXXXXXX XXX XXXXXX    ( G 2 )                  |XXXXXXX_XXXXXXX_XXX_XXXXXX_(_G_2_)           |\n",
      "|XXXXXXXXX XXXXXXX      XXXXXXX                         |XXXXXXXXX_XXXXXXX_XXXXXXX                    |\n",
      "|XXXXXXXX XXXXX XXX XXX                             XXXX|XXXXXXXX_XXXXX_XXX_XXX_XXXX                  |\n",
      "|XXXX XXXXXXXX XXXXXXXXX XX XXXXX     ( J  5 )          |XXXX_XXXXXXXX_XXXXXXXXX_XX_XXXXX_(_J_5_)     |\n",
      "|XXXXX     XXXXXX      XXXXX (  XXXXXXXXX               |XXXXX_XXXXXX_XXXXX_(_XXXXXXXXX               |\n",
      "|(HUU%ˆ&*#*YBFKJDFG) XXXXXXXX (454lksd7ˆ9*%6d)          |(HUU%ˆ&*#*YBFKJDFG)_XXXXXXXX_(454lksd7ˆ9*%6d)|\n",
      "+-------------------------------------------------------+---------------------------------------------+\n",
      "\n"
     ]
    }
   ],
   "source": [
    "#apagando os espaços excessivos\n",
    "df.withColumn('nome_novo', F.regexp_replace('nome', ' +', '_')).show(32, False)"
   ]
  },
  {
   "cell_type": "code",
   "execution_count": 7,
   "metadata": {},
   "outputs": [
    {
     "name": "stdout",
     "output_type": "stream",
     "text": [
      "+-------------------------------------------------------+-------------------------------------------------------+\n",
      "|nome                                                   |nome_novo                                              |\n",
      "+-------------------------------------------------------+-------------------------------------------------------+\n",
      "|XXXXXXXX XXXXXXXX XXXXX (G1)                           |XXXXXXXX XXXXXXXX XXXXX (G1)                           |\n",
      "|XXXXXXXX XXXXXXXX XX XXXXX  ( S 3 )                    |XXXXXXXX XXXXXXXX XX XXXXX  ( S 3 )                    |\n",
      "|XXXXXXX XXXXXX XX XXXXX (A7)                           |XXXXXXX XXXXXX XX XXXXX (A7)                           |\n",
      "|XXXXXXXX XXXXX XXX XXXXXX  (  R 1  )                   |XXXXXXXX XXXXX XXX XXXXXX  (  R 1  )                   |\n",
      "|XXXXX XXXXXXX XX XXXXX  (  I 2  )                      |XXXXX XXXXXXX XX XXXXX  (  I 2  )                      |\n",
      "|XXXXXXX XXXXXX XXXXXXXX XXXXXXX XXXXXXX (A6)           |XXXXXXX XXXXXX XXXXXXXX XXXXXXX XXXXXXX (A6)           |\n",
      "|IGONORADO DE IGN XXXX XXXXXX XXXXXXX                   |IGONORADO DE IGN XXXX XXXXXX XXXXXXX                   |\n",
      "|IGNOTADO XXXXX XXXX XX XXXXXXX                         |IGNOTADO XXXXX XXXX XX XXXXXXX                         |\n",
      "|XXXXXX XXXXXXXX XX XXXXXXXX  ( R 3 )                   |XXXXXX XXXXXXXX XX XXXXXXXX  ( R 3 )                   |\n",
      "|XXXXX XXXXXXX XX XXXXX  (  I 2  )                      |XXXXX XXXXXXX XX XXXXX  (  I 2  )                      |\n",
      "|IGN XXXX  XXXXXXXX      \t***REG                        |IGN XXXX  XXXXXXXX      \t***REG                        |\n",
      "|IGNORADO ING XXXXXXX XXXX XXXXXXX                      |IGNORADO ING XXXXXXX XXXX XXXXXXX                      |\n",
      "|XXXXXX XXXXXXX XX XXXXXX  ( C 3 )                      |XXXXXX XXXXXXX XX XXXXXX  ( C 3 )                      |\n",
      "|XXXXX XXXXXXX XXXXXX  ( M 15 )                         |XXXXX XXXXXXX XXXXXX  ( M 15 )                         |\n",
      "|( XXXXX) XXXXXXXXX XXXX XXXXX XX XXXX                  |( XXXXX) XXXXXXXXX XXXX XXXXX XX XXXX                  |\n",
      "|XXXX XXXXXXX XXXXXX  ( J16)                            |XXXX XXXXXXX XXXXXX  ( J16)                            |\n",
      "|XXXXXXXXXX XXXXXXXX XX XXXXX ( M 20 )                  |XXXXXXXXXX XXXXXXXX XX XXXXX ( M 20 )                  |\n",
      "|XXXX XXXXXXX XXXXXX XXXXXXX ( J8 )                     |XXXX XXXXXXX XXXXXX XXXXXXX ( J8 )                     |\n",
      "|XXXX XXXXX XX XXXXXXXX  (  J 15  )                     |XXXX XXXXX XX XXXXXXXX  (  J 15  )                     |\n",
      "|***REGISTRO XXXXXXXX XX XXXXXXXX                       |***REGISTRO XXXXXXXX XX XXXXXXXX                       |\n",
      "|XXXX XXXXXXXX XXX XXXXXX  (  J 7  )                    |XXXX XXXXXXXX XXX XXXXXX  (  J 7  )                    |\n",
      "|XXXXXXXX XXXXXXX XX XXXXXXX?X?X                        |XXXXXXXX XXXXXXX XX XXXXXXX?X?X                        |\n",
      "|XXXXXXX XXXXX XX XXXX ( ABC)                           |XXXXXXX XXXXX XX XXXX ( ABC)                           |\n",
      "|XXXX XXXXXXXX XX XXXXX XXXXX (I 1)                     |XXXX XXXXXXXX XX XXXXX XXXXX (I 1)                     |\n",
      "|IGNORADO XXXX XXXXXX XXX XXXXXX                        |IGNORADO XXXX XXXXXX XXX XXXXXX                        |\n",
      "|INGNORADO XXXX XXXXXX XXXXXXXX                         |INGNORADO XXXX XXXXXX XXXXXXXX                         |\n",
      "|XXXXXXX XXXXXXX XXX XXXXXX    ( G 2 )                  |XXXXXXX XXXXXXX XXX XXXXXX    ( G 2 )                  |\n",
      "|XXXXXXXXX XXXXXXX      XXXXXXX                         |XXXXXXXXX XXXXXXX      XXXXXXX                         |\n",
      "|XXXXXXXX XXXXX XXX XXX                             XXXX|XXXXXXXX XXXXX XXX XXX                             XXXX|\n",
      "|XXXX XXXXXXXX XXXXXXXXX XX XXXXX     ( J  5 )          |XXXX XXXXXXXX XXXXXXXXX XX XXXXX     ( J  5 )          |\n",
      "|XXXXX     XXXXXX      XXXXX (  XXXXXXXXX               |XXXXX     XXXXXX      XXXXX (  XXXXXXXXX               |\n",
      "|(HUU%ˆ&*#*YBFKJDFG) XXXXXXXX (454lksd7ˆ9*%6d)          |_ XXXXXXXX (454lksd7ˆ9*%6d)                            |\n",
      "+-------------------------------------------------------+-------------------------------------------------------+\n",
      "\n"
     ]
    }
   ],
   "source": [
    "#apagando primeiro caso do ultimo registro\n",
    "df.withColumn('nome_novo', F.regexp_replace('nome', '^\\(HUU[^\\)]+\\)', '_')).show(32, False)"
   ]
  },
  {
   "cell_type": "code",
   "execution_count": 8,
   "metadata": {},
   "outputs": [
    {
     "name": "stdout",
     "output_type": "stream",
     "text": [
      "+-------------------------------------------------------+-------------------------------------------------------+\n",
      "|nome                                                   |nome_novo                                              |\n",
      "+-------------------------------------------------------+-------------------------------------------------------+\n",
      "|XXXXXXXX XXXXXXXX XXXXX (G1)                           |XXXXXXXX XXXXXXXX XXXXX (G1)                           |\n",
      "|XXXXXXXX XXXXXXXX XX XXXXX  ( S 3 )                    |XXXXXXXX XXXXXXXX XX XXXXX  ( S 3 )                    |\n",
      "|XXXXXXX XXXXXX XX XXXXX (A7)                           |XXXXXXX XXXXXX XX XXXXX (A7)                           |\n",
      "|XXXXXXXX XXXXX XXX XXXXXX  (  R 1  )                   |XXXXXXXX XXXXX XXX XXXXXX  (  R 1  )                   |\n",
      "|XXXXX XXXXXXX XX XXXXX  (  I 2  )                      |XXXXX XXXXXXX XX XXXXX  (  I 2  )                      |\n",
      "|XXXXXXX XXXXXX XXXXXXXX XXXXXXX XXXXXXX (A6)           |XXXXXXX XXXXXX XXXXXXXX XXXXXXX XXXXXXX (A6)           |\n",
      "|IGONORADO DE IGN XXXX XXXXXX XXXXXXX                   |IGONORADO DE IGN XXXX XXXXXX XXXXXXX                   |\n",
      "|IGNOTADO XXXXX XXXX XX XXXXXXX                         |IGNOTADO XXXXX XXXX XX XXXXXXX                         |\n",
      "|XXXXXX XXXXXXXX XX XXXXXXXX  ( R 3 )                   |XXXXXX XXXXXXXX XX XXXXXXXX  ( R 3 )                   |\n",
      "|XXXXX XXXXXXX XX XXXXX  (  I 2  )                      |XXXXX XXXXXXX XX XXXXX  (  I 2  )                      |\n",
      "|IGN XXXX  XXXXXXXX      \t***REG                        |IGN XXXX  XXXXXXXX      \t***REG                        |\n",
      "|IGNORADO ING XXXXXXX XXXX XXXXXXX                      |IGNORADO ING XXXXXXX XXXX XXXXXXX                      |\n",
      "|XXXXXX XXXXXXX XX XXXXXX  ( C 3 )                      |XXXXXX XXXXXXX XX XXXXXX  ( C 3 )                      |\n",
      "|XXXXX XXXXXXX XXXXXX  ( M 15 )                         |XXXXX XXXXXXX XXXXXX  ( M 15 )                         |\n",
      "|( XXXXX) XXXXXXXXX XXXX XXXXX XX XXXX                  |( XXXXX) XXXXXXXXX XXXX XXXXX XX XXXX                  |\n",
      "|XXXX XXXXXXX XXXXXX  ( J16)                            |XXXX XXXXXXX XXXXXX  ( J16)                            |\n",
      "|XXXXXXXXXX XXXXXXXX XX XXXXX ( M 20 )                  |XXXXXXXXXX XXXXXXXX XX XXXXX ( M 20 )                  |\n",
      "|XXXX XXXXXXX XXXXXX XXXXXXX ( J8 )                     |XXXX XXXXXXX XXXXXX XXXXXXX ( J8 )                     |\n",
      "|XXXX XXXXX XX XXXXXXXX  (  J 15  )                     |XXXX XXXXX XX XXXXXXXX  (  J 15  )                     |\n",
      "|***REGISTRO XXXXXXXX XX XXXXXXXX                       |***REGISTRO XXXXXXXX XX XXXXXXXX                       |\n",
      "|XXXX XXXXXXXX XXX XXXXXX  (  J 7  )                    |XXXX XXXXXXXX XXX XXXXXX  (  J 7  )                    |\n",
      "|XXXXXXXX XXXXXXX XX XXXXXXX?X?X                        |XXXXXXXX XXXXXXX XX XXXXXXX?X?X                        |\n",
      "|XXXXXXX XXXXX XX XXXX ( ABC)                           |XXXXXXX XXXXX XX XXXX ( ABC)                           |\n",
      "|XXXX XXXXXXXX XX XXXXX XXXXX (I 1)                     |XXXX XXXXXXXX XX XXXXX XXXXX (I 1)                     |\n",
      "|IGNORADO XXXX XXXXXX XXX XXXXXX                        |IGNORADO XXXX XXXXXX XXX XXXXXX                        |\n",
      "|INGNORADO XXXX XXXXXX XXXXXXXX                         |INGNORADO XXXX XXXXXX XXXXXXXX                         |\n",
      "|XXXXXXX XXXXXXX XXX XXXXXX    ( G 2 )                  |XXXXXXX XXXXXXX XXX XXXXXX    ( G 2 )                  |\n",
      "|XXXXXXXXX XXXXXXX      XXXXXXX                         |XXXXXXXXX XXXXXXX      XXXXXXX                         |\n",
      "|XXXXXXXX XXXXX XXX XXX                             XXXX|XXXXXXXX XXXXX XXX XXX                             XXXX|\n",
      "|XXXX XXXXXXXX XXXXXXXXX XX XXXXX     ( J  5 )          |XXXX XXXXXXXX XXXXXXXXX XX XXXXX     ( J  5 )          |\n",
      "|XXXXX     XXXXXX      XXXXX (  XXXXXXXXX               |XXXXX     XXXXXX      XXXXX (  XXXXXXXXX               |\n",
      "|(HUU%ˆ&*#*YBFKJDFG) XXXXXXXX (454lksd7ˆ9*%6d)          |(HUU%ˆ&*#*YBFKJDFG) XXXXXXXX _                         |\n",
      "+-------------------------------------------------------+-------------------------------------------------------+\n",
      "\n"
     ]
    }
   ],
   "source": [
    "#apagando o ultimo caso do ultimo registro\n",
    "df.withColumn('nome_novo', F.regexp_replace('nome', '\\(454[^\\)]+\\)', '_')).show(32, False)"
   ]
  },
  {
   "cell_type": "code",
   "execution_count": 9,
   "metadata": {},
   "outputs": [
    {
     "name": "stdout",
     "output_type": "stream",
     "text": [
      "+-------------------------------------------------------+-------------------------------------------------------+\n",
      "|nome                                                   |nome_novo                                              |\n",
      "+-------------------------------------------------------+-------------------------------------------------------+\n",
      "|XXXXXXXX XXXXXXXX XXXXX (G1)                           |XXXXXXXX XXXXXXXX XXXXX (G1_                           |\n",
      "|XXXXXXXX XXXXXXXX XX XXXXX  ( S 3 )                    |XXXXXXXX XXXXXXXX XX XXXXX  _S 3 _                     |\n",
      "|XXXXXXX XXXXXX XX XXXXX (A7)                           |XXXXXXX XXXXXX XX XXXXX (A7_                           |\n",
      "|XXXXXXXX XXXXX XXX XXXXXX  (  R 1  )                   |XXXXXXXX XXXXX XXX XXXXXX  _ R 1  _                    |\n",
      "|XXXXX XXXXXXX XX XXXXX  (  I 2  )                      |XXXXX XXXXXXX XX XXXXX  _ I 2  _                       |\n",
      "|XXXXXXX XXXXXX XXXXXXXX XXXXXXX XXXXXXX (A6)           |XXXXXXX XXXXXX XXXXXXXX XXXXXXX XXXXXXX (A6_           |\n",
      "|IGONORADO DE IGN XXXX XXXXXX XXXXXXX                   |IGONORADO DE IGN XXXX XXXXXX XXXXXXX                   |\n",
      "|IGNOTADO XXXXX XXXX XX XXXXXXX                         |IGNOTADO XXXXX XXXX XX XXXXXXX                         |\n",
      "|XXXXXX XXXXXXXX XX XXXXXXXX  ( R 3 )                   |XXXXXX XXXXXXXX XX XXXXXXXX  _R 3 _                    |\n",
      "|XXXXX XXXXXXX XX XXXXX  (  I 2  )                      |XXXXX XXXXXXX XX XXXXX  _ I 2  _                       |\n",
      "|IGN XXXX  XXXXXXXX      \t***REG                        |IGN XXXX  XXXXXXXX      \t***REG                        |\n",
      "|IGNORADO ING XXXXXXX XXXX XXXXXXX                      |IGNORADO ING XXXXXXX XXXX XXXXXXX                      |\n",
      "|XXXXXX XXXXXXX XX XXXXXX  ( C 3 )                      |XXXXXX XXXXXXX XX XXXXXX  _C 3 _                       |\n",
      "|XXXXX XXXXXXX XXXXXX  ( M 15 )                         |XXXXX XXXXXXX XXXXXX  _M 15 _                          |\n",
      "|( XXXXX) XXXXXXXXX XXXX XXXXX XX XXXX                  |_XXXXX_ XXXXXXXXX XXXX XXXXX XX XXXX                   |\n",
      "|XXXX XXXXXXX XXXXXX  ( J16)                            |XXXX XXXXXXX XXXXXX  _J16_                             |\n",
      "|XXXXXXXXXX XXXXXXXX XX XXXXX ( M 20 )                  |XXXXXXXXXX XXXXXXXX XX XXXXX _M 20 _                   |\n",
      "|XXXX XXXXXXX XXXXXX XXXXXXX ( J8 )                     |XXXX XXXXXXX XXXXXX XXXXXXX _J8 _                      |\n",
      "|XXXX XXXXX XX XXXXXXXX  (  J 15  )                     |XXXX XXXXX XX XXXXXXXX  _ J 15  _                      |\n",
      "|***REGISTRO XXXXXXXX XX XXXXXXXX                       |***REGISTRO XXXXXXXX XX XXXXXXXX                       |\n",
      "|XXXX XXXXXXXX XXX XXXXXX  (  J 7  )                    |XXXX XXXXXXXX XXX XXXXXX  _ J 7  _                     |\n",
      "|XXXXXXXX XXXXXXX XX XXXXXXX?X?X                        |XXXXXXXX XXXXXXX XX XXXXXXX?X?X                        |\n",
      "|XXXXXXX XXXXX XX XXXX ( ABC)                           |XXXXXXX XXXXX XX XXXX _ABC_                            |\n",
      "|XXXX XXXXXXXX XX XXXXX XXXXX (I 1)                     |XXXX XXXXXXXX XX XXXXX XXXXX (I 1_                     |\n",
      "|IGNORADO XXXX XXXXXX XXX XXXXXX                        |IGNORADO XXXX XXXXXX XXX XXXXXX                        |\n",
      "|INGNORADO XXXX XXXXXX XXXXXXXX                         |INGNORADO XXXX XXXXXX XXXXXXXX                         |\n",
      "|XXXXXXX XXXXXXX XXX XXXXXX    ( G 2 )                  |XXXXXXX XXXXXXX XXX XXXXXX    _G 2 _                   |\n",
      "|XXXXXXXXX XXXXXXX      XXXXXXX                         |XXXXXXXXX XXXXXXX      XXXXXXX                         |\n",
      "|XXXXXXXX XXXXX XXX XXX                             XXXX|XXXXXXXX XXXXX XXX XXX                             XXXX|\n",
      "|XXXX XXXXXXXX XXXXXXXXX XX XXXXX     ( J  5 )          |XXXX XXXXXXXX XXXXXXXXX XX XXXXX     _J  5 _           |\n",
      "|XXXXX     XXXXXX      XXXXX (  XXXXXXXXX               |XXXXX     XXXXXX      XXXXX _ XXXXXXXXX                |\n",
      "|(HUU%ˆ&*#*YBFKJDFG) XXXXXXXX (454lksd7ˆ9*%6d)          |(HUU%ˆ&*#*YBFKJDFG_ XXXXXXXX _54lksd7ˆ9*%6d_           |\n",
      "+-------------------------------------------------------+-------------------------------------------------------+\n",
      "\n"
     ]
    }
   ],
   "source": [
    "#apagando os parenteses, exceto os que estão colados com uma letra\n",
    "df.withColumn('nome_novo', F.regexp_replace('nome', '\\([^A-Z]|\\)', '_')).show(32, False)"
   ]
  },
  {
   "cell_type": "code",
   "execution_count": 10,
   "metadata": {},
   "outputs": [
    {
     "name": "stdout",
     "output_type": "stream",
     "text": [
      "+-------------------------------------------------------+-------------------------------------------------------+\n",
      "|nome                                                   |nome_novo                                              |\n",
      "+-------------------------------------------------------+-------------------------------------------------------+\n",
      "|XXXXXXXX XXXXXXXX XXXXX (G1)                           |XXXXXXXX XXXXXXXX XXXXX _G1)                           |\n",
      "|XXXXXXXX XXXXXXXX XX XXXXX  ( S 3 )                    |XXXXXXXX XXXXXXXX XX XXXXX  _ S 3 )                    |\n",
      "|XXXXXXX XXXXXX XX XXXXX (A7)                           |XXXXXXX XXXXXX XX XXXXX _A7)                           |\n",
      "|XXXXXXXX XXXXX XXX XXXXXX  (  R 1  )                   |XXXXXXXX XXXXX XXX XXXXXX  _  R 1  )                   |\n",
      "|XXXXX XXXXXXX XX XXXXX  (  I 2  )                      |XXXXX XXXXXXX XX XXXXX  _  I 2  )                      |\n",
      "|XXXXXXX XXXXXX XXXXXXXX XXXXXXX XXXXXXX (A6)           |XXXXXXX XXXXXX XXXXXXXX XXXXXXX XXXXXXX _A6)           |\n",
      "|IGONORADO DE IGN XXXX XXXXXX XXXXXXX                   |IGONORADO DE IGN XXXX XXXXXX XXXXXXX                   |\n",
      "|IGNOTADO XXXXX XXXX XX XXXXXXX                         |IGNOTADO XXXXX XXXX XX XXXXXXX                         |\n",
      "|XXXXXX XXXXXXXX XX XXXXXXXX  ( R 3 )                   |XXXXXX XXXXXXXX XX XXXXXXXX  _ R 3 )                   |\n",
      "|XXXXX XXXXXXX XX XXXXX  (  I 2  )                      |XXXXX XXXXXXX XX XXXXX  _  I 2  )                      |\n",
      "|IGN XXXX  XXXXXXXX      \t***REG                        |IGN XXXX  XXXXXXXX      \t***REG                        |\n",
      "|IGNORADO ING XXXXXXX XXXX XXXXXXX                      |IGNORADO ING XXXXXXX XXXX XXXXXXX                      |\n",
      "|XXXXXX XXXXXXX XX XXXXXX  ( C 3 )                      |XXXXXX XXXXXXX XX XXXXXX  _ C 3 )                      |\n",
      "|XXXXX XXXXXXX XXXXXX  ( M 15 )                         |XXXXX XXXXXXX XXXXXX  _ M 15 )                         |\n",
      "|( XXXXX) XXXXXXXXX XXXX XXXXX XX XXXX                  |_ XXXXX) XXXXXXXXX XXXX XXXXX XX XXXX                  |\n",
      "|XXXX XXXXXXX XXXXXX  ( J16)                            |XXXX XXXXXXX XXXXXX  _ J16)                            |\n",
      "|XXXXXXXXXX XXXXXXXX XX XXXXX ( M 20 )                  |XXXXXXXXXX XXXXXXXX XX XXXXX _ M 20 )                  |\n",
      "|XXXX XXXXXXX XXXXXX XXXXXXX ( J8 )                     |XXXX XXXXXXX XXXXXX XXXXXXX _ J8 )                     |\n",
      "|XXXX XXXXX XX XXXXXXXX  (  J 15  )                     |XXXX XXXXX XX XXXXXXXX  _  J 15  )                     |\n",
      "|***REGISTRO XXXXXXXX XX XXXXXXXX                       |***REGISTRO XXXXXXXX XX XXXXXXXX                       |\n",
      "|XXXX XXXXXXXX XXX XXXXXX  (  J 7  )                    |XXXX XXXXXXXX XXX XXXXXX  _  J 7  )                    |\n",
      "|XXXXXXXX XXXXXXX XX XXXXXXX?X?X                        |XXXXXXXX XXXXXXX XX XXXXXXX?X?X                        |\n",
      "|XXXXXXX XXXXX XX XXXX ( ABC)                           |XXXXXXX XXXXX XX XXXX _ ABC)                           |\n",
      "|XXXX XXXXXXXX XX XXXXX XXXXX (I 1)                     |XXXX XXXXXXXX XX XXXXX XXXXX _I 1)                     |\n",
      "|IGNORADO XXXX XXXXXX XXX XXXXXX                        |IGNORADO XXXX XXXXXX XXX XXXXXX                        |\n",
      "|INGNORADO XXXX XXXXXX XXXXXXXX                         |INGNORADO XXXX XXXXXX XXXXXXXX                         |\n",
      "|XXXXXXX XXXXXXX XXX XXXXXX    ( G 2 )                  |XXXXXXX XXXXXXX XXX XXXXXX    _ G 2 )                  |\n",
      "|XXXXXXXXX XXXXXXX      XXXXXXX                         |XXXXXXXXX XXXXXXX      XXXXXXX                         |\n",
      "|XXXXXXXX XXXXX XXX XXX                             XXXX|XXXXXXXX XXXXX XXX XXX                             XXXX|\n",
      "|XXXX XXXXXXXX XXXXXXXXX XX XXXXX     ( J  5 )          |XXXX XXXXXXXX XXXXXXXXX XX XXXXX     _ J  5 )          |\n",
      "|XXXXX     XXXXXX      XXXXX (  XXXXXXXXX               |XXXXX     XXXXXX      XXXXX _  XXXXXXXXX               |\n",
      "|(HUU%ˆ&*#*YBFKJDFG) XXXXXXXX (454lksd7ˆ9*%6d)          |_HUU%ˆ&*#*YBFKJDFG) XXXXXXXX _454lksd7ˆ9*%6d)          |\n",
      "+-------------------------------------------------------+-------------------------------------------------------+\n",
      "\n"
     ]
    }
   ],
   "source": [
    "#apagando os parenteses que estao juntos de letras e numeros\n",
    "df.withColumn('nome_novo', F.regexp_replace('nome', '^\\(|\\(', '_')).show(32, False)"
   ]
  },
  {
   "cell_type": "code",
   "execution_count": 11,
   "metadata": {},
   "outputs": [
    {
     "name": "stdout",
     "output_type": "stream",
     "text": [
      "+-------------------------------------------------------+-------------------------------------------------------+\n",
      "|nome                                                   |nome_novo                                              |\n",
      "+-------------------------------------------------------+-------------------------------------------------------+\n",
      "|XXXXXXXX XXXXXXXX XXXXX (G1)                           |XXXXXXXX XXXXXXXX XXXXX _G1_                           |\n",
      "|XXXXXXXX XXXXXXXX XX XXXXX  ( S 3 )                    |XXXXXXXX XXXXXXXX XX XXXXX  _ S 3 _                    |\n",
      "|XXXXXXX XXXXXX XX XXXXX (A7)                           |XXXXXXX XXXXXX XX XXXXX _A7_                           |\n",
      "|XXXXXXXX XXXXX XXX XXXXXX  (  R 1  )                   |XXXXXXXX XXXXX XXX XXXXXX  _  R 1  _                   |\n",
      "|XXXXX XXXXXXX XX XXXXX  (  I 2  )                      |XXXXX XXXXXXX XX XXXXX  _  I 2  _                      |\n",
      "|XXXXXXX XXXXXX XXXXXXXX XXXXXXX XXXXXXX (A6)           |XXXXXXX XXXXXX XXXXXXXX XXXXXXX XXXXXXX _A6_           |\n",
      "|IGONORADO DE IGN XXXX XXXXXX XXXXXXX                   |IGONORADO DE IGN XXXX XXXXXX XXXXXXX                   |\n",
      "|IGNOTADO XXXXX XXXX XX XXXXXXX                         |IGNOTADO XXXXX XXXX XX XXXXXXX                         |\n",
      "|XXXXXX XXXXXXXX XX XXXXXXXX  ( R 3 )                   |XXXXXX XXXXXXXX XX XXXXXXXX  _ R 3 _                   |\n",
      "|XXXXX XXXXXXX XX XXXXX  (  I 2  )                      |XXXXX XXXXXXX XX XXXXX  _  I 2  _                      |\n",
      "|IGN XXXX  XXXXXXXX      \t***REG                        |IGN XXXX  XXXXXXXX      \t***REG                        |\n",
      "|IGNORADO ING XXXXXXX XXXX XXXXXXX                      |IGNORADO ING XXXXXXX XXXX XXXXXXX                      |\n",
      "|XXXXXX XXXXXXX XX XXXXXX  ( C 3 )                      |XXXXXX XXXXXXX XX XXXXXX  _ C 3 _                      |\n",
      "|XXXXX XXXXXXX XXXXXX  ( M 15 )                         |XXXXX XXXXXXX XXXXXX  _ M 15 _                         |\n",
      "|( XXXXX) XXXXXXXXX XXXX XXXXX XX XXXX                  |_ XXXXX_ XXXXXXXXX XXXX XXXXX XX XXXX                  |\n",
      "|XXXX XXXXXXX XXXXXX  ( J16)                            |XXXX XXXXXXX XXXXXX  _ J16_                            |\n",
      "|XXXXXXXXXX XXXXXXXX XX XXXXX ( M 20 )                  |XXXXXXXXXX XXXXXXXX XX XXXXX _ M 20 _                  |\n",
      "|XXXX XXXXXXX XXXXXX XXXXXXX ( J8 )                     |XXXX XXXXXXX XXXXXX XXXXXXX _ J8 _                     |\n",
      "|XXXX XXXXX XX XXXXXXXX  (  J 15  )                     |XXXX XXXXX XX XXXXXXXX  _  J 15  _                     |\n",
      "|***REGISTRO XXXXXXXX XX XXXXXXXX                       |***REGISTRO XXXXXXXX XX XXXXXXXX                       |\n",
      "|XXXX XXXXXXXX XXX XXXXXX  (  J 7  )                    |XXXX XXXXXXXX XXX XXXXXX  _  J 7  _                    |\n",
      "|XXXXXXXX XXXXXXX XX XXXXXXX?X?X                        |XXXXXXXX XXXXXXX XX XXXXXXX?X?X                        |\n",
      "|XXXXXXX XXXXX XX XXXX ( ABC)                           |XXXXXXX XXXXX XX XXXX _ ABC_                           |\n",
      "|XXXX XXXXXXXX XX XXXXX XXXXX (I 1)                     |XXXX XXXXXXXX XX XXXXX XXXXX _I 1_                     |\n",
      "|IGNORADO XXXX XXXXXX XXX XXXXXX                        |IGNORADO XXXX XXXXXX XXX XXXXXX                        |\n",
      "|INGNORADO XXXX XXXXXX XXXXXXXX                         |INGNORADO XXXX XXXXXX XXXXXXXX                         |\n",
      "|XXXXXXX XXXXXXX XXX XXXXXX    ( G 2 )                  |XXXXXXX XXXXXXX XXX XXXXXX    _ G 2 _                  |\n",
      "|XXXXXXXXX XXXXXXX      XXXXXXX                         |XXXXXXXXX XXXXXXX      XXXXXXX                         |\n",
      "|XXXXXXXX XXXXX XXX XXX                             XXXX|XXXXXXXX XXXXX XXX XXX                             XXXX|\n",
      "|XXXX XXXXXXXX XXXXXXXXX XX XXXXX     ( J  5 )          |XXXX XXXXXXXX XXXXXXXXX XX XXXXX     _ J  5 _          |\n",
      "|XXXXX     XXXXXX      XXXXX (  XXXXXXXXX               |XXXXX     XXXXXX      XXXXX _  XXXXXXXXX               |\n",
      "|(HUU%ˆ&*#*YBFKJDFG) XXXXXXXX (454lksd7ˆ9*%6d)          |_HUU%ˆ&*#*YBFKJDFG_ XXXXXXXX _454lksd7ˆ9*%6d_          |\n",
      "+-------------------------------------------------------+-------------------------------------------------------+\n",
      "\n"
     ]
    }
   ],
   "source": [
    "#apagando todos os parenteses de uma vez\n",
    "df.withColumn('nome_novo', F.regexp_replace('nome', '^\\(|\\(|\\([^A-Z]|\\)', '_')).show(32, False)"
   ]
  },
  {
   "cell_type": "code",
   "execution_count": 12,
   "metadata": {},
   "outputs": [
    {
     "name": "stdout",
     "output_type": "stream",
     "text": [
      "+-------------------------------------------------------+-------------------------------------------------------+\n",
      "|nome                                                   |nome_novo                                              |\n",
      "+-------------------------------------------------------+-------------------------------------------------------+\n",
      "|XXXXXXXX XXXXXXXX XXXXX (G1)                           |XXXXXXXX XXXXXXXX XXXXX __                             |\n",
      "|XXXXXXXX XXXXXXXX XX XXXXX  ( S 3 )                    |XXXXXXXX XXXXXXXX XX XXXXX  __                         |\n",
      "|XXXXXXX XXXXXX XX XXXXX (A7)                           |XXXXXXX XXXXXX XX XXXXX __                             |\n",
      "|XXXXXXXX XXXXX XXX XXXXXX  (  R 1  )                   |XXXXXXXX XXXXX XXX XXXXXX  __                          |\n",
      "|XXXXX XXXXXXX XX XXXXX  (  I 2  )                      |XXXXX XXXXXXX XX XXXXX  __                             |\n",
      "|XXXXXXX XXXXXX XXXXXXXX XXXXXXX XXXXXXX (A6)           |XXXXXXX XXXXXX XXXXXXXX XXXXXXX XXXXXXX __             |\n",
      "|IGONORADO DE IGN XXXX XXXXXX XXXXXXX                   |IGONORADO DE IGN XXXX XXXXXX XXXXXXX                   |\n",
      "|IGNOTADO XXXXX XXXX XX XXXXXXX                         |IGNOTADO XXXXX XXXX XX XXXXXXX                         |\n",
      "|XXXXXX XXXXXXXX XX XXXXXXXX  ( R 3 )                   |XXXXXX XXXXXXXX XX XXXXXXXX  __                        |\n",
      "|XXXXX XXXXXXX XX XXXXX  (  I 2  )                      |XXXXX XXXXXXX XX XXXXX  __                             |\n",
      "|IGN XXXX  XXXXXXXX      \t***REG                        |IGN XXXX  XXXXXXXX      \t***REG                        |\n",
      "|IGNORADO ING XXXXXXX XXXX XXXXXXX                      |IGNORADO ING XXXXXXX XXXX XXXXXXX                      |\n",
      "|XXXXXX XXXXXXX XX XXXXXX  ( C 3 )                      |XXXXXX XXXXXXX XX XXXXXX  __                           |\n",
      "|XXXXX XXXXXXX XXXXXX  ( M 15 )                         |XXXXX XXXXXXX XXXXXX  __                               |\n",
      "|( XXXXX) XXXXXXXXX XXXX XXXXX XX XXXX                  |__ XXXXXXXXX XXXX XXXXX XX XXXX                        |\n",
      "|XXXX XXXXXXX XXXXXX  ( J16)                            |XXXX XXXXXXX XXXXXX  __                                |\n",
      "|XXXXXXXXXX XXXXXXXX XX XXXXX ( M 20 )                  |XXXXXXXXXX XXXXXXXX XX XXXXX __                        |\n",
      "|XXXX XXXXXXX XXXXXX XXXXXXX ( J8 )                     |XXXX XXXXXXX XXXXXX XXXXXXX __                         |\n",
      "|XXXX XXXXX XX XXXXXXXX  (  J 15  )                     |XXXX XXXXX XX XXXXXXXX  __                             |\n",
      "|***REGISTRO XXXXXXXX XX XXXXXXXX                       |***REGISTRO XXXXXXXX XX XXXXXXXX                       |\n",
      "|XXXX XXXXXXXX XXX XXXXXX  (  J 7  )                    |XXXX XXXXXXXX XXX XXXXXX  __                           |\n",
      "|XXXXXXXX XXXXXXX XX XXXXXXX?X?X                        |XXXXXXXX XXXXXXX XX XXXXXXX?X?X                        |\n",
      "|XXXXXXX XXXXX XX XXXX ( ABC)                           |XXXXXXX XXXXX XX XXXX __                               |\n",
      "|XXXX XXXXXXXX XX XXXXX XXXXX (I 1)                     |XXXX XXXXXXXX XX XXXXX XXXXX __                        |\n",
      "|IGNORADO XXXX XXXXXX XXX XXXXXX                        |IGNORADO XXXX XXXXXX XXX XXXXXX                        |\n",
      "|INGNORADO XXXX XXXXXX XXXXXXXX                         |INGNORADO XXXX XXXXXX XXXXXXXX                         |\n",
      "|XXXXXXX XXXXXXX XXX XXXXXX    ( G 2 )                  |XXXXXXX XXXXXXX XXX XXXXXX    __                       |\n",
      "|XXXXXXXXX XXXXXXX      XXXXXXX                         |XXXXXXXXX XXXXXXX      XXXXXXX                         |\n",
      "|XXXXXXXX XXXXX XXX XXX                             XXXX|XXXXXXXX XXXXX XXX XXX                             XXXX|\n",
      "|XXXX XXXXXXXX XXXXXXXXX XX XXXXX     ( J  5 )          |XXXX XXXXXXXX XXXXXXXXX XX XXXXX     __                |\n",
      "|XXXXX     XXXXXX      XXXXX (  XXXXXXXXX               |XXXXX     XXXXXX      XXXXX _                          |\n",
      "|(HUU%ˆ&*#*YBFKJDFG) XXXXXXXX (454lksd7ˆ9*%6d)          |__ XXXXXXXX __                                         |\n",
      "+-------------------------------------------------------+-------------------------------------------------------+\n",
      "\n"
     ]
    }
   ],
   "source": [
    "# apagando os parenteses e tudo que  tem neles\n",
    "df.withColumn('nome_novo', F.regexp_replace('nome', '\\([^\\)]+|\\)', '_')).show(32, False)\n",
    "# obs: a depender da ordem, apaga uma sequencia de XXX dentro dos parenteses"
   ]
  },
  {
   "cell_type": "code",
   "execution_count": 13,
   "metadata": {},
   "outputs": [
    {
     "name": "stdout",
     "output_type": "stream",
     "text": [
      "+-------------------------------------------------------+-------------------------------------------------------+\n",
      "|nome                                                   |nome_novo                                              |\n",
      "+-------------------------------------------------------+-------------------------------------------------------+\n",
      "|XXXXXXXX XXXXXXXX XXXXX (G1)                           |XXXXXXXX XXXXXXXX XXXXX (G1)                           |\n",
      "|XXXXXXXX XXXXXXXX XX XXXXX  ( S 3 )                    |XXXXXXXX XXXXXXXX XX XXXXX  ( S 3 )                    |\n",
      "|XXXXXXX XXXXXX XX XXXXX (A7)                           |XXXXXXX XXXXXX XX XXXXX (A7)                           |\n",
      "|XXXXXXXX XXXXX XXX XXXXXX  (  R 1  )                   |XXXXXXXX XXXXX XXX XXXXXX  (  R 1  )                   |\n",
      "|XXXXX XXXXXXX XX XXXXX  (  I 2  )                      |XXXXX XXXXXXX XX XXXXX  (  I 2  )                      |\n",
      "|XXXXXXX XXXXXX XXXXXXXX XXXXXXX XXXXXXX (A6)           |XXXXXXX XXXXXX XXXXXXXX XXXXXXX XXXXXXX (A6)           |\n",
      "|IGONORADO DE IGN XXXX XXXXXX XXXXXXX                   |_ _ _ XXXX XXXXXX XXXXXXX                              |\n",
      "|IGNOTADO XXXXX XXXX XX XXXXXXX                         |_ XXXXX XXXX XX XXXXXXX                                |\n",
      "|XXXXXX XXXXXXXX XX XXXXXXXX  ( R 3 )                   |XXXXXX XXXXXXXX XX XXXXXXXX  ( R 3 )                   |\n",
      "|XXXXX XXXXXXX XX XXXXX  (  I 2  )                      |XXXXX XXXXXXX XX XXXXX  (  I 2  )                      |\n",
      "|IGN XXXX  XXXXXXXX      \t***REG                        |_ XXXX  XXXXXXXX      \t***REG                          |\n",
      "|IGNORADO ING XXXXXXX XXXX XXXXXXX                      |_ _ XXXXXXX XXXX XXXXXXX                               |\n",
      "|XXXXXX XXXXXXX XX XXXXXX  ( C 3 )                      |XXXXXX XXXXXXX XX XXXXXX  ( C 3 )                      |\n",
      "|XXXXX XXXXXXX XXXXXX  ( M 15 )                         |XXXXX XXXXXXX XXXXXX  ( M 15 )                         |\n",
      "|( XXXXX) XXXXXXXXX XXXX XXXXX XX XXXX                  |( XXXXX) XXXXXXXXX XXXX XXXXX XX XXXX                  |\n",
      "|XXXX XXXXXXX XXXXXX  ( J16)                            |XXXX XXXXXXX XXXXXX  ( J16)                            |\n",
      "|XXXXXXXXXX XXXXXXXX XX XXXXX ( M 20 )                  |XXXXXXXXXX XXXXXXXX XX XXXXX ( M 20 )                  |\n",
      "|XXXX XXXXXXX XXXXXX XXXXXXX ( J8 )                     |XXXX XXXXXXX XXXXXX XXXXXXX ( J8 )                     |\n",
      "|XXXX XXXXX XX XXXXXXXX  (  J 15  )                     |XXXX XXXXX XX XXXXXXXX  (  J 15  )                     |\n",
      "|***REGISTRO XXXXXXXX XX XXXXXXXX                       |***REGISTRO XXXXXXXX XX XXXXXXXX                       |\n",
      "|XXXX XXXXXXXX XXX XXXXXX  (  J 7  )                    |XXXX XXXXXXXX XXX XXXXXX  (  J 7  )                    |\n",
      "|XXXXXXXX XXXXXXX XX XXXXXXX?X?X                        |XXXXXXXX XXXXXXX XX XXXXXXX?X?X                        |\n",
      "|XXXXXXX XXXXX XX XXXX ( ABC)                           |XXXXXXX XXXXX XX XXXX ( ABC)                           |\n",
      "|XXXX XXXXXXXX XX XXXXX XXXXX (I 1)                     |XXXX XXXXXXXX XX XXXXX XXXXX (I 1)                     |\n",
      "|IGNORADO XXXX XXXXXX XXX XXXXXX                        |_ XXXX XXXXXX XXX XXXXXX                               |\n",
      "|INGNORADO XXXX XXXXXX XXXXXXXX                         |_ XXXX XXXXXX XXXXXXXX                                 |\n",
      "|XXXXXXX XXXXXXX XXX XXXXXX    ( G 2 )                  |XXXXXXX XXXXXXX XXX XXXXXX    ( G 2 )                  |\n",
      "|XXXXXXXXX XXXXXXX      XXXXXXX                         |XXXXXXXXX XXXXXXX      XXXXXXX                         |\n",
      "|XXXXXXXX XXXXX XXX XXX                             XXXX|XXXXXXXX XXXXX XXX XXX                             XXXX|\n",
      "|XXXX XXXXXXXX XXXXXXXXX XX XXXXX     ( J  5 )          |XXXX XXXXXXXX XXXXXXXXX XX XXXXX     ( J  5 )          |\n",
      "|XXXXX     XXXXXX      XXXXX (  XXXXXXXXX               |XXXXX     XXXXXX      XXXXX (  XXXXXXXXX               |\n",
      "|(HUU%ˆ&*#*YBFKJDFG) XXXXXXXX (454lksd7ˆ9*%6d)          |(HUU%ˆ&*#*YBFKJDFG) XXXXXXXX (454lksd7ˆ9*%6d)          |\n",
      "+-------------------------------------------------------+-------------------------------------------------------+\n",
      "\n"
     ]
    }
   ],
   "source": [
    "# apagando as diferentes escritas de IGNORADO\n",
    "df.withColumn('nome_novo', F.regexp_replace('nome', '^IGNORADO|INGNORADO|IGNOTADO|IGONORADO|IGN|DE|ING', '_')).show(32, False)"
   ]
  },
  {
   "cell_type": "code",
   "execution_count": 14,
   "metadata": {},
   "outputs": [
    {
     "name": "stdout",
     "output_type": "stream",
     "text": [
      "+-------------------------------------------------------+-------------------------------------------------------+\n",
      "|nome                                                   |nome_novo                                              |\n",
      "+-------------------------------------------------------+-------------------------------------------------------+\n",
      "|XXXXXXXX XXXXXXXX XXXXX (G1)                           |XXXXXXXX_XXXXXXXX_XXXXX__G1_                           |\n",
      "|XXXXXXXX XXXXXXXX XX XXXXX  ( S 3 )                    |XXXXXXXX_XXXXXXXX_XX_XXXXX___S_3__                     |\n",
      "|XXXXXXX XXXXXX XX XXXXX (A7)                           |XXXXXXX_XXXXXX_XX_XXXXX__A7_                           |\n",
      "|XXXXXXXX XXXXX XXX XXXXXX  (  R 1  )                   |XXXXXXXX_XXXXX_XXX_XXXXXX___R_1___                     |\n",
      "|XXXXX XXXXXXX XX XXXXX  (  I 2  )                      |XXXXX_XXXXXXX_XX_XXXXX___I_2___                        |\n",
      "|XXXXXXX XXXXXX XXXXXXXX XXXXXXX XXXXXXX (A6)           |XXXXXXX_XXXXXX_XXXXXXXX_XXXXXXX_XXXXXXX__A6_           |\n",
      "|IGONORADO DE IGN XXXX XXXXXX XXXXXXX                   |IGONORADO_DE_IGN_XXXX_XXXXXX_XXXXXXX                   |\n",
      "|IGNOTADO XXXXX XXXX XX XXXXXXX                         |IGNOTADO_XXXXX_XXXX_XX_XXXXXXX                         |\n",
      "|XXXXXX XXXXXXXX XX XXXXXXXX  ( R 3 )                   |XXXXXX_XXXXXXXX_XX_XXXXXXXX___R_3__                    |\n",
      "|XXXXX XXXXXXX XX XXXXX  (  I 2  )                      |XXXXX_XXXXXXX_XX_XXXXX___I_2___                        |\n",
      "|IGN XXXX  XXXXXXXX      \t***REG                        |IGN_XXXX__XXXXXXXX__________REG                        |\n",
      "|IGNORADO ING XXXXXXX XXXX XXXXXXX                      |IGNORADO_ING_XXXXXXX_XXXX_XXXXXXX                      |\n",
      "|XXXXXX XXXXXXX XX XXXXXX  ( C 3 )                      |XXXXXX_XXXXXXX_XX_XXXXXX___C_3__                       |\n",
      "|XXXXX XXXXXXX XXXXXX  ( M 15 )                         |XXXXX_XXXXXXX_XXXXXX___M_15__                          |\n",
      "|( XXXXX) XXXXXXXXX XXXX XXXXX XX XXXX                  |_XXXXX__XXXXXXXXX_XXXX_XXXXX_XX_XXXX                   |\n",
      "|XXXX XXXXXXX XXXXXX  ( J16)                            |XXXX_XXXXXXX_XXXXXX___J16_                             |\n",
      "|XXXXXXXXXX XXXXXXXX XX XXXXX ( M 20 )                  |XXXXXXXXXX_XXXXXXXX_XX_XXXXX__M_20__                   |\n",
      "|XXXX XXXXXXX XXXXXX XXXXXXX ( J8 )                     |XXXX_XXXXXXX_XXXXXX_XXXXXXX__J8__                      |\n",
      "|XXXX XXXXX XX XXXXXXXX  (  J 15  )                     |XXXX_XXXXX_XX_XXXXXXXX___J_15___                       |\n",
      "|***REGISTRO XXXXXXXX XX XXXXXXXX                       |___REGISTRO_XXXXXXXX_XX_XXXXXXXX                       |\n",
      "|XXXX XXXXXXXX XXX XXXXXX  (  J 7  )                    |XXXX_XXXXXXXX_XXX_XXXXXX___J_7___                      |\n",
      "|XXXXXXXX XXXXXXX XX XXXXXXX?X?X                        |XXXXXXXX_XXXXXXX_XX_XXXXXXX_X_X                        |\n",
      "|XXXXXXX XXXXX XX XXXX ( ABC)                           |XXXXXXX_XXXXX_XX_XXXX__ABC_                            |\n",
      "|XXXX XXXXXXXX XX XXXXX XXXXX (I 1)                     |XXXX_XXXXXXXX_XX_XXXXX_XXXXX__I_1_                     |\n",
      "|IGNORADO XXXX XXXXXX XXX XXXXXX                        |IGNORADO_XXXX_XXXXXX_XXX_XXXXXX                        |\n",
      "|INGNORADO XXXX XXXXXX XXXXXXXX                         |INGNORADO_XXXX_XXXXXX_XXXXXXXX                         |\n",
      "|XXXXXXX XXXXXXX XXX XXXXXX    ( G 2 )                  |XXXXXXX_XXXXXXX_XXX_XXXXXX_____G_2__                   |\n",
      "|XXXXXXXXX XXXXXXX      XXXXXXX                         |XXXXXXXXX_XXXXXXX______XXXXXXX                         |\n",
      "|XXXXXXXX XXXXX XXX XXX                             XXXX|XXXXXXXX_XXXXX_XXX_XXX_____________________________XXXX|\n",
      "|XXXX XXXXXXXX XXXXXXXXX XX XXXXX     ( J  5 )          |XXXX_XXXXXXXX_XXXXXXXXX_XX_XXXXX______J__5__           |\n",
      "|XXXXX     XXXXXX      XXXXX (  XXXXXXXXX               |XXXXX_____XXXXXX______XXXXX__XXXXXXXXX                 |\n",
      "|(HUU%ˆ&*#*YBFKJDFG) XXXXXXXX (454lksd7ˆ9*%6d)          |_HUU______YBFKJDFG__XXXXXXXX__454lksd7_9__6d_          |\n",
      "+-------------------------------------------------------+-------------------------------------------------------+\n",
      "\n"
     ]
    }
   ],
   "source": [
    "# apagando os espaços dentro dos parenteses\n",
    "df.withColumn('nome_novo', F.regexp_replace('nome', '\\( +|[\\W]', '_')).show(32, False)"
   ]
  },
  {
   "cell_type": "markdown",
   "metadata": {},
   "source": [
    "#### Deletando todas as expressões de vez"
   ]
  },
  {
   "cell_type": "code",
   "execution_count": 18,
   "metadata": {},
   "outputs": [
    {
     "name": "stdout",
     "output_type": "stream",
     "text": [
      "+-------------------------------------------------------+--------------------------------------------+\n",
      "|nome                                                   |nome_novo                                   |\n",
      "+-------------------------------------------------------+--------------------------------------------+\n",
      "|XXXXXXXX XXXXXXXX XXXXX (G1)                           |XXXXXXXX XXXXXXXX XXXXX  G1                 |\n",
      "|XXXXXXXX XXXXXXXX XX XXXXX  ( S 3 )                    |XXXXXXXX XXXXXXXX XX XXXXX  S 3             |\n",
      "|XXXXXXX XXXXXX XX XXXXX (A7)                           |XXXXXXX XXXXXX XX XXXXX  A7                 |\n",
      "|XXXXXXXX XXXXX XXX XXXXXX  (  R 1  )                   |XXXXXXXX XXXXX XXX XXXXXX   R 1             |\n",
      "|XXXXX XXXXXXX XX XXXXX  (  I 2  )                      |XXXXX XXXXXXX XX XXXXX   I 2                |\n",
      "|XXXXXXX XXXXXX XXXXXXXX XXXXXXX XXXXXXX (A6)           |XXXXXXX XXXXXX XXXXXXXX XXXXXXX XXXXXXX  A6 |\n",
      "|IGONORADO DE IGN XXXX XXXXXX XXXXXXX                   |      XXXX XXXXXX XXXXXXX                   |\n",
      "|IGNOTADO XXXXX XXXX XX XXXXXXX                         |  XXXXX XXXX XX XXXXXXX                     |\n",
      "|XXXXXX XXXXXXXX XX XXXXXXXX  ( R 3 )                   |XXXXXX XXXXXXXX XX XXXXXXXX  R 3            |\n",
      "|XXXXX XXXXXXX XX XXXXX  (  I 2  )                      |XXXXX XXXXXXX XX XXXXX   I 2                |\n",
      "|IGN XXXX  XXXXXXXX      \t***REG                        |  XXXX XXXXXXXX \t                           |\n",
      "|IGNORADO ING XXXXXXX XXXX XXXXXXX                      |    XXXXXXX XXXX XXXXXXX                    |\n",
      "|XXXXXX XXXXXXX XX XXXXXX  ( C 3 )                      |XXXXXX XXXXXXX XX XXXXXX  C 3               |\n",
      "|XXXXX XXXXXXX XXXXXX  ( M 15 )                         |XXXXX XXXXXXX XXXXXX  M 15                  |\n",
      "|( XXXXX) XXXXXXXXX XXXX XXXXX XX XXXX                  | XXXXX  XXXXXXXXX XXXX XXXXX XX XXXX        |\n",
      "|XXXX XXXXXXX XXXXXX  ( J16)                            |XXXX XXXXXXX XXXXXX  J16                    |\n",
      "|XXXXXXXXXX XXXXXXXX XX XXXXX ( M 20 )                  |XXXXXXXXXX XXXXXXXX XX XXXXX  M 20          |\n",
      "|XXXX XXXXXXX XXXXXX XXXXXXX ( J8 )                     |XXXX XXXXXXX XXXXXX XXXXXXX  J8             |\n",
      "|XXXX XXXXX XX XXXXXXXX  (  J 15  )                     |XXXX XXXXX XX XXXXXXXX   J 15               |\n",
      "|***REGISTRO XXXXXXXX XX XXXXXXXX                       |   XXXXXXXX XX XXXXXXXX                     |\n",
      "|XXXX XXXXXXXX XXX XXXXXX  (  J 7  )                    |XXXX XXXXXXXX XXX XXXXXX   J 7              |\n",
      "|XXXXXXXX XXXXXXX XX XXXXXXX?X?X                        |XXXXXXXX XXXXXXX XX XXXXXXX?X?X             |\n",
      "|XXXXXXX XXXXX XX XXXX ( ABC)                           |XXXXXXX XXXXX XX XXXX  ABC                  |\n",
      "|XXXX XXXXXXXX XX XXXXX XXXXX (I 1)                     |XXXX XXXXXXXX XX XXXXX XXXXX  I 1           |\n",
      "|IGNORADO XXXX XXXXXX XXX XXXXXX                        |  XXXX XXXXXX XXX XXXXXX                    |\n",
      "|INGNORADO XXXX XXXXXX XXXXXXXX                         |  XXXX XXXXXX XXXXXXXX                      |\n",
      "|XXXXXXX XXXXXXX XXX XXXXXX    ( G 2 )                  |XXXXXXX XXXXXXX XXX XXXXXX  G 2             |\n",
      "|XXXXXXXXX XXXXXXX      XXXXXXX                         |XXXXXXXXX XXXXXXX XXXXXXX                   |\n",
      "|XXXXXXXX XXXXX XXX XXX                             XXXX|XXXXXXXX XXXXX XXX XXX XXXX                 |\n",
      "|XXXX XXXXXXXX XXXXXXXXX XX XXXXX     ( J  5 )          |XXXX XXXXXXXX XXXXXXXXX XX XXXXX  J 5       |\n",
      "|XXXXX     XXXXXX      XXXXX (  XXXXXXXXX               |XXXXX XXXXXX XXXXX   XXXXXXXXX              |\n",
      "|(HUU%ˆ&*#*YBFKJDFG) XXXXXXXX (454lksd7ˆ9*%6d)          |  XXXXXXXX                                  |\n",
      "+-------------------------------------------------------+--------------------------------------------+\n",
      "\n"
     ]
    }
   ],
   "source": [
    "# Os espaços não são apagados porque não tem pelo quê substituí-los.\n",
    "lista_expressoes = ('\\*\\*\\*',' +','^\\(HUU[^\\)]+\\)','\\(454[^\\)]+\\)','\\([^A-Z]|\\)','^\\(|\\(','^\\(|\\(|\\([^A-Z]|\\)','^IGNORADO|INGNORADO|IGNOTADO|IGONORADO|IGN|DE|ING', 'REGISTRO|REG')\n",
    "\n",
    "df.withColumn('nome_novo', F.regexp_replace('nome', '|'.join(lista_expressoes), ' ')).show(32, False)"
   ]
  },
  {
   "cell_type": "code",
   "execution_count": 16,
   "metadata": {},
   "outputs": [
    {
     "data": {
      "text/plain": [
       "'\\\\*\\\\*\\\\*| +|^\\\\(HUU[^\\\\)]+\\\\)|\\\\(454[^\\\\)]+\\\\)|\\\\([^A-Z]|\\\\)|^\\\\(|\\\\(|^\\\\(|\\\\(|\\\\([^A-Z]|\\\\)|^IGNORADO|INGNORADO|IGNOTADO|IGONORADO|IGN|DE|ING|REGISTRO|REG'"
      ]
     },
     "execution_count": 16,
     "metadata": {},
     "output_type": "execute_result"
    }
   ],
   "source": [
    "'|'.join(lista_expressoes)"
   ]
  },
  {
   "cell_type": "markdown",
   "metadata": {},
   "source": [
    "### Links de pesquisa:\n",
    "* https://github.com/luizomf/regexp-python\n",
    "* https://regex101.com/\n",
    "* https://tableless.com.br/o-basico-sobre-expressoes-regulares/"
   ]
  },
  {
   "cell_type": "raw",
   "metadata": {},
   "source": [
    "Comandos utilizados no terminal, que podem ser rodado na própria cedula do notebook\n",
    "\n",
    "!sed -s 's/procura/substitui/g' arquivo_de_entrada.csv > arquivo_de_saida.csv\n",
    "os.system(sed -s 's/procura/substitui/g' arquivo_de_entrada.csv > arquivo_de_saida.csv)"
   ]
  }
 ],
 "metadata": {
  "kernelspec": {
   "display_name": "Python 3",
   "language": "python",
   "name": "python3"
  },
  "language_info": {
   "codemirror_mode": {
    "name": "ipython",
    "version": 3
   },
   "file_extension": ".py",
   "mimetype": "text/x-python",
   "name": "python",
   "nbconvert_exporter": "python",
   "pygments_lexer": "ipython3",
   "version": "3.7.4"
  }
 },
 "nbformat": 4,
 "nbformat_minor": 2
}
