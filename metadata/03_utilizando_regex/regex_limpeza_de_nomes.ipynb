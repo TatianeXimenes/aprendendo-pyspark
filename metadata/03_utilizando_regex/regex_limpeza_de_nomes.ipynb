{
 "cells": [
  {
   "cell_type": "code",
   "execution_count": 1,
   "metadata": {},
   "outputs": [],
   "source": [
    "import pyspark.sql.functions as F\n",
    "import re"
   ]
  },
  {
   "cell_type": "code",
   "execution_count": 2,
   "metadata": {},
   "outputs": [],
   "source": [
    "df = spark.read.csv('/home/tatiane/Downloads/teste.csv', header = True)"
   ]
  },
  {
   "cell_type": "code",
   "execution_count": 3,
   "metadata": {},
   "outputs": [
    {
     "name": "stdout",
     "output_type": "stream",
     "text": [
      "+-------------------------------------------------------+\n",
      "|nome                                                   |\n",
      "+-------------------------------------------------------+\n",
      "|XXXXXXXX XXXXXXXX XXXXX (G1)                           |\n",
      "|XXXXXXXX XXXXXXXX XX XXXXX  ( S 3 )                    |\n",
      "|XXXXXXX XXXXXX XX XXXXX (A7)                           |\n",
      "|XXXXXXXX XXXXX XXX XXXXXX  (  R 1  )                   |\n",
      "|XXXXX XXXXXXX XX XXXXX  (  I 2  )                      |\n",
      "|XXXXXXX XXXXXX XXXXXXXX XXXXXXX XXXXXXX (A6)           |\n",
      "|IGONORADO DE IGN XXXX XXXXXX XXXXXXX                   |\n",
      "|IGNOTADO XXXXX XXXX XX XXXXXXX                         |\n",
      "|XXXXXX XXXXXXXX XX XXXXXXXX  ( R 3 )                   |\n",
      "|XXXXX XXXXXXX XX XXXXX  (  I 2  )                      |\n",
      "|IGN XXXX  XXXXXXXX      \t***REG                        |\n",
      "|IGNORADO ING XXXXXXX XXXX XXXXXXX                      |\n",
      "|XXXXXX XXXXXXX XX XXXXXX  ( C 3 )                      |\n",
      "|XXXXX XXXXXXX XXXXXX  ( M 15 )                         |\n",
      "|( XXXXX) XXXXXXXXX XXXX XXXXX XX XXXX                  |\n",
      "|XXXX XXXXXXX XXXXXX  ( J16)                            |\n",
      "|XXXXXXXXXX XXXXXXXX XX XXXXX ( M 20 )                  |\n",
      "|XXXX XXXXXXX XXXXXX XXXXXXX ( J8 )                     |\n",
      "|XXXX XXXXX XX XXXXXXXX  (  J 15  )                     |\n",
      "|***REGISTRO XXXXXXXX XX XXXXXXXX                       |\n",
      "|XXXX XXXXXXXX XXX XXXXXX  (  J 7  )                    |\n",
      "|XXXXXXXX XXXXXXX XX XXXXXXX?X?X                        |\n",
      "|XXXXXXX XXXXX XX XXXX ( ABC)                           |\n",
      "|XXXX XXXXXXXX XX XXXXX XXXXX (I 1)                     |\n",
      "|IGNORADO XXXX XXXXXX XXX XXXXXX                        |\n",
      "|INGNORADO XXXX XXXXXX XXXXXXXX                         |\n",
      "|XXXXXXX XXXXXXX XXX XXXXXX    ( G 2 )                  |\n",
      "|XXXXXXXXX XXXXXXX      XXXXXXX                         |\n",
      "|XXXXXXXX XXXXX XXX XXX                             XXXX|\n",
      "|XXXX XXXXXXXX XXXXXXXXX XX XXXXX     ( J  5 )          |\n",
      "|XXXXX     XXXXXX      XXXXX (  XXXXXXXXX               |\n",
      "|(HUU%ˆ&*#*YBFKJDFG) XXXXXXXX (454lksd7ˆ9*%6d)          |\n",
      "+-------------------------------------------------------+\n",
      "\n"
     ]
    }
   ],
   "source": [
    "df.show(32, False)"
   ]
  },
  {
   "cell_type": "code",
   "execution_count": 4,
   "metadata": {},
   "outputs": [
    {
     "data": {
      "text/plain": [
       "32"
      ]
     },
     "execution_count": 4,
     "metadata": {},
     "output_type": "execute_result"
    }
   ],
   "source": [
    "df.count()"
   ]
  },
  {
   "cell_type": "markdown",
   "metadata": {},
   "source": [
    "* rlike: gerar uma condição\n",
    "* F.regexp_replace: permite replace no dataframe"
   ]
  },
  {
   "cell_type": "code",
   "execution_count": 5,
   "metadata": {},
   "outputs": [],
   "source": [
    "# Para saber mais sobre:\n",
    "F.regexp_replace?"
   ]
  },
  {
   "cell_type": "code",
   "execution_count": 6,
   "metadata": {},
   "outputs": [
    {
     "name": "stdout",
     "output_type": "stream",
     "text": [
      "+-------------------------------------------------------+-------------------------------------------------------+\n",
      "|nome                                                   |nome_novo                                              |\n",
      "+-------------------------------------------------------+-------------------------------------------------------+\n",
      "|XXXXXXXX XXXXXXXX XXXXX (G1)                           |XXXXXXXX XXXXXXXX XXXXX (G1)                           |\n",
      "|XXXXXXXX XXXXXXXX XX XXXXX  ( S 3 )                    |XXXXXXXX XXXXXXXX XX XXXXX  ( S 3 )                    |\n",
      "|XXXXXXX XXXXXX XX XXXXX (A7)                           |XXXXXXX XXXXXX XX XXXXX (A7)                           |\n",
      "|XXXXXXXX XXXXX XXX XXXXXX  (  R 1  )                   |XXXXXXXX XXXXX XXX XXXXXX  (  R 1  )                   |\n",
      "|XXXXX XXXXXXX XX XXXXX  (  I 2  )                      |XXXXX XXXXXXX XX XXXXX  (  I 2  )                      |\n",
      "|XXXXXXX XXXXXX XXXXXXXX XXXXXXX XXXXXXX (A6)           |XXXXXXX XXXXXX XXXXXXXX XXXXXXX XXXXXXX (A6)           |\n",
      "|IGONORADO DE IGN XXXX XXXXXX XXXXXXX                   |IGONORADO DE IGN XXXX XXXXXX XXXXXXX                   |\n",
      "|IGNOTADO XXXXX XXXX XX XXXXXXX                         |IGNOTADO XXXXX XXXX XX XXXXXXX                         |\n",
      "|XXXXXX XXXXXXXX XX XXXXXXXX  ( R 3 )                   |XXXXXX XXXXXXXX XX XXXXXXXX  ( R 3 )                   |\n",
      "|XXXXX XXXXXXX XX XXXXX  (  I 2  )                      |XXXXX XXXXXXX XX XXXXX  (  I 2  )                      |\n",
      "|IGN XXXX  XXXXXXXX      \t***REG                        |IGN XXXX  XXXXXXXX      \t_REG                          |\n",
      "|IGNORADO ING XXXXXXX XXXX XXXXXXX                      |IGNORADO ING XXXXXXX XXXX XXXXXXX                      |\n",
      "|XXXXXX XXXXXXX XX XXXXXX  ( C 3 )                      |XXXXXX XXXXXXX XX XXXXXX  ( C 3 )                      |\n",
      "|XXXXX XXXXXXX XXXXXX  ( M 15 )                         |XXXXX XXXXXXX XXXXXX  ( M 15 )                         |\n",
      "|( XXXXX) XXXXXXXXX XXXX XXXXX XX XXXX                  |( XXXXX) XXXXXXXXX XXXX XXXXX XX XXXX                  |\n",
      "|XXXX XXXXXXX XXXXXX  ( J16)                            |XXXX XXXXXXX XXXXXX  ( J16)                            |\n",
      "|XXXXXXXXXX XXXXXXXX XX XXXXX ( M 20 )                  |XXXXXXXXXX XXXXXXXX XX XXXXX ( M 20 )                  |\n",
      "|XXXX XXXXXXX XXXXXX XXXXXXX ( J8 )                     |XXXX XXXXXXX XXXXXX XXXXXXX ( J8 )                     |\n",
      "|XXXX XXXXX XX XXXXXXXX  (  J 15  )                     |XXXX XXXXX XX XXXXXXXX  (  J 15  )                     |\n",
      "|***REGISTRO XXXXXXXX XX XXXXXXXX                       |_REGISTRO XXXXXXXX XX XXXXXXXX                         |\n",
      "|XXXX XXXXXXXX XXX XXXXXX  (  J 7  )                    |XXXX XXXXXXXX XXX XXXXXX  (  J 7  )                    |\n",
      "|XXXXXXXX XXXXXXX XX XXXXXXX?X?X                        |XXXXXXXX XXXXXXX XX XXXXXXX?X?X                        |\n",
      "|XXXXXXX XXXXX XX XXXX ( ABC)                           |XXXXXXX XXXXX XX XXXX ( ABC)                           |\n",
      "|XXXX XXXXXXXX XX XXXXX XXXXX (I 1)                     |XXXX XXXXXXXX XX XXXXX XXXXX (I 1)                     |\n",
      "|IGNORADO XXXX XXXXXX XXX XXXXXX                        |IGNORADO XXXX XXXXXX XXX XXXXXX                        |\n",
      "|INGNORADO XXXX XXXXXX XXXXXXXX                         |INGNORADO XXXX XXXXXX XXXXXXXX                         |\n",
      "|XXXXXXX XXXXXXX XXX XXXXXX    ( G 2 )                  |XXXXXXX XXXXXXX XXX XXXXXX    ( G 2 )                  |\n",
      "|XXXXXXXXX XXXXXXX      XXXXXXX                         |XXXXXXXXX XXXXXXX      XXXXXXX                         |\n",
      "|XXXXXXXX XXXXX XXX XXX                             XXXX|XXXXXXXX XXXXX XXX XXX                             XXXX|\n",
      "|XXXX XXXXXXXX XXXXXXXXX XX XXXXX     ( J  5 )          |XXXX XXXXXXXX XXXXXXXXX XX XXXXX     ( J  5 )          |\n",
      "|XXXXX     XXXXXX      XXXXX (  XXXXXXXXX               |XXXXX     XXXXXX      XXXXX (  XXXXXXXXX               |\n",
      "|(HUU%ˆ&*#*YBFKJDFG) XXXXXXXX (454lksd7ˆ9*%6d)          |(HUU%ˆ&*#*YBFKJDFG) XXXXXXXX (454lksd7ˆ9*%6d)          |\n",
      "+-------------------------------------------------------+-------------------------------------------------------+\n",
      "\n"
     ]
    }
   ],
   "source": [
    "# deletando *** \n",
    "df.withColumn('nome_novo', F.regexp_replace('nome', '\\*\\*\\*+', '_')).show(32, False)"
   ]
  },
  {
   "cell_type": "code",
   "execution_count": 7,
   "metadata": {},
   "outputs": [
    {
     "name": "stdout",
     "output_type": "stream",
     "text": [
      "+-------------------------------------------------------+---------------------------------------------+\n",
      "|nome                                                   |nome_novo                                    |\n",
      "+-------------------------------------------------------+---------------------------------------------+\n",
      "|XXXXXXXX XXXXXXXX XXXXX (G1)                           |XXXXXXXX_XXXXXXXX_XXXXX_(G1)                 |\n",
      "|XXXXXXXX XXXXXXXX XX XXXXX  ( S 3 )                    |XXXXXXXX_XXXXXXXX_XX_XXXXX_(_S_3_)           |\n",
      "|XXXXXXX XXXXXX XX XXXXX (A7)                           |XXXXXXX_XXXXXX_XX_XXXXX_(A7)                 |\n",
      "|XXXXXXXX XXXXX XXX XXXXXX  (  R 1  )                   |XXXXXXXX_XXXXX_XXX_XXXXXX_(_R_1_)            |\n",
      "|XXXXX XXXXXXX XX XXXXX  (  I 2  )                      |XXXXX_XXXXXXX_XX_XXXXX_(_I_2_)               |\n",
      "|XXXXXXX XXXXXX XXXXXXXX XXXXXXX XXXXXXX (A6)           |XXXXXXX_XXXXXX_XXXXXXXX_XXXXXXX_XXXXXXX_(A6) |\n",
      "|IGONORADO DE IGN XXXX XXXXXX XXXXXXX                   |IGONORADO_DE_IGN_XXXX_XXXXXX_XXXXXXX         |\n",
      "|IGNOTADO XXXXX XXXX XX XXXXXXX                         |IGNOTADO_XXXXX_XXXX_XX_XXXXXXX               |\n",
      "|XXXXXX XXXXXXXX XX XXXXXXXX  ( R 3 )                   |XXXXXX_XXXXXXXX_XX_XXXXXXXX_(_R_3_)          |\n",
      "|XXXXX XXXXXXX XX XXXXX  (  I 2  )                      |XXXXX_XXXXXXX_XX_XXXXX_(_I_2_)               |\n",
      "|IGN XXXX  XXXXXXXX      \t***REG                        |IGN_XXXX_XXXXXXXX_\t***REG                    |\n",
      "|IGNORADO ING XXXXXXX XXXX XXXXXXX                      |IGNORADO_ING_XXXXXXX_XXXX_XXXXXXX            |\n",
      "|XXXXXX XXXXXXX XX XXXXXX  ( C 3 )                      |XXXXXX_XXXXXXX_XX_XXXXXX_(_C_3_)             |\n",
      "|XXXXX XXXXXXX XXXXXX  ( M 15 )                         |XXXXX_XXXXXXX_XXXXXX_(_M_15_)                |\n",
      "|( XXXXX) XXXXXXXXX XXXX XXXXX XX XXXX                  |(_XXXXX)_XXXXXXXXX_XXXX_XXXXX_XX_XXXX        |\n",
      "|XXXX XXXXXXX XXXXXX  ( J16)                            |XXXX_XXXXXXX_XXXXXX_(_J16)                   |\n",
      "|XXXXXXXXXX XXXXXXXX XX XXXXX ( M 20 )                  |XXXXXXXXXX_XXXXXXXX_XX_XXXXX_(_M_20_)        |\n",
      "|XXXX XXXXXXX XXXXXX XXXXXXX ( J8 )                     |XXXX_XXXXXXX_XXXXXX_XXXXXXX_(_J8_)           |\n",
      "|XXXX XXXXX XX XXXXXXXX  (  J 15  )                     |XXXX_XXXXX_XX_XXXXXXXX_(_J_15_)              |\n",
      "|***REGISTRO XXXXXXXX XX XXXXXXXX                       |***REGISTRO_XXXXXXXX_XX_XXXXXXXX             |\n",
      "|XXXX XXXXXXXX XXX XXXXXX  (  J 7  )                    |XXXX_XXXXXXXX_XXX_XXXXXX_(_J_7_)             |\n",
      "|XXXXXXXX XXXXXXX XX XXXXXXX?X?X                        |XXXXXXXX_XXXXXXX_XX_XXXXXXX?X?X              |\n",
      "|XXXXXXX XXXXX XX XXXX ( ABC)                           |XXXXXXX_XXXXX_XX_XXXX_(_ABC)                 |\n",
      "|XXXX XXXXXXXX XX XXXXX XXXXX (I 1)                     |XXXX_XXXXXXXX_XX_XXXXX_XXXXX_(I_1)           |\n",
      "|IGNORADO XXXX XXXXXX XXX XXXXXX                        |IGNORADO_XXXX_XXXXXX_XXX_XXXXXX              |\n",
      "|INGNORADO XXXX XXXXXX XXXXXXXX                         |INGNORADO_XXXX_XXXXXX_XXXXXXXX               |\n",
      "|XXXXXXX XXXXXXX XXX XXXXXX    ( G 2 )                  |XXXXXXX_XXXXXXX_XXX_XXXXXX_(_G_2_)           |\n",
      "|XXXXXXXXX XXXXXXX      XXXXXXX                         |XXXXXXXXX_XXXXXXX_XXXXXXX                    |\n",
      "|XXXXXXXX XXXXX XXX XXX                             XXXX|XXXXXXXX_XXXXX_XXX_XXX_XXXX                  |\n",
      "|XXXX XXXXXXXX XXXXXXXXX XX XXXXX     ( J  5 )          |XXXX_XXXXXXXX_XXXXXXXXX_XX_XXXXX_(_J_5_)     |\n",
      "|XXXXX     XXXXXX      XXXXX (  XXXXXXXXX               |XXXXX_XXXXXX_XXXXX_(_XXXXXXXXX               |\n",
      "|(HUU%ˆ&*#*YBFKJDFG) XXXXXXXX (454lksd7ˆ9*%6d)          |(HUU%ˆ&*#*YBFKJDFG)_XXXXXXXX_(454lksd7ˆ9*%6d)|\n",
      "+-------------------------------------------------------+---------------------------------------------+\n",
      "\n"
     ]
    }
   ],
   "source": [
    "#apagando os espaços excessivos\n",
    "df.withColumn('nome_novo', F.regexp_replace('nome', ' +', '_')).show(32, False)"
   ]
  },
  {
   "cell_type": "code",
   "execution_count": 8,
   "metadata": {},
   "outputs": [
    {
     "name": "stdout",
     "output_type": "stream",
     "text": [
      "+-------------------------------------------------------+-------------------------------------------------------+\n",
      "|nome                                                   |nome_novo                                              |\n",
      "+-------------------------------------------------------+-------------------------------------------------------+\n",
      "|XXXXXXXX XXXXXXXX XXXXX (G1)                           |XXXXXXXX XXXXXXXX XXXXX (G1)                           |\n",
      "|XXXXXXXX XXXXXXXX XX XXXXX  ( S 3 )                    |XXXXXXXX XXXXXXXX XX XXXXX  ( S 3 )                    |\n",
      "|XXXXXXX XXXXXX XX XXXXX (A7)                           |XXXXXXX XXXXXX XX XXXXX (A7)                           |\n",
      "|XXXXXXXX XXXXX XXX XXXXXX  (  R 1  )                   |XXXXXXXX XXXXX XXX XXXXXX  (  R 1  )                   |\n",
      "|XXXXX XXXXXXX XX XXXXX  (  I 2  )                      |XXXXX XXXXXXX XX XXXXX  (  I 2  )                      |\n",
      "|XXXXXXX XXXXXX XXXXXXXX XXXXXXX XXXXXXX (A6)           |XXXXXXX XXXXXX XXXXXXXX XXXXXXX XXXXXXX (A6)           |\n",
      "|IGONORADO DE IGN XXXX XXXXXX XXXXXXX                   |IGONORADO DE IGN XXXX XXXXXX XXXXXXX                   |\n",
      "|IGNOTADO XXXXX XXXX XX XXXXXXX                         |IGNOTADO XXXXX XXXX XX XXXXXXX                         |\n",
      "|XXXXXX XXXXXXXX XX XXXXXXXX  ( R 3 )                   |XXXXXX XXXXXXXX XX XXXXXXXX  ( R 3 )                   |\n",
      "|XXXXX XXXXXXX XX XXXXX  (  I 2  )                      |XXXXX XXXXXXX XX XXXXX  (  I 2  )                      |\n",
      "|IGN XXXX  XXXXXXXX      \t***REG                        |IGN XXXX  XXXXXXXX      \t***REG                        |\n",
      "|IGNORADO ING XXXXXXX XXXX XXXXXXX                      |IGNORADO ING XXXXXXX XXXX XXXXXXX                      |\n",
      "|XXXXXX XXXXXXX XX XXXXXX  ( C 3 )                      |XXXXXX XXXXXXX XX XXXXXX  ( C 3 )                      |\n",
      "|XXXXX XXXXXXX XXXXXX  ( M 15 )                         |XXXXX XXXXXXX XXXXXX  ( M 15 )                         |\n",
      "|( XXXXX) XXXXXXXXX XXXX XXXXX XX XXXX                  |( XXXXX) XXXXXXXXX XXXX XXXXX XX XXXX                  |\n",
      "|XXXX XXXXXXX XXXXXX  ( J16)                            |XXXX XXXXXXX XXXXXX  ( J16)                            |\n",
      "|XXXXXXXXXX XXXXXXXX XX XXXXX ( M 20 )                  |XXXXXXXXXX XXXXXXXX XX XXXXX ( M 20 )                  |\n",
      "|XXXX XXXXXXX XXXXXX XXXXXXX ( J8 )                     |XXXX XXXXXXX XXXXXX XXXXXXX ( J8 )                     |\n",
      "|XXXX XXXXX XX XXXXXXXX  (  J 15  )                     |XXXX XXXXX XX XXXXXXXX  (  J 15  )                     |\n",
      "|***REGISTRO XXXXXXXX XX XXXXXXXX                       |***REGISTRO XXXXXXXX XX XXXXXXXX                       |\n",
      "|XXXX XXXXXXXX XXX XXXXXX  (  J 7  )                    |XXXX XXXXXXXX XXX XXXXXX  (  J 7  )                    |\n",
      "|XXXXXXXX XXXXXXX XX XXXXXXX?X?X                        |XXXXXXXX XXXXXXX XX XXXXXXX?X?X                        |\n",
      "|XXXXXXX XXXXX XX XXXX ( ABC)                           |XXXXXXX XXXXX XX XXXX ( ABC)                           |\n",
      "|XXXX XXXXXXXX XX XXXXX XXXXX (I 1)                     |XXXX XXXXXXXX XX XXXXX XXXXX (I 1)                     |\n",
      "|IGNORADO XXXX XXXXXX XXX XXXXXX                        |IGNORADO XXXX XXXXXX XXX XXXXXX                        |\n",
      "|INGNORADO XXXX XXXXXX XXXXXXXX                         |INGNORADO XXXX XXXXXX XXXXXXXX                         |\n",
      "|XXXXXXX XXXXXXX XXX XXXXXX    ( G 2 )                  |XXXXXXX XXXXXXX XXX XXXXXX    ( G 2 )                  |\n",
      "|XXXXXXXXX XXXXXXX      XXXXXXX                         |XXXXXXXXX XXXXXXX      XXXXXXX                         |\n",
      "|XXXXXXXX XXXXX XXX XXX                             XXXX|XXXXXXXX XXXXX XXX XXX                             XXXX|\n",
      "|XXXX XXXXXXXX XXXXXXXXX XX XXXXX     ( J  5 )          |XXXX XXXXXXXX XXXXXXXXX XX XXXXX     ( J  5 )          |\n",
      "|XXXXX     XXXXXX      XXXXX (  XXXXXXXXX               |XXXXX     XXXXXX      XXXXX (  XXXXXXXXX               |\n",
      "|(HUU%ˆ&*#*YBFKJDFG) XXXXXXXX (454lksd7ˆ9*%6d)          |_ XXXXXXXX (454lksd7ˆ9*%6d)                            |\n",
      "+-------------------------------------------------------+-------------------------------------------------------+\n",
      "\n"
     ]
    }
   ],
   "source": [
    "#apagando primeiro caso do ultimo registro\n",
    "df.withColumn('nome_novo', F.regexp_replace('nome', '^\\(HUU[^\\)]+\\)', '_')).show(32, False)"
   ]
  },
  {
   "cell_type": "code",
   "execution_count": 9,
   "metadata": {},
   "outputs": [
    {
     "name": "stdout",
     "output_type": "stream",
     "text": [
      "+-------------------------------------------------------+-------------------------------------------------------+\n",
      "|nome                                                   |nome_novo                                              |\n",
      "+-------------------------------------------------------+-------------------------------------------------------+\n",
      "|XXXXXXXX XXXXXXXX XXXXX (G1)                           |XXXXXXXX XXXXXXXX XXXXX (G1)                           |\n",
      "|XXXXXXXX XXXXXXXX XX XXXXX  ( S 3 )                    |XXXXXXXX XXXXXXXX XX XXXXX  ( S 3 )                    |\n",
      "|XXXXXXX XXXXXX XX XXXXX (A7)                           |XXXXXXX XXXXXX XX XXXXX (A7)                           |\n",
      "|XXXXXXXX XXXXX XXX XXXXXX  (  R 1  )                   |XXXXXXXX XXXXX XXX XXXXXX  (  R 1  )                   |\n",
      "|XXXXX XXXXXXX XX XXXXX  (  I 2  )                      |XXXXX XXXXXXX XX XXXXX  (  I 2  )                      |\n",
      "|XXXXXXX XXXXXX XXXXXXXX XXXXXXX XXXXXXX (A6)           |XXXXXXX XXXXXX XXXXXXXX XXXXXXX XXXXXXX (A6)           |\n",
      "|IGONORADO DE IGN XXXX XXXXXX XXXXXXX                   |IGONORADO DE IGN XXXX XXXXXX XXXXXXX                   |\n",
      "|IGNOTADO XXXXX XXXX XX XXXXXXX                         |IGNOTADO XXXXX XXXX XX XXXXXXX                         |\n",
      "|XXXXXX XXXXXXXX XX XXXXXXXX  ( R 3 )                   |XXXXXX XXXXXXXX XX XXXXXXXX  ( R 3 )                   |\n",
      "|XXXXX XXXXXXX XX XXXXX  (  I 2  )                      |XXXXX XXXXXXX XX XXXXX  (  I 2  )                      |\n",
      "|IGN XXXX  XXXXXXXX      \t***REG                        |IGN XXXX  XXXXXXXX      \t***REG                        |\n",
      "|IGNORADO ING XXXXXXX XXXX XXXXXXX                      |IGNORADO ING XXXXXXX XXXX XXXXXXX                      |\n",
      "|XXXXXX XXXXXXX XX XXXXXX  ( C 3 )                      |XXXXXX XXXXXXX XX XXXXXX  ( C 3 )                      |\n",
      "|XXXXX XXXXXXX XXXXXX  ( M 15 )                         |XXXXX XXXXXXX XXXXXX  ( M 15 )                         |\n",
      "|( XXXXX) XXXXXXXXX XXXX XXXXX XX XXXX                  |( XXXXX) XXXXXXXXX XXXX XXXXX XX XXXX                  |\n",
      "|XXXX XXXXXXX XXXXXX  ( J16)                            |XXXX XXXXXXX XXXXXX  ( J16)                            |\n",
      "|XXXXXXXXXX XXXXXXXX XX XXXXX ( M 20 )                  |XXXXXXXXXX XXXXXXXX XX XXXXX ( M 20 )                  |\n",
      "|XXXX XXXXXXX XXXXXX XXXXXXX ( J8 )                     |XXXX XXXXXXX XXXXXX XXXXXXX ( J8 )                     |\n",
      "|XXXX XXXXX XX XXXXXXXX  (  J 15  )                     |XXXX XXXXX XX XXXXXXXX  (  J 15  )                     |\n",
      "|***REGISTRO XXXXXXXX XX XXXXXXXX                       |***REGISTRO XXXXXXXX XX XXXXXXXX                       |\n",
      "|XXXX XXXXXXXX XXX XXXXXX  (  J 7  )                    |XXXX XXXXXXXX XXX XXXXXX  (  J 7  )                    |\n",
      "|XXXXXXXX XXXXXXX XX XXXXXXX?X?X                        |XXXXXXXX XXXXXXX XX XXXXXXX?X?X                        |\n",
      "|XXXXXXX XXXXX XX XXXX ( ABC)                           |XXXXXXX XXXXX XX XXXX ( ABC)                           |\n",
      "|XXXX XXXXXXXX XX XXXXX XXXXX (I 1)                     |XXXX XXXXXXXX XX XXXXX XXXXX (I 1)                     |\n",
      "|IGNORADO XXXX XXXXXX XXX XXXXXX                        |IGNORADO XXXX XXXXXX XXX XXXXXX                        |\n",
      "|INGNORADO XXXX XXXXXX XXXXXXXX                         |INGNORADO XXXX XXXXXX XXXXXXXX                         |\n",
      "|XXXXXXX XXXXXXX XXX XXXXXX    ( G 2 )                  |XXXXXXX XXXXXXX XXX XXXXXX    ( G 2 )                  |\n",
      "|XXXXXXXXX XXXXXXX      XXXXXXX                         |XXXXXXXXX XXXXXXX      XXXXXXX                         |\n",
      "|XXXXXXXX XXXXX XXX XXX                             XXXX|XXXXXXXX XXXXX XXX XXX                             XXXX|\n",
      "|XXXX XXXXXXXX XXXXXXXXX XX XXXXX     ( J  5 )          |XXXX XXXXXXXX XXXXXXXXX XX XXXXX     ( J  5 )          |\n",
      "|XXXXX     XXXXXX      XXXXX (  XXXXXXXXX               |XXXXX     XXXXXX      XXXXX (  XXXXXXXXX               |\n",
      "|(HUU%ˆ&*#*YBFKJDFG) XXXXXXXX (454lksd7ˆ9*%6d)          |(HUU%ˆ&*#*YBFKJDFG) XXXXXXXX _                         |\n",
      "+-------------------------------------------------------+-------------------------------------------------------+\n",
      "\n"
     ]
    }
   ],
   "source": [
    "#apagando o ultimo caso do ultimo registro\n",
    "df.withColumn('nome_novo', F.regexp_replace('nome', '\\(454[^\\)]+\\)', '_')).show(32, False)"
   ]
  },
  {
   "cell_type": "code",
   "execution_count": 10,
   "metadata": {},
   "outputs": [
    {
     "name": "stdout",
     "output_type": "stream",
     "text": [
      "+-------------------------------------------------------+-------------------------------------------------------+\n",
      "|nome                                                   |nome_novo                                              |\n",
      "+-------------------------------------------------------+-------------------------------------------------------+\n",
      "|XXXXXXXX XXXXXXXX XXXXX (G1)                           |XXXXXXXX XXXXXXXX XXXXX (G1_                           |\n",
      "|XXXXXXXX XXXXXXXX XX XXXXX  ( S 3 )                    |XXXXXXXX XXXXXXXX XX XXXXX  _S 3 _                     |\n",
      "|XXXXXXX XXXXXX XX XXXXX (A7)                           |XXXXXXX XXXXXX XX XXXXX (A7_                           |\n",
      "|XXXXXXXX XXXXX XXX XXXXXX  (  R 1  )                   |XXXXXXXX XXXXX XXX XXXXXX  _ R 1  _                    |\n",
      "|XXXXX XXXXXXX XX XXXXX  (  I 2  )                      |XXXXX XXXXXXX XX XXXXX  _ I 2  _                       |\n",
      "|XXXXXXX XXXXXX XXXXXXXX XXXXXXX XXXXXXX (A6)           |XXXXXXX XXXXXX XXXXXXXX XXXXXXX XXXXXXX (A6_           |\n",
      "|IGONORADO DE IGN XXXX XXXXXX XXXXXXX                   |IGONORADO DE IGN XXXX XXXXXX XXXXXXX                   |\n",
      "|IGNOTADO XXXXX XXXX XX XXXXXXX                         |IGNOTADO XXXXX XXXX XX XXXXXXX                         |\n",
      "|XXXXXX XXXXXXXX XX XXXXXXXX  ( R 3 )                   |XXXXXX XXXXXXXX XX XXXXXXXX  _R 3 _                    |\n",
      "|XXXXX XXXXXXX XX XXXXX  (  I 2  )                      |XXXXX XXXXXXX XX XXXXX  _ I 2  _                       |\n",
      "|IGN XXXX  XXXXXXXX      \t***REG                        |IGN XXXX  XXXXXXXX      \t***REG                        |\n",
      "|IGNORADO ING XXXXXXX XXXX XXXXXXX                      |IGNORADO ING XXXXXXX XXXX XXXXXXX                      |\n",
      "|XXXXXX XXXXXXX XX XXXXXX  ( C 3 )                      |XXXXXX XXXXXXX XX XXXXXX  _C 3 _                       |\n",
      "|XXXXX XXXXXXX XXXXXX  ( M 15 )                         |XXXXX XXXXXXX XXXXXX  _M 15 _                          |\n",
      "|( XXXXX) XXXXXXXXX XXXX XXXXX XX XXXX                  |_XXXXX_ XXXXXXXXX XXXX XXXXX XX XXXX                   |\n",
      "|XXXX XXXXXXX XXXXXX  ( J16)                            |XXXX XXXXXXX XXXXXX  _J16_                             |\n",
      "|XXXXXXXXXX XXXXXXXX XX XXXXX ( M 20 )                  |XXXXXXXXXX XXXXXXXX XX XXXXX _M 20 _                   |\n",
      "|XXXX XXXXXXX XXXXXX XXXXXXX ( J8 )                     |XXXX XXXXXXX XXXXXX XXXXXXX _J8 _                      |\n",
      "|XXXX XXXXX XX XXXXXXXX  (  J 15  )                     |XXXX XXXXX XX XXXXXXXX  _ J 15  _                      |\n",
      "|***REGISTRO XXXXXXXX XX XXXXXXXX                       |***REGISTRO XXXXXXXX XX XXXXXXXX                       |\n",
      "|XXXX XXXXXXXX XXX XXXXXX  (  J 7  )                    |XXXX XXXXXXXX XXX XXXXXX  _ J 7  _                     |\n",
      "|XXXXXXXX XXXXXXX XX XXXXXXX?X?X                        |XXXXXXXX XXXXXXX XX XXXXXXX?X?X                        |\n",
      "|XXXXXXX XXXXX XX XXXX ( ABC)                           |XXXXXXX XXXXX XX XXXX _ABC_                            |\n",
      "|XXXX XXXXXXXX XX XXXXX XXXXX (I 1)                     |XXXX XXXXXXXX XX XXXXX XXXXX (I 1_                     |\n",
      "|IGNORADO XXXX XXXXXX XXX XXXXXX                        |IGNORADO XXXX XXXXXX XXX XXXXXX                        |\n",
      "|INGNORADO XXXX XXXXXX XXXXXXXX                         |INGNORADO XXXX XXXXXX XXXXXXXX                         |\n",
      "|XXXXXXX XXXXXXX XXX XXXXXX    ( G 2 )                  |XXXXXXX XXXXXXX XXX XXXXXX    _G 2 _                   |\n",
      "|XXXXXXXXX XXXXXXX      XXXXXXX                         |XXXXXXXXX XXXXXXX      XXXXXXX                         |\n",
      "|XXXXXXXX XXXXX XXX XXX                             XXXX|XXXXXXXX XXXXX XXX XXX                             XXXX|\n",
      "|XXXX XXXXXXXX XXXXXXXXX XX XXXXX     ( J  5 )          |XXXX XXXXXXXX XXXXXXXXX XX XXXXX     _J  5 _           |\n",
      "|XXXXX     XXXXXX      XXXXX (  XXXXXXXXX               |XXXXX     XXXXXX      XXXXX _ XXXXXXXXX                |\n",
      "|(HUU%ˆ&*#*YBFKJDFG) XXXXXXXX (454lksd7ˆ9*%6d)          |(HUU%ˆ&*#*YBFKJDFG_ XXXXXXXX _54lksd7ˆ9*%6d_           |\n",
      "+-------------------------------------------------------+-------------------------------------------------------+\n",
      "\n"
     ]
    }
   ],
   "source": [
    "#apagando os parenteses, exceto os que estão colados com uma letra\n",
    "df.withColumn('nome_novo', F.regexp_replace('nome', '\\([^A-Z]|\\)', '_')).show(32, False)"
   ]
  },
  {
   "cell_type": "code",
   "execution_count": 11,
   "metadata": {},
   "outputs": [
    {
     "name": "stdout",
     "output_type": "stream",
     "text": [
      "+-------------------------------------------------------+-------------------------------------------------------+\n",
      "|nome                                                   |nome_novo                                              |\n",
      "+-------------------------------------------------------+-------------------------------------------------------+\n",
      "|XXXXXXXX XXXXXXXX XXXXX (G1)                           |XXXXXXXX XXXXXXXX XXXXX _G1)                           |\n",
      "|XXXXXXXX XXXXXXXX XX XXXXX  ( S 3 )                    |XXXXXXXX XXXXXXXX XX XXXXX  _ S 3 )                    |\n",
      "|XXXXXXX XXXXXX XX XXXXX (A7)                           |XXXXXXX XXXXXX XX XXXXX _A7)                           |\n",
      "|XXXXXXXX XXXXX XXX XXXXXX  (  R 1  )                   |XXXXXXXX XXXXX XXX XXXXXX  _  R 1  )                   |\n",
      "|XXXXX XXXXXXX XX XXXXX  (  I 2  )                      |XXXXX XXXXXXX XX XXXXX  _  I 2  )                      |\n",
      "|XXXXXXX XXXXXX XXXXXXXX XXXXXXX XXXXXXX (A6)           |XXXXXXX XXXXXX XXXXXXXX XXXXXXX XXXXXXX _A6)           |\n",
      "|IGONORADO DE IGN XXXX XXXXXX XXXXXXX                   |IGONORADO DE IGN XXXX XXXXXX XXXXXXX                   |\n",
      "|IGNOTADO XXXXX XXXX XX XXXXXXX                         |IGNOTADO XXXXX XXXX XX XXXXXXX                         |\n",
      "|XXXXXX XXXXXXXX XX XXXXXXXX  ( R 3 )                   |XXXXXX XXXXXXXX XX XXXXXXXX  _ R 3 )                   |\n",
      "|XXXXX XXXXXXX XX XXXXX  (  I 2  )                      |XXXXX XXXXXXX XX XXXXX  _  I 2  )                      |\n",
      "|IGN XXXX  XXXXXXXX      \t***REG                        |IGN XXXX  XXXXXXXX      \t***REG                        |\n",
      "|IGNORADO ING XXXXXXX XXXX XXXXXXX                      |IGNORADO ING XXXXXXX XXXX XXXXXXX                      |\n",
      "|XXXXXX XXXXXXX XX XXXXXX  ( C 3 )                      |XXXXXX XXXXXXX XX XXXXXX  _ C 3 )                      |\n",
      "|XXXXX XXXXXXX XXXXXX  ( M 15 )                         |XXXXX XXXXXXX XXXXXX  _ M 15 )                         |\n",
      "|( XXXXX) XXXXXXXXX XXXX XXXXX XX XXXX                  |_ XXXXX) XXXXXXXXX XXXX XXXXX XX XXXX                  |\n",
      "|XXXX XXXXXXX XXXXXX  ( J16)                            |XXXX XXXXXXX XXXXXX  _ J16)                            |\n",
      "|XXXXXXXXXX XXXXXXXX XX XXXXX ( M 20 )                  |XXXXXXXXXX XXXXXXXX XX XXXXX _ M 20 )                  |\n",
      "|XXXX XXXXXXX XXXXXX XXXXXXX ( J8 )                     |XXXX XXXXXXX XXXXXX XXXXXXX _ J8 )                     |\n",
      "|XXXX XXXXX XX XXXXXXXX  (  J 15  )                     |XXXX XXXXX XX XXXXXXXX  _  J 15  )                     |\n",
      "|***REGISTRO XXXXXXXX XX XXXXXXXX                       |***REGISTRO XXXXXXXX XX XXXXXXXX                       |\n",
      "|XXXX XXXXXXXX XXX XXXXXX  (  J 7  )                    |XXXX XXXXXXXX XXX XXXXXX  _  J 7  )                    |\n",
      "|XXXXXXXX XXXXXXX XX XXXXXXX?X?X                        |XXXXXXXX XXXXXXX XX XXXXXXX?X?X                        |\n",
      "|XXXXXXX XXXXX XX XXXX ( ABC)                           |XXXXXXX XXXXX XX XXXX _ ABC)                           |\n",
      "|XXXX XXXXXXXX XX XXXXX XXXXX (I 1)                     |XXXX XXXXXXXX XX XXXXX XXXXX _I 1)                     |\n",
      "|IGNORADO XXXX XXXXXX XXX XXXXXX                        |IGNORADO XXXX XXXXXX XXX XXXXXX                        |\n",
      "|INGNORADO XXXX XXXXXX XXXXXXXX                         |INGNORADO XXXX XXXXXX XXXXXXXX                         |\n",
      "|XXXXXXX XXXXXXX XXX XXXXXX    ( G 2 )                  |XXXXXXX XXXXXXX XXX XXXXXX    _ G 2 )                  |\n",
      "|XXXXXXXXX XXXXXXX      XXXXXXX                         |XXXXXXXXX XXXXXXX      XXXXXXX                         |\n",
      "|XXXXXXXX XXXXX XXX XXX                             XXXX|XXXXXXXX XXXXX XXX XXX                             XXXX|\n",
      "|XXXX XXXXXXXX XXXXXXXXX XX XXXXX     ( J  5 )          |XXXX XXXXXXXX XXXXXXXXX XX XXXXX     _ J  5 )          |\n",
      "|XXXXX     XXXXXX      XXXXX (  XXXXXXXXX               |XXXXX     XXXXXX      XXXXX _  XXXXXXXXX               |\n",
      "|(HUU%ˆ&*#*YBFKJDFG) XXXXXXXX (454lksd7ˆ9*%6d)          |_HUU%ˆ&*#*YBFKJDFG) XXXXXXXX _454lksd7ˆ9*%6d)          |\n",
      "+-------------------------------------------------------+-------------------------------------------------------+\n",
      "\n"
     ]
    }
   ],
   "source": [
    "#apagando os parenteses que estao juntos de letras e numeros\n",
    "df.withColumn('nome_novo', F.regexp_replace('nome', '^\\(|\\(', '_')).show(32, False)"
   ]
  },
  {
   "cell_type": "code",
   "execution_count": 12,
   "metadata": {},
   "outputs": [
    {
     "name": "stdout",
     "output_type": "stream",
     "text": [
      "+-------------------------------------------------------+-------------------------------------------------------+\n",
      "|nome                                                   |nome_novo                                              |\n",
      "+-------------------------------------------------------+-------------------------------------------------------+\n",
      "|XXXXXXXX XXXXXXXX XXXXX (G1)                           |XXXXXXXX XXXXXXXX XXXXX _G1_                           |\n",
      "|XXXXXXXX XXXXXXXX XX XXXXX  ( S 3 )                    |XXXXXXXX XXXXXXXX XX XXXXX  _ S 3 _                    |\n",
      "|XXXXXXX XXXXXX XX XXXXX (A7)                           |XXXXXXX XXXXXX XX XXXXX _A7_                           |\n",
      "|XXXXXXXX XXXXX XXX XXXXXX  (  R 1  )                   |XXXXXXXX XXXXX XXX XXXXXX  _  R 1  _                   |\n",
      "|XXXXX XXXXXXX XX XXXXX  (  I 2  )                      |XXXXX XXXXXXX XX XXXXX  _  I 2  _                      |\n",
      "|XXXXXXX XXXXXX XXXXXXXX XXXXXXX XXXXXXX (A6)           |XXXXXXX XXXXXX XXXXXXXX XXXXXXX XXXXXXX _A6_           |\n",
      "|IGONORADO DE IGN XXXX XXXXXX XXXXXXX                   |IGONORADO DE IGN XXXX XXXXXX XXXXXXX                   |\n",
      "|IGNOTADO XXXXX XXXX XX XXXXXXX                         |IGNOTADO XXXXX XXXX XX XXXXXXX                         |\n",
      "|XXXXXX XXXXXXXX XX XXXXXXXX  ( R 3 )                   |XXXXXX XXXXXXXX XX XXXXXXXX  _ R 3 _                   |\n",
      "|XXXXX XXXXXXX XX XXXXX  (  I 2  )                      |XXXXX XXXXXXX XX XXXXX  _  I 2  _                      |\n",
      "|IGN XXXX  XXXXXXXX      \t***REG                        |IGN XXXX  XXXXXXXX      \t***REG                        |\n",
      "|IGNORADO ING XXXXXXX XXXX XXXXXXX                      |IGNORADO ING XXXXXXX XXXX XXXXXXX                      |\n",
      "|XXXXXX XXXXXXX XX XXXXXX  ( C 3 )                      |XXXXXX XXXXXXX XX XXXXXX  _ C 3 _                      |\n",
      "|XXXXX XXXXXXX XXXXXX  ( M 15 )                         |XXXXX XXXXXXX XXXXXX  _ M 15 _                         |\n",
      "|( XXXXX) XXXXXXXXX XXXX XXXXX XX XXXX                  |_ XXXXX_ XXXXXXXXX XXXX XXXXX XX XXXX                  |\n",
      "|XXXX XXXXXXX XXXXXX  ( J16)                            |XXXX XXXXXXX XXXXXX  _ J16_                            |\n",
      "|XXXXXXXXXX XXXXXXXX XX XXXXX ( M 20 )                  |XXXXXXXXXX XXXXXXXX XX XXXXX _ M 20 _                  |\n",
      "|XXXX XXXXXXX XXXXXX XXXXXXX ( J8 )                     |XXXX XXXXXXX XXXXXX XXXXXXX _ J8 _                     |\n",
      "|XXXX XXXXX XX XXXXXXXX  (  J 15  )                     |XXXX XXXXX XX XXXXXXXX  _  J 15  _                     |\n",
      "|***REGISTRO XXXXXXXX XX XXXXXXXX                       |***REGISTRO XXXXXXXX XX XXXXXXXX                       |\n",
      "|XXXX XXXXXXXX XXX XXXXXX  (  J 7  )                    |XXXX XXXXXXXX XXX XXXXXX  _  J 7  _                    |\n",
      "|XXXXXXXX XXXXXXX XX XXXXXXX?X?X                        |XXXXXXXX XXXXXXX XX XXXXXXX?X?X                        |\n",
      "|XXXXXXX XXXXX XX XXXX ( ABC)                           |XXXXXXX XXXXX XX XXXX _ ABC_                           |\n",
      "|XXXX XXXXXXXX XX XXXXX XXXXX (I 1)                     |XXXX XXXXXXXX XX XXXXX XXXXX _I 1_                     |\n",
      "|IGNORADO XXXX XXXXXX XXX XXXXXX                        |IGNORADO XXXX XXXXXX XXX XXXXXX                        |\n",
      "|INGNORADO XXXX XXXXXX XXXXXXXX                         |INGNORADO XXXX XXXXXX XXXXXXXX                         |\n",
      "|XXXXXXX XXXXXXX XXX XXXXXX    ( G 2 )                  |XXXXXXX XXXXXXX XXX XXXXXX    _ G 2 _                  |\n",
      "|XXXXXXXXX XXXXXXX      XXXXXXX                         |XXXXXXXXX XXXXXXX      XXXXXXX                         |\n",
      "|XXXXXXXX XXXXX XXX XXX                             XXXX|XXXXXXXX XXXXX XXX XXX                             XXXX|\n",
      "|XXXX XXXXXXXX XXXXXXXXX XX XXXXX     ( J  5 )          |XXXX XXXXXXXX XXXXXXXXX XX XXXXX     _ J  5 _          |\n",
      "|XXXXX     XXXXXX      XXXXX (  XXXXXXXXX               |XXXXX     XXXXXX      XXXXX _  XXXXXXXXX               |\n",
      "|(HUU%ˆ&*#*YBFKJDFG) XXXXXXXX (454lksd7ˆ9*%6d)          |_HUU%ˆ&*#*YBFKJDFG_ XXXXXXXX _454lksd7ˆ9*%6d_          |\n",
      "+-------------------------------------------------------+-------------------------------------------------------+\n",
      "\n"
     ]
    }
   ],
   "source": [
    "#apagando todos os parenteses de uma vez.\n",
    "df.withColumn('nome_novo', F.regexp_replace('nome', '^\\(|\\(|\\([^A-Z]|\\)', '_')).show(32, False)"
   ]
  },
  {
   "cell_type": "code",
   "execution_count": 13,
   "metadata": {},
   "outputs": [
    {
     "name": "stdout",
     "output_type": "stream",
     "text": [
      "+-------------------------------------------------------+-------------------------------------------------------+\n",
      "|nome                                                   |nome_novo                                              |\n",
      "+-------------------------------------------------------+-------------------------------------------------------+\n",
      "|XXXXXXXX XXXXXXXX XXXXX (G1)                           |XXXXXXXX XXXXXXXX XXXXX __                             |\n",
      "|XXXXXXXX XXXXXXXX XX XXXXX  ( S 3 )                    |XXXXXXXX XXXXXXXX XX XXXXX  __                         |\n",
      "|XXXXXXX XXXXXX XX XXXXX (A7)                           |XXXXXXX XXXXXX XX XXXXX __                             |\n",
      "|XXXXXXXX XXXXX XXX XXXXXX  (  R 1  )                   |XXXXXXXX XXXXX XXX XXXXXX  __                          |\n",
      "|XXXXX XXXXXXX XX XXXXX  (  I 2  )                      |XXXXX XXXXXXX XX XXXXX  __                             |\n",
      "|XXXXXXX XXXXXX XXXXXXXX XXXXXXX XXXXXXX (A6)           |XXXXXXX XXXXXX XXXXXXXX XXXXXXX XXXXXXX __             |\n",
      "|IGONORADO DE IGN XXXX XXXXXX XXXXXXX                   |IGONORADO DE IGN XXXX XXXXXX XXXXXXX                   |\n",
      "|IGNOTADO XXXXX XXXX XX XXXXXXX                         |IGNOTADO XXXXX XXXX XX XXXXXXX                         |\n",
      "|XXXXXX XXXXXXXX XX XXXXXXXX  ( R 3 )                   |XXXXXX XXXXXXXX XX XXXXXXXX  __                        |\n",
      "|XXXXX XXXXXXX XX XXXXX  (  I 2  )                      |XXXXX XXXXXXX XX XXXXX  __                             |\n",
      "|IGN XXXX  XXXXXXXX      \t***REG                        |IGN XXXX  XXXXXXXX      \t***REG                        |\n",
      "|IGNORADO ING XXXXXXX XXXX XXXXXXX                      |IGNORADO ING XXXXXXX XXXX XXXXXXX                      |\n",
      "|XXXXXX XXXXXXX XX XXXXXX  ( C 3 )                      |XXXXXX XXXXXXX XX XXXXXX  __                           |\n",
      "|XXXXX XXXXXXX XXXXXX  ( M 15 )                         |XXXXX XXXXXXX XXXXXX  __                               |\n",
      "|( XXXXX) XXXXXXXXX XXXX XXXXX XX XXXX                  |__ XXXXXXXXX XXXX XXXXX XX XXXX                        |\n",
      "|XXXX XXXXXXX XXXXXX  ( J16)                            |XXXX XXXXXXX XXXXXX  __                                |\n",
      "|XXXXXXXXXX XXXXXXXX XX XXXXX ( M 20 )                  |XXXXXXXXXX XXXXXXXX XX XXXXX __                        |\n",
      "|XXXX XXXXXXX XXXXXX XXXXXXX ( J8 )                     |XXXX XXXXXXX XXXXXX XXXXXXX __                         |\n",
      "|XXXX XXXXX XX XXXXXXXX  (  J 15  )                     |XXXX XXXXX XX XXXXXXXX  __                             |\n",
      "|***REGISTRO XXXXXXXX XX XXXXXXXX                       |***REGISTRO XXXXXXXX XX XXXXXXXX                       |\n",
      "|XXXX XXXXXXXX XXX XXXXXX  (  J 7  )                    |XXXX XXXXXXXX XXX XXXXXX  __                           |\n",
      "|XXXXXXXX XXXXXXX XX XXXXXXX?X?X                        |XXXXXXXX XXXXXXX XX XXXXXXX?X?X                        |\n",
      "|XXXXXXX XXXXX XX XXXX ( ABC)                           |XXXXXXX XXXXX XX XXXX __                               |\n",
      "|XXXX XXXXXXXX XX XXXXX XXXXX (I 1)                     |XXXX XXXXXXXX XX XXXXX XXXXX __                        |\n",
      "|IGNORADO XXXX XXXXXX XXX XXXXXX                        |IGNORADO XXXX XXXXXX XXX XXXXXX                        |\n",
      "|INGNORADO XXXX XXXXXX XXXXXXXX                         |INGNORADO XXXX XXXXXX XXXXXXXX                         |\n",
      "|XXXXXXX XXXXXXX XXX XXXXXX    ( G 2 )                  |XXXXXXX XXXXXXX XXX XXXXXX    __                       |\n",
      "|XXXXXXXXX XXXXXXX      XXXXXXX                         |XXXXXXXXX XXXXXXX      XXXXXXX                         |\n",
      "|XXXXXXXX XXXXX XXX XXX                             XXXX|XXXXXXXX XXXXX XXX XXX                             XXXX|\n",
      "|XXXX XXXXXXXX XXXXXXXXX XX XXXXX     ( J  5 )          |XXXX XXXXXXXX XXXXXXXXX XX XXXXX     __                |\n",
      "|XXXXX     XXXXXX      XXXXX (  XXXXXXXXX               |XXXXX     XXXXXX      XXXXX _                          |\n",
      "|(HUU%ˆ&*#*YBFKJDFG) XXXXXXXX (454lksd7ˆ9*%6d)          |__ XXXXXXXX __                                         |\n",
      "+-------------------------------------------------------+-------------------------------------------------------+\n",
      "\n"
     ]
    }
   ],
   "source": [
    "# apagando os parenteses e tudo que eles contem\n",
    "df.withColumn('nome_novo', F.regexp_replace('nome', '\\([^\\)]+|\\)', '_')).show(32, False)\n",
    "# obs: a depender da ordem, apaga uma sequencia de XXX dentro dos parenteses"
   ]
  },
  {
   "cell_type": "code",
   "execution_count": 14,
   "metadata": {},
   "outputs": [
    {
     "name": "stdout",
     "output_type": "stream",
     "text": [
      "+-------------------------------------------------------+-------------------------------------------------------+\n",
      "|nome                                                   |nome_novo                                              |\n",
      "+-------------------------------------------------------+-------------------------------------------------------+\n",
      "|XXXXXXXX XXXXXXXX XXXXX (G1)                           |XXXXXXXX XXXXXXXX XXXXX (G1)                           |\n",
      "|XXXXXXXX XXXXXXXX XX XXXXX  ( S 3 )                    |XXXXXXXX XXXXXXXX XX XXXXX  ( S 3 )                    |\n",
      "|XXXXXXX XXXXXX XX XXXXX (A7)                           |XXXXXXX XXXXXX XX XXXXX (A7)                           |\n",
      "|XXXXXXXX XXXXX XXX XXXXXX  (  R 1  )                   |XXXXXXXX XXXXX XXX XXXXXX  (  R 1  )                   |\n",
      "|XXXXX XXXXXXX XX XXXXX  (  I 2  )                      |XXXXX XXXXXXX XX XXXXX  (  I 2  )                      |\n",
      "|XXXXXXX XXXXXX XXXXXXXX XXXXXXX XXXXXXX (A6)           |XXXXXXX XXXXXX XXXXXXXX XXXXXXX XXXXXXX (A6)           |\n",
      "|IGONORADO DE IGN XXXX XXXXXX XXXXXXX                   |_ _ _ XXXX XXXXXX XXXXXXX                              |\n",
      "|IGNOTADO XXXXX XXXX XX XXXXXXX                         |_ XXXXX XXXX XX XXXXXXX                                |\n",
      "|XXXXXX XXXXXXXX XX XXXXXXXX  ( R 3 )                   |XXXXXX XXXXXXXX XX XXXXXXXX  ( R 3 )                   |\n",
      "|XXXXX XXXXXXX XX XXXXX  (  I 2  )                      |XXXXX XXXXXXX XX XXXXX  (  I 2  )                      |\n",
      "|IGN XXXX  XXXXXXXX      \t***REG                        |_ XXXX  XXXXXXXX      \t***REG                          |\n",
      "|IGNORADO ING XXXXXXX XXXX XXXXXXX                      |_ _ XXXXXXX XXXX XXXXXXX                               |\n",
      "|XXXXXX XXXXXXX XX XXXXXX  ( C 3 )                      |XXXXXX XXXXXXX XX XXXXXX  ( C 3 )                      |\n",
      "|XXXXX XXXXXXX XXXXXX  ( M 15 )                         |XXXXX XXXXXXX XXXXXX  ( M 15 )                         |\n",
      "|( XXXXX) XXXXXXXXX XXXX XXXXX XX XXXX                  |( XXXXX) XXXXXXXXX XXXX XXXXX XX XXXX                  |\n",
      "|XXXX XXXXXXX XXXXXX  ( J16)                            |XXXX XXXXXXX XXXXXX  ( J16)                            |\n",
      "|XXXXXXXXXX XXXXXXXX XX XXXXX ( M 20 )                  |XXXXXXXXXX XXXXXXXX XX XXXXX ( M 20 )                  |\n",
      "|XXXX XXXXXXX XXXXXX XXXXXXX ( J8 )                     |XXXX XXXXXXX XXXXXX XXXXXXX ( J8 )                     |\n",
      "|XXXX XXXXX XX XXXXXXXX  (  J 15  )                     |XXXX XXXXX XX XXXXXXXX  (  J 15  )                     |\n",
      "|***REGISTRO XXXXXXXX XX XXXXXXXX                       |***REGISTRO XXXXXXXX XX XXXXXXXX                       |\n",
      "|XXXX XXXXXXXX XXX XXXXXX  (  J 7  )                    |XXXX XXXXXXXX XXX XXXXXX  (  J 7  )                    |\n",
      "|XXXXXXXX XXXXXXX XX XXXXXXX?X?X                        |XXXXXXXX XXXXXXX XX XXXXXXX?X?X                        |\n",
      "|XXXXXXX XXXXX XX XXXX ( ABC)                           |XXXXXXX XXXXX XX XXXX ( ABC)                           |\n",
      "|XXXX XXXXXXXX XX XXXXX XXXXX (I 1)                     |XXXX XXXXXXXX XX XXXXX XXXXX (I 1)                     |\n",
      "|IGNORADO XXXX XXXXXX XXX XXXXXX                        |_ XXXX XXXXXX XXX XXXXXX                               |\n",
      "|INGNORADO XXXX XXXXXX XXXXXXXX                         |_ XXXX XXXXXX XXXXXXXX                                 |\n",
      "|XXXXXXX XXXXXXX XXX XXXXXX    ( G 2 )                  |XXXXXXX XXXXXXX XXX XXXXXX    ( G 2 )                  |\n",
      "|XXXXXXXXX XXXXXXX      XXXXXXX                         |XXXXXXXXX XXXXXXX      XXXXXXX                         |\n",
      "|XXXXXXXX XXXXX XXX XXX                             XXXX|XXXXXXXX XXXXX XXX XXX                             XXXX|\n",
      "|XXXX XXXXXXXX XXXXXXXXX XX XXXXX     ( J  5 )          |XXXX XXXXXXXX XXXXXXXXX XX XXXXX     ( J  5 )          |\n",
      "|XXXXX     XXXXXX      XXXXX (  XXXXXXXXX               |XXXXX     XXXXXX      XXXXX (  XXXXXXXXX               |\n",
      "|(HUU%ˆ&*#*YBFKJDFG) XXXXXXXX (454lksd7ˆ9*%6d)          |(HUU%ˆ&*#*YBFKJDFG) XXXXXXXX (454lksd7ˆ9*%6d)          |\n",
      "+-------------------------------------------------------+-------------------------------------------------------+\n",
      "\n"
     ]
    }
   ],
   "source": [
    "# apagando as diferentes escritas de IGNORADO\n",
    "df.withColumn('nome_novo', F.regexp_replace('nome', '^IGNORADO|INGNORADO|IGNOTADO|IGONORADO|IGN|DE|ING', '_')).show(32, False)"
   ]
  },
  {
   "cell_type": "markdown",
   "metadata": {},
   "source": [
    "#### Deletando todas as expressões de vez"
   ]
  },
  {
   "cell_type": "code",
   "execution_count": 22,
   "metadata": {
    "scrolled": true
   },
   "outputs": [
    {
     "ename": "Py4JError",
     "evalue": "An error occurred while calling z:org.apache.spark.sql.functions.regexp_replace. Trace:\npy4j.Py4JException: Method regexp_replace([class org.apache.spark.sql.Column, class java.util.ArrayList, class java.lang.String]) does not exist\n\tat py4j.reflection.ReflectionEngine.getMethod(ReflectionEngine.java:318)\n\tat py4j.reflection.ReflectionEngine.getMethod(ReflectionEngine.java:339)\n\tat py4j.Gateway.invoke(Gateway.java:276)\n\tat py4j.commands.AbstractCommand.invokeMethod(AbstractCommand.java:132)\n\tat py4j.commands.CallCommand.execute(CallCommand.java:79)\n\tat py4j.GatewayConnection.run(GatewayConnection.java:238)\n\tat java.lang.Thread.run(Thread.java:748)\n\n",
     "output_type": "error",
     "traceback": [
      "\u001b[0;31m---------------------------------------------------------------------------\u001b[0m",
      "\u001b[0;31mPy4JError\u001b[0m                                 Traceback (most recent call last)",
      "\u001b[0;32m<ipython-input-22-37a16451de2b>\u001b[0m in \u001b[0;36m<module>\u001b[0;34m\u001b[0m\n\u001b[1;32m      1\u001b[0m \u001b[0mlista_expressoes\u001b[0m \u001b[0;34m=\u001b[0m \u001b[0;34m(\u001b[0m\u001b[0;34m'\\*\\*\\*+1'\u001b[0m\u001b[0;34m,\u001b[0m\u001b[0;34m' +'\u001b[0m\u001b[0;34m,\u001b[0m\u001b[0;34m'^\\(HUU[^\\)]+\\)'\u001b[0m\u001b[0;34m,\u001b[0m\u001b[0;34m'\\(454[^\\)]+\\)'\u001b[0m\u001b[0;34m,\u001b[0m\u001b[0;34m'\\([^A-Z]|\\)'\u001b[0m\u001b[0;34m,\u001b[0m\u001b[0;34m'^\\(|\\('\u001b[0m\u001b[0;34m,\u001b[0m\u001b[0;34m'^\\(|\\(|\\([^A-Z]|\\)'\u001b[0m\u001b[0;34m,\u001b[0m\u001b[0;34m'^IGNORADO|INGNORADO|IGNOTADO|IGONORADO|IGN|DE|ING'\u001b[0m\u001b[0;34m)\u001b[0m\u001b[0;34m\u001b[0m\u001b[0;34m\u001b[0m\u001b[0m\n\u001b[0;32m----> 2\u001b[0;31m \u001b[0mdf\u001b[0m\u001b[0;34m.\u001b[0m\u001b[0mwithColumn\u001b[0m\u001b[0;34m(\u001b[0m\u001b[0;34m'nome_novo'\u001b[0m\u001b[0;34m,\u001b[0m \u001b[0mF\u001b[0m\u001b[0;34m.\u001b[0m\u001b[0mregexp_replace\u001b[0m\u001b[0;34m(\u001b[0m\u001b[0;34m'nome'\u001b[0m\u001b[0;34m,\u001b[0m \u001b[0mlista_expressoes\u001b[0m\u001b[0;34m,\u001b[0m \u001b[0;34m' '\u001b[0m\u001b[0;34m)\u001b[0m\u001b[0;34m)\u001b[0m\u001b[0;34m.\u001b[0m\u001b[0mshow\u001b[0m\u001b[0;34m(\u001b[0m\u001b[0;36m32\u001b[0m\u001b[0;34m,\u001b[0m \u001b[0;32mFalse\u001b[0m\u001b[0;34m)\u001b[0m\u001b[0;34m\u001b[0m\u001b[0;34m\u001b[0m\u001b[0m\n\u001b[0m",
      "\u001b[0;32m~/spark-2.4.4-bin-hadoop2.7/python/pyspark/sql/functions.py\u001b[0m in \u001b[0;36mregexp_replace\u001b[0;34m(str, pattern, replacement)\u001b[0m\n\u001b[1;32m   1711\u001b[0m     \"\"\"\n\u001b[1;32m   1712\u001b[0m     \u001b[0msc\u001b[0m \u001b[0;34m=\u001b[0m \u001b[0mSparkContext\u001b[0m\u001b[0;34m.\u001b[0m\u001b[0m_active_spark_context\u001b[0m\u001b[0;34m\u001b[0m\u001b[0;34m\u001b[0m\u001b[0m\n\u001b[0;32m-> 1713\u001b[0;31m     \u001b[0mjc\u001b[0m \u001b[0;34m=\u001b[0m \u001b[0msc\u001b[0m\u001b[0;34m.\u001b[0m\u001b[0m_jvm\u001b[0m\u001b[0;34m.\u001b[0m\u001b[0mfunctions\u001b[0m\u001b[0;34m.\u001b[0m\u001b[0mregexp_replace\u001b[0m\u001b[0;34m(\u001b[0m\u001b[0m_to_java_column\u001b[0m\u001b[0;34m(\u001b[0m\u001b[0mstr\u001b[0m\u001b[0;34m)\u001b[0m\u001b[0;34m,\u001b[0m \u001b[0mpattern\u001b[0m\u001b[0;34m,\u001b[0m \u001b[0mreplacement\u001b[0m\u001b[0;34m)\u001b[0m\u001b[0;34m\u001b[0m\u001b[0;34m\u001b[0m\u001b[0m\n\u001b[0m\u001b[1;32m   1714\u001b[0m     \u001b[0;32mreturn\u001b[0m \u001b[0mColumn\u001b[0m\u001b[0;34m(\u001b[0m\u001b[0mjc\u001b[0m\u001b[0;34m)\u001b[0m\u001b[0;34m\u001b[0m\u001b[0;34m\u001b[0m\u001b[0m\n\u001b[1;32m   1715\u001b[0m \u001b[0;34m\u001b[0m\u001b[0m\n",
      "\u001b[0;32m~/spark-2.4.4-bin-hadoop2.7/python/lib/py4j-0.10.7-src.zip/py4j/java_gateway.py\u001b[0m in \u001b[0;36m__call__\u001b[0;34m(self, *args)\u001b[0m\n\u001b[1;32m   1255\u001b[0m         \u001b[0manswer\u001b[0m \u001b[0;34m=\u001b[0m \u001b[0mself\u001b[0m\u001b[0;34m.\u001b[0m\u001b[0mgateway_client\u001b[0m\u001b[0;34m.\u001b[0m\u001b[0msend_command\u001b[0m\u001b[0;34m(\u001b[0m\u001b[0mcommand\u001b[0m\u001b[0;34m)\u001b[0m\u001b[0;34m\u001b[0m\u001b[0;34m\u001b[0m\u001b[0m\n\u001b[1;32m   1256\u001b[0m         return_value = get_return_value(\n\u001b[0;32m-> 1257\u001b[0;31m             answer, self.gateway_client, self.target_id, self.name)\n\u001b[0m\u001b[1;32m   1258\u001b[0m \u001b[0;34m\u001b[0m\u001b[0m\n\u001b[1;32m   1259\u001b[0m         \u001b[0;32mfor\u001b[0m \u001b[0mtemp_arg\u001b[0m \u001b[0;32min\u001b[0m \u001b[0mtemp_args\u001b[0m\u001b[0;34m:\u001b[0m\u001b[0;34m\u001b[0m\u001b[0;34m\u001b[0m\u001b[0m\n",
      "\u001b[0;32m~/spark-2.4.4-bin-hadoop2.7/python/pyspark/sql/utils.py\u001b[0m in \u001b[0;36mdeco\u001b[0;34m(*a, **kw)\u001b[0m\n\u001b[1;32m     61\u001b[0m     \u001b[0;32mdef\u001b[0m \u001b[0mdeco\u001b[0m\u001b[0;34m(\u001b[0m\u001b[0;34m*\u001b[0m\u001b[0ma\u001b[0m\u001b[0;34m,\u001b[0m \u001b[0;34m**\u001b[0m\u001b[0mkw\u001b[0m\u001b[0;34m)\u001b[0m\u001b[0;34m:\u001b[0m\u001b[0;34m\u001b[0m\u001b[0;34m\u001b[0m\u001b[0m\n\u001b[1;32m     62\u001b[0m         \u001b[0;32mtry\u001b[0m\u001b[0;34m:\u001b[0m\u001b[0;34m\u001b[0m\u001b[0;34m\u001b[0m\u001b[0m\n\u001b[0;32m---> 63\u001b[0;31m             \u001b[0;32mreturn\u001b[0m \u001b[0mf\u001b[0m\u001b[0;34m(\u001b[0m\u001b[0;34m*\u001b[0m\u001b[0ma\u001b[0m\u001b[0;34m,\u001b[0m \u001b[0;34m**\u001b[0m\u001b[0mkw\u001b[0m\u001b[0;34m)\u001b[0m\u001b[0;34m\u001b[0m\u001b[0;34m\u001b[0m\u001b[0m\n\u001b[0m\u001b[1;32m     64\u001b[0m         \u001b[0;32mexcept\u001b[0m \u001b[0mpy4j\u001b[0m\u001b[0;34m.\u001b[0m\u001b[0mprotocol\u001b[0m\u001b[0;34m.\u001b[0m\u001b[0mPy4JJavaError\u001b[0m \u001b[0;32mas\u001b[0m \u001b[0me\u001b[0m\u001b[0;34m:\u001b[0m\u001b[0;34m\u001b[0m\u001b[0;34m\u001b[0m\u001b[0m\n\u001b[1;32m     65\u001b[0m             \u001b[0ms\u001b[0m \u001b[0;34m=\u001b[0m \u001b[0me\u001b[0m\u001b[0;34m.\u001b[0m\u001b[0mjava_exception\u001b[0m\u001b[0;34m.\u001b[0m\u001b[0mtoString\u001b[0m\u001b[0;34m(\u001b[0m\u001b[0;34m)\u001b[0m\u001b[0;34m\u001b[0m\u001b[0;34m\u001b[0m\u001b[0m\n",
      "\u001b[0;32m~/spark-2.4.4-bin-hadoop2.7/python/lib/py4j-0.10.7-src.zip/py4j/protocol.py\u001b[0m in \u001b[0;36mget_return_value\u001b[0;34m(answer, gateway_client, target_id, name)\u001b[0m\n\u001b[1;32m    330\u001b[0m                 raise Py4JError(\n\u001b[1;32m    331\u001b[0m                     \u001b[0;34m\"An error occurred while calling {0}{1}{2}. Trace:\\n{3}\\n\"\u001b[0m\u001b[0;34m.\u001b[0m\u001b[0;34m\u001b[0m\u001b[0;34m\u001b[0m\u001b[0m\n\u001b[0;32m--> 332\u001b[0;31m                     format(target_id, \".\", name, value))\n\u001b[0m\u001b[1;32m    333\u001b[0m         \u001b[0;32melse\u001b[0m\u001b[0;34m:\u001b[0m\u001b[0;34m\u001b[0m\u001b[0;34m\u001b[0m\u001b[0m\n\u001b[1;32m    334\u001b[0m             raise Py4JError(\n",
      "\u001b[0;31mPy4JError\u001b[0m: An error occurred while calling z:org.apache.spark.sql.functions.regexp_replace. Trace:\npy4j.Py4JException: Method regexp_replace([class org.apache.spark.sql.Column, class java.util.ArrayList, class java.lang.String]) does not exist\n\tat py4j.reflection.ReflectionEngine.getMethod(ReflectionEngine.java:318)\n\tat py4j.reflection.ReflectionEngine.getMethod(ReflectionEngine.java:339)\n\tat py4j.Gateway.invoke(Gateway.java:276)\n\tat py4j.commands.AbstractCommand.invokeMethod(AbstractCommand.java:132)\n\tat py4j.commands.CallCommand.execute(CallCommand.java:79)\n\tat py4j.GatewayConnection.run(GatewayConnection.java:238)\n\tat java.lang.Thread.run(Thread.java:748)\n\n"
     ]
    }
   ],
   "source": [
    "#descobrir como fazer, esse teste deu errado por isso não sera rodado\n",
    "lista_expressoes = ('\\*\\*\\*+1',' +','^\\(HUU[^\\)]+\\)','\\(454[^\\)]+\\)','\\([^A-Z]|\\)','^\\(|\\(','^\\(|\\(|\\([^A-Z]|\\)','^IGNORADO|INGNORADO|IGNOTADO|IGONORADO|IGN|DE|ING')\n",
    "df.withColumn('nome_novo', F.regexp_replace('nome', lista_expressoes, ' ')).show(32, False)"
   ]
  }
 ],
 "metadata": {
  "kernelspec": {
   "display_name": "Python 3",
   "language": "python",
   "name": "python3"
  },
  "language_info": {
   "codemirror_mode": {
    "name": "ipython",
    "version": 3
   },
   "file_extension": ".py",
   "mimetype": "text/x-python",
   "name": "python",
   "nbconvert_exporter": "python",
   "pygments_lexer": "ipython3",
   "version": "3.7.4"
  }
 },
 "nbformat": 4,
 "nbformat_minor": 2
}
