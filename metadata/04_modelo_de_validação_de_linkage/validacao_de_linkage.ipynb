{
 "cells": [
  {
   "cell_type": "markdown",
   "metadata": {},
   "source": [
    "## Criterios a considerar, para a criação:\n",
    "\n",
    "* O modelo deve abranger os tópicos que vimos na última aula\n",
    "* Lembrem-se de fazer um cast do score e transformar ele em Double\n",
    "* É interessante checar o summary() do score\n",
    "* Analisar distribuição dos scores por faixas (0.0, 0.1, 0.2, 0.3, ..., 0.9, 1.0), informar o count e a porcentagens\n",
    "* Analisar quantos scores são maiores que 1 e menores que 0, informar o count e porcentagens\n",
    "* Analisar quantos scores são nulos (não podem ter nulos)\n",
    "* Analisar se há casos em que *todas* as colunas são iguais e o score é menor que 1. Se houver, mostrar o count.\n",
    "* Analisar se há casos em que *alguma* coluna é diferente e o score é igual a 1. Se houver, mostrar o count e quais são as colunas que são diferentes."
   ]
  },
  {
   "cell_type": "code",
   "execution_count": null,
   "metadata": {},
   "outputs": [],
   "source": [
    "# Importar pacotes\n",
    "import pandas as pd\n",
    "import pyspark.sql.functions as F\n",
    "from pyspark.sql.types import *\n",
    "from pyspark.sql import Window"
   ]
  },
  {
   "cell_type": "code",
   "execution_count": null,
   "metadata": {},
   "outputs": [],
   "source": [
    "# Leitura do linkage\n",
    "read_path = '' \n",
    "df = spark.read.csv(read_path, sep = \";\", multiLine = True) "
   ]
  },
  {
   "cell_type": "code",
   "execution_count": null,
   "metadata": {},
   "outputs": [],
   "source": [
    "#Observar como está o linkage, se o separador está correto, se tem ou não cabeçalho\n",
    "df.limit(5).toPandas()"
   ]
  },
  {
   "cell_type": "code",
   "execution_count": null,
   "metadata": {},
   "outputs": [],
   "source": [
    "# Lista das variáveis da base\n",
    "df.printSchema()"
   ]
  },
  {
   "cell_type": "code",
   "execution_count": null,
   "metadata": {},
   "outputs": [],
   "source": [
    "# Converter o score para o tipo correto\n",
    "df = df.withColumn('score', F.col('score').cast(DoubleType()))"
   ]
  },
  {
   "cell_type": "code",
   "execution_count": null,
   "metadata": {},
   "outputs": [],
   "source": [
    "# Checando dados da coluna score\n",
    "df.select('score').summary().toPandas().set_index('summary')"
   ]
  },
  {
   "cell_type": "code",
   "execution_count": null,
   "metadata": {},
   "outputs": [],
   "source": [
    "# Analisar distribuição dos scores por faixas (0.0, 0.1, 0.2, 0.3, ..., 0.9, 1.0), informar o count e a porcentagens\n",
    "frequencia = df"
   ]
  },
  {
   "cell_type": "code",
   "execution_count": null,
   "metadata": {},
   "outputs": [],
   "source": [
    "# Analisar quantos scores são maiores que 1 e menores que 0, informar o count e porcentagens\n"
   ]
  },
  {
   "cell_type": "code",
   "execution_count": null,
   "metadata": {},
   "outputs": [],
   "source": [
    "# Analisando se existe scores nulos \n",
    "df.filter((F.col('score') == null)).count().show() #ver se funciona\n",
    "df.groupBy('score').count().show() #mostra todos os score, inclusive nulo, se houver"
   ]
  },
  {
   "cell_type": "code",
   "execution_count": null,
   "metadata": {},
   "outputs": [],
   "source": [
    "# Analisando se existem casos onde todas as colunas são iguais e o score é diferente de 1\n",
    "# Preencher as strings com o nome das colunas\n",
    "df_new.filter((F.col('') == 1) & (F.col('') == 1) & (F.col('') == 1) & (F.col('') == 1) & (F.col('') == 1) & (F.col('') != 1)).count()"
   ]
  },
  {
   "cell_type": "code",
   "execution_count": null,
   "metadata": {},
   "outputs": [],
   "source": [
    "# Analisando se existe alguma coluna diferente e o score igual de 1\n",
    "# Preencher as strings com o nome das colunas\n",
    "df_new.filter((F.col('score') == 1) & ((F.col('') != F.col('')) | (F.col('') != F.col('')) | (F.col('') != F.col('')) | (F.col('') != F.col('')) | (F.col('') != F.col('')))).count().show()"
   ]
  }
 ],
 "metadata": {
  "kernelspec": {
   "display_name": "Python 3",
   "language": "python",
   "name": "python3"
  },
  "language_info": {
   "codemirror_mode": {
    "name": "ipython",
    "version": 3
   },
   "file_extension": ".py",
   "mimetype": "text/x-python",
   "name": "python",
   "nbconvert_exporter": "python",
   "pygments_lexer": "ipython3",
   "version": "3.7.4"
  }
 },
 "nbformat": 4,
 "nbformat_minor": 2
}
