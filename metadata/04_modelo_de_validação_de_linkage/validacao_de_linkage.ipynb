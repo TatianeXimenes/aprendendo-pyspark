{
 "cells": [
  {
   "cell_type": "code",
   "execution_count": 1,
   "metadata": {},
   "outputs": [],
   "source": [
    "# Importar pacotes\n",
    "import pandas as pd\n",
    "import pyspark.sql.functions as F\n",
    "from pyspark.sql.types import *\n",
    "from pyspark.sql import Window"
   ]
  },
  {
   "cell_type": "code",
   "execution_count": 2,
   "metadata": {},
   "outputs": [],
   "source": [
    "# Leitura do linkage\n",
    "read_path = '/home/tatiane/Downloads/exemplo_linkage_cases-brazil-cities-time.csv/tmp/exemplo_linkage_cases-brazil-cities-time.csv' \n",
    "df = spark.read.csv(read_path, sep = \",\", multiLine = True, header=True) "
   ]
  },
  {
   "cell_type": "code",
   "execution_count": 3,
   "metadata": {},
   "outputs": [
    {
     "data": {
      "text/html": [
       "<div>\n",
       "<style scoped>\n",
       "    .dataframe tbody tr th:only-of-type {\n",
       "        vertical-align: middle;\n",
       "    }\n",
       "\n",
       "    .dataframe tbody tr th {\n",
       "        vertical-align: top;\n",
       "    }\n",
       "\n",
       "    .dataframe thead th {\n",
       "        text-align: right;\n",
       "    }\n",
       "</style>\n",
       "<table border=\"1\" class=\"dataframe\">\n",
       "  <thead>\n",
       "    <tr style=\"text-align: right;\">\n",
       "      <th></th>\n",
       "      <th>00</th>\n",
       "      <th>01</th>\n",
       "      <th>São Paulo/SP2</th>\n",
       "      <th>São Paulo/SP3</th>\n",
       "      <th>São Paulo4</th>\n",
       "      <th>São Paulo5</th>\n",
       "      <th>3550306</th>\n",
       "      <th>3550307</th>\n",
       "      <th>202002258</th>\n",
       "      <th>202002259</th>\n",
       "      <th>910</th>\n",
       "      <th>911</th>\n",
       "      <th>1.0</th>\n",
       "    </tr>\n",
       "  </thead>\n",
       "  <tbody>\n",
       "    <tr>\n",
       "      <th>0</th>\n",
       "      <td>2</td>\n",
       "      <td>2</td>\n",
       "      <td>São Paulo/SP</td>\n",
       "      <td>São Paulo/SP</td>\n",
       "      <td>São Paulo</td>\n",
       "      <td>São Paulo</td>\n",
       "      <td>355030</td>\n",
       "      <td>355030</td>\n",
       "      <td>20200226</td>\n",
       "      <td>20200226</td>\n",
       "      <td>9</td>\n",
       "      <td>9</td>\n",
       "      <td>1.0</td>\n",
       "    </tr>\n",
       "    <tr>\n",
       "      <th>1</th>\n",
       "      <td>4</td>\n",
       "      <td>4</td>\n",
       "      <td>São Paulo/SP</td>\n",
       "      <td>São Paulo/SP</td>\n",
       "      <td>São Paulo</td>\n",
       "      <td>São Paulo</td>\n",
       "      <td>355030</td>\n",
       "      <td>355030</td>\n",
       "      <td>20200227</td>\n",
       "      <td>20200227</td>\n",
       "      <td>9</td>\n",
       "      <td>9</td>\n",
       "      <td>1.0</td>\n",
       "    </tr>\n",
       "    <tr>\n",
       "      <th>2</th>\n",
       "      <td>6</td>\n",
       "      <td>6</td>\n",
       "      <td>São Paulo/SP</td>\n",
       "      <td>São Paulo/SP</td>\n",
       "      <td>São Paulo</td>\n",
       "      <td>São Paulo</td>\n",
       "      <td>355030</td>\n",
       "      <td>355030</td>\n",
       "      <td>20200228</td>\n",
       "      <td>20200228</td>\n",
       "      <td>9</td>\n",
       "      <td>9</td>\n",
       "      <td>1.0</td>\n",
       "    </tr>\n",
       "    <tr>\n",
       "      <th>3</th>\n",
       "      <td>1</td>\n",
       "      <td>1</td>\n",
       "      <td>TOTAL</td>\n",
       "      <td>TOTAL</td>\n",
       "      <td>None</td>\n",
       "      <td>None</td>\n",
       "      <td>0</td>\n",
       "      <td>0</td>\n",
       "      <td>20200225</td>\n",
       "      <td>20200225</td>\n",
       "      <td>9</td>\n",
       "      <td>9</td>\n",
       "      <td>0.7237569060773481</td>\n",
       "    </tr>\n",
       "    <tr>\n",
       "      <th>4</th>\n",
       "      <td>5</td>\n",
       "      <td>5</td>\n",
       "      <td>TOTAL</td>\n",
       "      <td>TOTAL</td>\n",
       "      <td>None</td>\n",
       "      <td>None</td>\n",
       "      <td>0</td>\n",
       "      <td>0</td>\n",
       "      <td>20200227</td>\n",
       "      <td>20200227</td>\n",
       "      <td>9</td>\n",
       "      <td>9</td>\n",
       "      <td>0.7237569060773481</td>\n",
       "    </tr>\n",
       "  </tbody>\n",
       "</table>\n",
       "</div>"
      ],
      "text/plain": [
       "  00 01 São Paulo/SP2 São Paulo/SP3 São Paulo4 São Paulo5 3550306 3550307  \\\n",
       "0  2  2  São Paulo/SP  São Paulo/SP  São Paulo  São Paulo  355030  355030   \n",
       "1  4  4  São Paulo/SP  São Paulo/SP  São Paulo  São Paulo  355030  355030   \n",
       "2  6  6  São Paulo/SP  São Paulo/SP  São Paulo  São Paulo  355030  355030   \n",
       "3  1  1         TOTAL         TOTAL       None       None       0       0   \n",
       "4  5  5         TOTAL         TOTAL       None       None       0       0   \n",
       "\n",
       "  202002258 202002259 910 911                 1.0  \n",
       "0  20200226  20200226   9   9                 1.0  \n",
       "1  20200227  20200227   9   9                 1.0  \n",
       "2  20200228  20200228   9   9                 1.0  \n",
       "3  20200225  20200225   9   9  0.7237569060773481  \n",
       "4  20200227  20200227   9   9  0.7237569060773481  "
      ]
     },
     "execution_count": 3,
     "metadata": {},
     "output_type": "execute_result"
    }
   ],
   "source": [
    "#Observar como está o linkage, se o separador está correto, se tem ou não cabeçalho\n",
    "df.limit(5).toPandas()"
   ]
  },
  {
   "cell_type": "code",
   "execution_count": 4,
   "metadata": {},
   "outputs": [],
   "source": [
    "#renomeando colunas\n",
    "header = [\"id1\", \"id2\", \"city1\", \"city2\", \"regiao_saude1\", \"regiao_saude2\", \"codmun1\", \"codmun2\", \"date1\", \"date2\", \"epi_week1\", \"epi_week2\", \"score\"]\n",
    "\n",
    "for nome_antigo, novo_nome in zip(df.columns, header):\n",
    "    df = df.withColumnRenamed(nome_antigo, novo_nome)"
   ]
  },
  {
   "cell_type": "code",
   "execution_count": 5,
   "metadata": {},
   "outputs": [
    {
     "name": "stdout",
     "output_type": "stream",
     "text": [
      "root\n",
      " |-- id1: string (nullable = true)\n",
      " |-- id2: string (nullable = true)\n",
      " |-- city1: string (nullable = true)\n",
      " |-- city2: string (nullable = true)\n",
      " |-- regiao_saude1: string (nullable = true)\n",
      " |-- regiao_saude2: string (nullable = true)\n",
      " |-- codmun1: string (nullable = true)\n",
      " |-- codmun2: string (nullable = true)\n",
      " |-- date1: string (nullable = true)\n",
      " |-- date2: string (nullable = true)\n",
      " |-- epi_week1: string (nullable = true)\n",
      " |-- epi_week2: string (nullable = true)\n",
      " |-- score: string (nullable = true)\n",
      "\n"
     ]
    }
   ],
   "source": [
    "# Lista das variáveis da base\n",
    "df.printSchema()"
   ]
  },
  {
   "cell_type": "code",
   "execution_count": 6,
   "metadata": {},
   "outputs": [
    {
     "data": {
      "text/plain": [
       "2248976"
      ]
     },
     "execution_count": 6,
     "metadata": {},
     "output_type": "execute_result"
    }
   ],
   "source": [
    "#tamanho da base\n",
    "df.count()"
   ]
  },
  {
   "cell_type": "code",
   "execution_count": 7,
   "metadata": {},
   "outputs": [],
   "source": [
    "# Converter o score para o tipo correto\n",
    "df = df.withColumn('score', F.col('score').cast(DoubleType()))"
   ]
  },
  {
   "cell_type": "code",
   "execution_count": 8,
   "metadata": {},
   "outputs": [
    {
     "data": {
      "text/html": [
       "<div>\n",
       "<style scoped>\n",
       "    .dataframe tbody tr th:only-of-type {\n",
       "        vertical-align: middle;\n",
       "    }\n",
       "\n",
       "    .dataframe tbody tr th {\n",
       "        vertical-align: top;\n",
       "    }\n",
       "\n",
       "    .dataframe thead th {\n",
       "        text-align: right;\n",
       "    }\n",
       "</style>\n",
       "<table border=\"1\" class=\"dataframe\">\n",
       "  <thead>\n",
       "    <tr style=\"text-align: right;\">\n",
       "      <th></th>\n",
       "      <th>score</th>\n",
       "    </tr>\n",
       "    <tr>\n",
       "      <th>summary</th>\n",
       "      <th></th>\n",
       "    </tr>\n",
       "  </thead>\n",
       "  <tbody>\n",
       "    <tr>\n",
       "      <th>count</th>\n",
       "      <td>2243799</td>\n",
       "    </tr>\n",
       "    <tr>\n",
       "      <th>mean</th>\n",
       "      <td>0.9604942529147877</td>\n",
       "    </tr>\n",
       "    <tr>\n",
       "      <th>stddev</th>\n",
       "      <td>0.07386958922634936</td>\n",
       "    </tr>\n",
       "    <tr>\n",
       "      <th>min</th>\n",
       "      <td>0.5165745856353592</td>\n",
       "    </tr>\n",
       "    <tr>\n",
       "      <th>25%</th>\n",
       "      <td>1.0</td>\n",
       "    </tr>\n",
       "    <tr>\n",
       "      <th>50%</th>\n",
       "      <td>1.0</td>\n",
       "    </tr>\n",
       "    <tr>\n",
       "      <th>75%</th>\n",
       "      <td>1.0</td>\n",
       "    </tr>\n",
       "    <tr>\n",
       "      <th>max</th>\n",
       "      <td>1.0</td>\n",
       "    </tr>\n",
       "  </tbody>\n",
       "</table>\n",
       "</div>"
      ],
      "text/plain": [
       "                       score\n",
       "summary                     \n",
       "count                2243799\n",
       "mean      0.9604942529147877\n",
       "stddev   0.07386958922634936\n",
       "min       0.5165745856353592\n",
       "25%                      1.0\n",
       "50%                      1.0\n",
       "75%                      1.0\n",
       "max                      1.0"
      ]
     },
     "execution_count": 8,
     "metadata": {},
     "output_type": "execute_result"
    }
   ],
   "source": [
    "# Checando dados da coluna score\n",
    "df.select('score').summary().toPandas().set_index('summary')"
   ]
  },
  {
   "cell_type": "code",
   "execution_count": 9,
   "metadata": {},
   "outputs": [
    {
     "name": "stdout",
     "output_type": "stream",
     "text": [
      "+-----------+-------+\n",
      "|faixa_score|  count|\n",
      "+-----------+-------+\n",
      "|        1.0|1727047|\n",
      "|        0.7|   8606|\n",
      "|       null|   5177|\n",
      "|        0.8| 489104|\n",
      "|        0.5|   2290|\n",
      "|        0.9|  16674|\n",
      "|        0.6|     78|\n",
      "+-----------+-------+\n",
      "\n"
     ]
    }
   ],
   "source": [
    "# Analisar distribuição dos scores por faixas (0.0, 0.1, 0.2, 0.3, ..., 0.9, 1.0), informar o count e a porcentagens\n",
    "df.groupBy(F.substring('score', 1, 3).alias('faixa_score')).count().show()"
   ]
  },
  {
   "cell_type": "code",
   "execution_count": 20,
   "metadata": {},
   "outputs": [
    {
     "name": "stdout",
     "output_type": "stream",
     "text": [
      "+---------------+-------+-----+\n",
      "|round(score, 1)|  count|   % |\n",
      "+---------------+-------+-----+\n",
      "|            0.7|   8684|0.004|\n",
      "|           null|   5177|0.002|\n",
      "|            1.0|1738163|0.773|\n",
      "|            0.6|   2288|0.001|\n",
      "|            0.8| 489104|0.217|\n",
      "|            0.5|      2|  0.0|\n",
      "|            0.9|   5558|0.002|\n",
      "+---------------+-------+-----+\n",
      "\n"
     ]
    }
   ],
   "source": [
    "# Analisar distribuição dos scores por faixas (0.0, 0.1, 0.2, 0.3, ..., 0.9, 1.0), informar o count e a porcentagens\n",
    "df.groupBy(F.round('score', 1)).count().withColumn(' % ', F.round(F.col('count')/df.count(),3)).show()"
   ]
  },
  {
   "cell_type": "code",
   "execution_count": 13,
   "metadata": {},
   "outputs": [
    {
     "name": "stdout",
     "output_type": "stream",
     "text": [
      "Quantidade de score maior que 1: 0\n",
      "Quantidade de score menor que 0: 0\n"
     ]
    }
   ],
   "source": [
    "# Analisar quantos scores são maiores que 1 e menores que 0, informar o count e porcentagens\n",
    "valores_maiores = df.filter(F.col('score') > 1).count()\n",
    "print('Quantidade de score maior que 1: {}'.format(valores_maiores))\n",
    "\n",
    "valores_menores = df.filter(F.col('score') < 0).count()\n",
    "print('Quantidade de score menor que 0: {}'.format(valores_menores))"
   ]
  },
  {
   "cell_type": "code",
   "execution_count": 14,
   "metadata": {},
   "outputs": [
    {
     "name": "stdout",
     "output_type": "stream",
     "text": [
      "+------------------+-------+\n",
      "|             score|  count|\n",
      "+------------------+-------+\n",
      "|0.9654696132596685|  11116|\n",
      "|0.5511049723756907|   2288|\n",
      "|0.6892265193370166|     52|\n",
      "|              null|   5177|\n",
      "|               1.0|1727047|\n",
      "|0.7237569060773481|   8606|\n",
      "| 0.930939226519337|   5558|\n",
      "|0.8273480662983426| 489104|\n",
      "|0.6546961325966851|     26|\n",
      "|0.5165745856353592|      2|\n",
      "+------------------+-------+\n",
      "\n"
     ]
    }
   ],
   "source": [
    "# Analisando se existe scores nulos \n",
    "df.groupBy('score').count().show()"
   ]
  },
  {
   "cell_type": "code",
   "execution_count": 15,
   "metadata": {},
   "outputs": [],
   "source": [
    "#Comparando colunas para realizar as demais atividades\n",
    "\n",
    "df_new = df.withColumn('city', F.when(F.col('city1') == F.col('city2'), 1).otherwise(0))\n",
    "df_new = df_new.withColumn('regiao_saude', F.when(F.col('regiao_saude1') == F.col('regiao_saude2'), 1).otherwise(0))\n",
    "df_new = df_new.withColumn('date', F.when(F.col('date1') == F.col('date2'), 1).otherwise(0))\n",
    "df_new = df_new.withColumn('epi_week', F.when(F.col('epi_week1') == F.col('epi_week2'), 1).otherwise(0))\n",
    "df_new = df_new.withColumn('codmun', F.when(F.col('codmun1') == F.col('codmun2'), 1).otherwise(0))"
   ]
  },
  {
   "cell_type": "code",
   "execution_count": 16,
   "metadata": {},
   "outputs": [
    {
     "data": {
      "text/plain": [
       "0"
      ]
     },
     "execution_count": 16,
     "metadata": {},
     "output_type": "execute_result"
    }
   ],
   "source": [
    "# Analisando se existem casos onde todas as colunas são iguais e o score é diferente de 1\n",
    "df_new.filter((F.col('city') == 1) & (F.col('regiao_saude') == 1) & (F.col('date') == 1) & (F.col('epi_week') == 1) & (F.col('codmun') == 1) & (F.col('score') != 1)).count()"
   ]
  },
  {
   "cell_type": "code",
   "execution_count": 17,
   "metadata": {},
   "outputs": [
    {
     "data": {
      "text/plain": [
       "0"
      ]
     },
     "execution_count": 17,
     "metadata": {},
     "output_type": "execute_result"
    }
   ],
   "source": [
    "# Analisando se existe alguma coluna diferente e o score igual de 1\n",
    "df_new.filter((F.col('score') == 1) & ((F.col('city1') != F.col('city2')) | (F.col('regiao_saude1') != F.col('regiao_saude2')) | (F.col('date1') != F.col('date2')) | (F.col('epi_week1') != F.col('epi_week2')) | (F.col('codmun1') != F.col('codmun2')))).count()"
   ]
  }
 ],
 "metadata": {
  "kernelspec": {
   "display_name": "Python 3",
   "language": "python",
   "name": "python3"
  },
  "language_info": {
   "codemirror_mode": {
    "name": "ipython",
    "version": 3
   },
   "file_extension": ".py",
   "mimetype": "text/x-python",
   "name": "python",
   "nbconvert_exporter": "python",
   "pygments_lexer": "ipython3",
   "version": "3.7.4"
  }
 },
 "nbformat": 4,
 "nbformat_minor": 2
}
